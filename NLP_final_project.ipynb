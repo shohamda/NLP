{
  "nbformat": 4,
  "nbformat_minor": 0,
  "metadata": {
    "colab": {
      "name": "NLP project",
      "provenance": [],
      "collapsed_sections": [
        "2FdmMMVP-_6S",
        "y8dXrLkbBBwG",
        "WZmr3Jc9GM4r",
        "fuRX8zbfHATh",
        "L0g6nNQaJXVQ",
        "WyMtIOdQKqQ4",
        "Z-nU-vN7LpNx",
        "pb0kxR7bK2Bh",
        "zdEvElEJLt4j",
        "mTa2H5MVMW_h",
        "FTaXnLqmw1bl"
      ]
    },
    "kernelspec": {
      "name": "python3",
      "display_name": "Python 3"
    },
    "language_info": {
      "name": "python"
    },
    "accelerator": "GPU",
    "widgets": {
      "application/vnd.jupyter.widget-state+json": {
        "a6bd3a9967764863844d378371cda8c4": {
          "model_module": "@jupyter-widgets/controls",
          "model_name": "HBoxModel",
          "model_module_version": "1.5.0",
          "state": {
            "_view_name": "HBoxView",
            "_dom_classes": [],
            "_model_name": "HBoxModel",
            "_view_module": "@jupyter-widgets/controls",
            "_model_module_version": "1.5.0",
            "_view_count": null,
            "_view_module_version": "1.5.0",
            "box_style": "",
            "layout": "IPY_MODEL_81f719be1045478da7797f6ac8da17c1",
            "_model_module": "@jupyter-widgets/controls",
            "children": [
              "IPY_MODEL_1af6d193c72c491a8343a454baf3e2a7",
              "IPY_MODEL_75af55f59f8f496ba1382fd0fe6b27f0",
              "IPY_MODEL_a68dd84f5a8e42b399210d9401777800"
            ]
          }
        },
        "81f719be1045478da7797f6ac8da17c1": {
          "model_module": "@jupyter-widgets/base",
          "model_name": "LayoutModel",
          "model_module_version": "1.2.0",
          "state": {
            "_view_name": "LayoutView",
            "grid_template_rows": null,
            "right": null,
            "justify_content": null,
            "_view_module": "@jupyter-widgets/base",
            "overflow": null,
            "_model_module_version": "1.2.0",
            "_view_count": null,
            "flex_flow": null,
            "width": null,
            "min_width": null,
            "border": null,
            "align_items": null,
            "bottom": null,
            "_model_module": "@jupyter-widgets/base",
            "top": null,
            "grid_column": null,
            "overflow_y": null,
            "overflow_x": null,
            "grid_auto_flow": null,
            "grid_area": null,
            "grid_template_columns": null,
            "flex": null,
            "_model_name": "LayoutModel",
            "justify_items": null,
            "grid_row": null,
            "max_height": null,
            "align_content": null,
            "visibility": null,
            "align_self": null,
            "height": null,
            "min_height": null,
            "padding": null,
            "grid_auto_rows": null,
            "grid_gap": null,
            "max_width": null,
            "order": null,
            "_view_module_version": "1.2.0",
            "grid_template_areas": null,
            "object_position": null,
            "object_fit": null,
            "grid_auto_columns": null,
            "margin": null,
            "display": null,
            "left": null
          }
        },
        "1af6d193c72c491a8343a454baf3e2a7": {
          "model_module": "@jupyter-widgets/controls",
          "model_name": "HTMLModel",
          "model_module_version": "1.5.0",
          "state": {
            "_view_name": "HTMLView",
            "style": "IPY_MODEL_3366236d40bd41a88dee215c78a84803",
            "_dom_classes": [],
            "description": "",
            "_model_name": "HTMLModel",
            "placeholder": "​",
            "_view_module": "@jupyter-widgets/controls",
            "_model_module_version": "1.5.0",
            "value": "Downloading: 100%",
            "_view_count": null,
            "_view_module_version": "1.5.0",
            "description_tooltip": null,
            "_model_module": "@jupyter-widgets/controls",
            "layout": "IPY_MODEL_589070561a5f40628d3afb0755710c6b"
          }
        },
        "75af55f59f8f496ba1382fd0fe6b27f0": {
          "model_module": "@jupyter-widgets/controls",
          "model_name": "FloatProgressModel",
          "model_module_version": "1.5.0",
          "state": {
            "_view_name": "ProgressView",
            "style": "IPY_MODEL_82b8c72a736646c2ae7331c5f4983cb6",
            "_dom_classes": [],
            "description": "",
            "_model_name": "FloatProgressModel",
            "bar_style": "success",
            "max": 231508,
            "_view_module": "@jupyter-widgets/controls",
            "_model_module_version": "1.5.0",
            "value": 231508,
            "_view_count": null,
            "_view_module_version": "1.5.0",
            "orientation": "horizontal",
            "min": 0,
            "description_tooltip": null,
            "_model_module": "@jupyter-widgets/controls",
            "layout": "IPY_MODEL_447a37e8c36444168a7606e7fb989163"
          }
        },
        "a68dd84f5a8e42b399210d9401777800": {
          "model_module": "@jupyter-widgets/controls",
          "model_name": "HTMLModel",
          "model_module_version": "1.5.0",
          "state": {
            "_view_name": "HTMLView",
            "style": "IPY_MODEL_e3404fca4e634b3baa9813ef1a3bd34f",
            "_dom_classes": [],
            "description": "",
            "_model_name": "HTMLModel",
            "placeholder": "​",
            "_view_module": "@jupyter-widgets/controls",
            "_model_module_version": "1.5.0",
            "value": " 232k/232k [00:00&lt;00:00, 557kB/s]",
            "_view_count": null,
            "_view_module_version": "1.5.0",
            "description_tooltip": null,
            "_model_module": "@jupyter-widgets/controls",
            "layout": "IPY_MODEL_b80873065cfc44289d9fbbf9354503a1"
          }
        },
        "3366236d40bd41a88dee215c78a84803": {
          "model_module": "@jupyter-widgets/controls",
          "model_name": "DescriptionStyleModel",
          "model_module_version": "1.5.0",
          "state": {
            "_view_name": "StyleView",
            "_model_name": "DescriptionStyleModel",
            "description_width": "",
            "_view_module": "@jupyter-widgets/base",
            "_model_module_version": "1.5.0",
            "_view_count": null,
            "_view_module_version": "1.2.0",
            "_model_module": "@jupyter-widgets/controls"
          }
        },
        "589070561a5f40628d3afb0755710c6b": {
          "model_module": "@jupyter-widgets/base",
          "model_name": "LayoutModel",
          "model_module_version": "1.2.0",
          "state": {
            "_view_name": "LayoutView",
            "grid_template_rows": null,
            "right": null,
            "justify_content": null,
            "_view_module": "@jupyter-widgets/base",
            "overflow": null,
            "_model_module_version": "1.2.0",
            "_view_count": null,
            "flex_flow": null,
            "width": null,
            "min_width": null,
            "border": null,
            "align_items": null,
            "bottom": null,
            "_model_module": "@jupyter-widgets/base",
            "top": null,
            "grid_column": null,
            "overflow_y": null,
            "overflow_x": null,
            "grid_auto_flow": null,
            "grid_area": null,
            "grid_template_columns": null,
            "flex": null,
            "_model_name": "LayoutModel",
            "justify_items": null,
            "grid_row": null,
            "max_height": null,
            "align_content": null,
            "visibility": null,
            "align_self": null,
            "height": null,
            "min_height": null,
            "padding": null,
            "grid_auto_rows": null,
            "grid_gap": null,
            "max_width": null,
            "order": null,
            "_view_module_version": "1.2.0",
            "grid_template_areas": null,
            "object_position": null,
            "object_fit": null,
            "grid_auto_columns": null,
            "margin": null,
            "display": null,
            "left": null
          }
        },
        "82b8c72a736646c2ae7331c5f4983cb6": {
          "model_module": "@jupyter-widgets/controls",
          "model_name": "ProgressStyleModel",
          "model_module_version": "1.5.0",
          "state": {
            "_view_name": "StyleView",
            "_model_name": "ProgressStyleModel",
            "description_width": "",
            "_view_module": "@jupyter-widgets/base",
            "_model_module_version": "1.5.0",
            "_view_count": null,
            "_view_module_version": "1.2.0",
            "bar_color": null,
            "_model_module": "@jupyter-widgets/controls"
          }
        },
        "447a37e8c36444168a7606e7fb989163": {
          "model_module": "@jupyter-widgets/base",
          "model_name": "LayoutModel",
          "model_module_version": "1.2.0",
          "state": {
            "_view_name": "LayoutView",
            "grid_template_rows": null,
            "right": null,
            "justify_content": null,
            "_view_module": "@jupyter-widgets/base",
            "overflow": null,
            "_model_module_version": "1.2.0",
            "_view_count": null,
            "flex_flow": null,
            "width": null,
            "min_width": null,
            "border": null,
            "align_items": null,
            "bottom": null,
            "_model_module": "@jupyter-widgets/base",
            "top": null,
            "grid_column": null,
            "overflow_y": null,
            "overflow_x": null,
            "grid_auto_flow": null,
            "grid_area": null,
            "grid_template_columns": null,
            "flex": null,
            "_model_name": "LayoutModel",
            "justify_items": null,
            "grid_row": null,
            "max_height": null,
            "align_content": null,
            "visibility": null,
            "align_self": null,
            "height": null,
            "min_height": null,
            "padding": null,
            "grid_auto_rows": null,
            "grid_gap": null,
            "max_width": null,
            "order": null,
            "_view_module_version": "1.2.0",
            "grid_template_areas": null,
            "object_position": null,
            "object_fit": null,
            "grid_auto_columns": null,
            "margin": null,
            "display": null,
            "left": null
          }
        },
        "e3404fca4e634b3baa9813ef1a3bd34f": {
          "model_module": "@jupyter-widgets/controls",
          "model_name": "DescriptionStyleModel",
          "model_module_version": "1.5.0",
          "state": {
            "_view_name": "StyleView",
            "_model_name": "DescriptionStyleModel",
            "description_width": "",
            "_view_module": "@jupyter-widgets/base",
            "_model_module_version": "1.5.0",
            "_view_count": null,
            "_view_module_version": "1.2.0",
            "_model_module": "@jupyter-widgets/controls"
          }
        },
        "b80873065cfc44289d9fbbf9354503a1": {
          "model_module": "@jupyter-widgets/base",
          "model_name": "LayoutModel",
          "model_module_version": "1.2.0",
          "state": {
            "_view_name": "LayoutView",
            "grid_template_rows": null,
            "right": null,
            "justify_content": null,
            "_view_module": "@jupyter-widgets/base",
            "overflow": null,
            "_model_module_version": "1.2.0",
            "_view_count": null,
            "flex_flow": null,
            "width": null,
            "min_width": null,
            "border": null,
            "align_items": null,
            "bottom": null,
            "_model_module": "@jupyter-widgets/base",
            "top": null,
            "grid_column": null,
            "overflow_y": null,
            "overflow_x": null,
            "grid_auto_flow": null,
            "grid_area": null,
            "grid_template_columns": null,
            "flex": null,
            "_model_name": "LayoutModel",
            "justify_items": null,
            "grid_row": null,
            "max_height": null,
            "align_content": null,
            "visibility": null,
            "align_self": null,
            "height": null,
            "min_height": null,
            "padding": null,
            "grid_auto_rows": null,
            "grid_gap": null,
            "max_width": null,
            "order": null,
            "_view_module_version": "1.2.0",
            "grid_template_areas": null,
            "object_position": null,
            "object_fit": null,
            "grid_auto_columns": null,
            "margin": null,
            "display": null,
            "left": null
          }
        },
        "22a8bbfbaa7e450e8280496c055997a1": {
          "model_module": "@jupyter-widgets/controls",
          "model_name": "HBoxModel",
          "model_module_version": "1.5.0",
          "state": {
            "_view_name": "HBoxView",
            "_dom_classes": [],
            "_model_name": "HBoxModel",
            "_view_module": "@jupyter-widgets/controls",
            "_model_module_version": "1.5.0",
            "_view_count": null,
            "_view_module_version": "1.5.0",
            "box_style": "",
            "layout": "IPY_MODEL_e79947f262024537913047c629970561",
            "_model_module": "@jupyter-widgets/controls",
            "children": [
              "IPY_MODEL_3d7a8111ff1846ab86bf0b4ba3f7c005",
              "IPY_MODEL_cbeadd6776be4d42b620c1540f48681b",
              "IPY_MODEL_874ccbe3c30c4c47bf1a070a61b0f1bd"
            ]
          }
        },
        "e79947f262024537913047c629970561": {
          "model_module": "@jupyter-widgets/base",
          "model_name": "LayoutModel",
          "model_module_version": "1.2.0",
          "state": {
            "_view_name": "LayoutView",
            "grid_template_rows": null,
            "right": null,
            "justify_content": null,
            "_view_module": "@jupyter-widgets/base",
            "overflow": null,
            "_model_module_version": "1.2.0",
            "_view_count": null,
            "flex_flow": null,
            "width": null,
            "min_width": null,
            "border": null,
            "align_items": null,
            "bottom": null,
            "_model_module": "@jupyter-widgets/base",
            "top": null,
            "grid_column": null,
            "overflow_y": null,
            "overflow_x": null,
            "grid_auto_flow": null,
            "grid_area": null,
            "grid_template_columns": null,
            "flex": null,
            "_model_name": "LayoutModel",
            "justify_items": null,
            "grid_row": null,
            "max_height": null,
            "align_content": null,
            "visibility": null,
            "align_self": null,
            "height": null,
            "min_height": null,
            "padding": null,
            "grid_auto_rows": null,
            "grid_gap": null,
            "max_width": null,
            "order": null,
            "_view_module_version": "1.2.0",
            "grid_template_areas": null,
            "object_position": null,
            "object_fit": null,
            "grid_auto_columns": null,
            "margin": null,
            "display": null,
            "left": null
          }
        },
        "3d7a8111ff1846ab86bf0b4ba3f7c005": {
          "model_module": "@jupyter-widgets/controls",
          "model_name": "HTMLModel",
          "model_module_version": "1.5.0",
          "state": {
            "_view_name": "HTMLView",
            "style": "IPY_MODEL_83adc871776a4e3e860f6efe236d1cab",
            "_dom_classes": [],
            "description": "",
            "_model_name": "HTMLModel",
            "placeholder": "​",
            "_view_module": "@jupyter-widgets/controls",
            "_model_module_version": "1.5.0",
            "value": "Downloading: 100%",
            "_view_count": null,
            "_view_module_version": "1.5.0",
            "description_tooltip": null,
            "_model_module": "@jupyter-widgets/controls",
            "layout": "IPY_MODEL_7e0ac72d2e75465baa4f88c63006c54a"
          }
        },
        "cbeadd6776be4d42b620c1540f48681b": {
          "model_module": "@jupyter-widgets/controls",
          "model_name": "FloatProgressModel",
          "model_module_version": "1.5.0",
          "state": {
            "_view_name": "ProgressView",
            "style": "IPY_MODEL_ad9502915e1b40dcba0d5654710adf4b",
            "_dom_classes": [],
            "description": "",
            "_model_name": "FloatProgressModel",
            "bar_style": "success",
            "max": 28,
            "_view_module": "@jupyter-widgets/controls",
            "_model_module_version": "1.5.0",
            "value": 28,
            "_view_count": null,
            "_view_module_version": "1.5.0",
            "orientation": "horizontal",
            "min": 0,
            "description_tooltip": null,
            "_model_module": "@jupyter-widgets/controls",
            "layout": "IPY_MODEL_f19b570a6b3e4e428c9fdd5d7dc2f2d7"
          }
        },
        "874ccbe3c30c4c47bf1a070a61b0f1bd": {
          "model_module": "@jupyter-widgets/controls",
          "model_name": "HTMLModel",
          "model_module_version": "1.5.0",
          "state": {
            "_view_name": "HTMLView",
            "style": "IPY_MODEL_d3d6e5a3c24f41948b85b938cb9b3111",
            "_dom_classes": [],
            "description": "",
            "_model_name": "HTMLModel",
            "placeholder": "​",
            "_view_module": "@jupyter-widgets/controls",
            "_model_module_version": "1.5.0",
            "value": " 28.0/28.0 [00:00&lt;00:00, 849B/s]",
            "_view_count": null,
            "_view_module_version": "1.5.0",
            "description_tooltip": null,
            "_model_module": "@jupyter-widgets/controls",
            "layout": "IPY_MODEL_bc98732850b347f2b59ad77c4b8b95e4"
          }
        },
        "83adc871776a4e3e860f6efe236d1cab": {
          "model_module": "@jupyter-widgets/controls",
          "model_name": "DescriptionStyleModel",
          "model_module_version": "1.5.0",
          "state": {
            "_view_name": "StyleView",
            "_model_name": "DescriptionStyleModel",
            "description_width": "",
            "_view_module": "@jupyter-widgets/base",
            "_model_module_version": "1.5.0",
            "_view_count": null,
            "_view_module_version": "1.2.0",
            "_model_module": "@jupyter-widgets/controls"
          }
        },
        "7e0ac72d2e75465baa4f88c63006c54a": {
          "model_module": "@jupyter-widgets/base",
          "model_name": "LayoutModel",
          "model_module_version": "1.2.0",
          "state": {
            "_view_name": "LayoutView",
            "grid_template_rows": null,
            "right": null,
            "justify_content": null,
            "_view_module": "@jupyter-widgets/base",
            "overflow": null,
            "_model_module_version": "1.2.0",
            "_view_count": null,
            "flex_flow": null,
            "width": null,
            "min_width": null,
            "border": null,
            "align_items": null,
            "bottom": null,
            "_model_module": "@jupyter-widgets/base",
            "top": null,
            "grid_column": null,
            "overflow_y": null,
            "overflow_x": null,
            "grid_auto_flow": null,
            "grid_area": null,
            "grid_template_columns": null,
            "flex": null,
            "_model_name": "LayoutModel",
            "justify_items": null,
            "grid_row": null,
            "max_height": null,
            "align_content": null,
            "visibility": null,
            "align_self": null,
            "height": null,
            "min_height": null,
            "padding": null,
            "grid_auto_rows": null,
            "grid_gap": null,
            "max_width": null,
            "order": null,
            "_view_module_version": "1.2.0",
            "grid_template_areas": null,
            "object_position": null,
            "object_fit": null,
            "grid_auto_columns": null,
            "margin": null,
            "display": null,
            "left": null
          }
        },
        "ad9502915e1b40dcba0d5654710adf4b": {
          "model_module": "@jupyter-widgets/controls",
          "model_name": "ProgressStyleModel",
          "model_module_version": "1.5.0",
          "state": {
            "_view_name": "StyleView",
            "_model_name": "ProgressStyleModel",
            "description_width": "",
            "_view_module": "@jupyter-widgets/base",
            "_model_module_version": "1.5.0",
            "_view_count": null,
            "_view_module_version": "1.2.0",
            "bar_color": null,
            "_model_module": "@jupyter-widgets/controls"
          }
        },
        "f19b570a6b3e4e428c9fdd5d7dc2f2d7": {
          "model_module": "@jupyter-widgets/base",
          "model_name": "LayoutModel",
          "model_module_version": "1.2.0",
          "state": {
            "_view_name": "LayoutView",
            "grid_template_rows": null,
            "right": null,
            "justify_content": null,
            "_view_module": "@jupyter-widgets/base",
            "overflow": null,
            "_model_module_version": "1.2.0",
            "_view_count": null,
            "flex_flow": null,
            "width": null,
            "min_width": null,
            "border": null,
            "align_items": null,
            "bottom": null,
            "_model_module": "@jupyter-widgets/base",
            "top": null,
            "grid_column": null,
            "overflow_y": null,
            "overflow_x": null,
            "grid_auto_flow": null,
            "grid_area": null,
            "grid_template_columns": null,
            "flex": null,
            "_model_name": "LayoutModel",
            "justify_items": null,
            "grid_row": null,
            "max_height": null,
            "align_content": null,
            "visibility": null,
            "align_self": null,
            "height": null,
            "min_height": null,
            "padding": null,
            "grid_auto_rows": null,
            "grid_gap": null,
            "max_width": null,
            "order": null,
            "_view_module_version": "1.2.0",
            "grid_template_areas": null,
            "object_position": null,
            "object_fit": null,
            "grid_auto_columns": null,
            "margin": null,
            "display": null,
            "left": null
          }
        },
        "d3d6e5a3c24f41948b85b938cb9b3111": {
          "model_module": "@jupyter-widgets/controls",
          "model_name": "DescriptionStyleModel",
          "model_module_version": "1.5.0",
          "state": {
            "_view_name": "StyleView",
            "_model_name": "DescriptionStyleModel",
            "description_width": "",
            "_view_module": "@jupyter-widgets/base",
            "_model_module_version": "1.5.0",
            "_view_count": null,
            "_view_module_version": "1.2.0",
            "_model_module": "@jupyter-widgets/controls"
          }
        },
        "bc98732850b347f2b59ad77c4b8b95e4": {
          "model_module": "@jupyter-widgets/base",
          "model_name": "LayoutModel",
          "model_module_version": "1.2.0",
          "state": {
            "_view_name": "LayoutView",
            "grid_template_rows": null,
            "right": null,
            "justify_content": null,
            "_view_module": "@jupyter-widgets/base",
            "overflow": null,
            "_model_module_version": "1.2.0",
            "_view_count": null,
            "flex_flow": null,
            "width": null,
            "min_width": null,
            "border": null,
            "align_items": null,
            "bottom": null,
            "_model_module": "@jupyter-widgets/base",
            "top": null,
            "grid_column": null,
            "overflow_y": null,
            "overflow_x": null,
            "grid_auto_flow": null,
            "grid_area": null,
            "grid_template_columns": null,
            "flex": null,
            "_model_name": "LayoutModel",
            "justify_items": null,
            "grid_row": null,
            "max_height": null,
            "align_content": null,
            "visibility": null,
            "align_self": null,
            "height": null,
            "min_height": null,
            "padding": null,
            "grid_auto_rows": null,
            "grid_gap": null,
            "max_width": null,
            "order": null,
            "_view_module_version": "1.2.0",
            "grid_template_areas": null,
            "object_position": null,
            "object_fit": null,
            "grid_auto_columns": null,
            "margin": null,
            "display": null,
            "left": null
          }
        },
        "5ef92599f4cc4cc0b8ed18a20d2ea046": {
          "model_module": "@jupyter-widgets/controls",
          "model_name": "HBoxModel",
          "model_module_version": "1.5.0",
          "state": {
            "_view_name": "HBoxView",
            "_dom_classes": [],
            "_model_name": "HBoxModel",
            "_view_module": "@jupyter-widgets/controls",
            "_model_module_version": "1.5.0",
            "_view_count": null,
            "_view_module_version": "1.5.0",
            "box_style": "",
            "layout": "IPY_MODEL_1984a3a86cc04114971141db9db59b4a",
            "_model_module": "@jupyter-widgets/controls",
            "children": [
              "IPY_MODEL_f391909b91f145c2a084beb1930fb4e9",
              "IPY_MODEL_83cbc3afcb934e05b812da2d6e0cc545",
              "IPY_MODEL_cc2dddc2395147ea8d6cd0da9edf1db0"
            ]
          }
        },
        "1984a3a86cc04114971141db9db59b4a": {
          "model_module": "@jupyter-widgets/base",
          "model_name": "LayoutModel",
          "model_module_version": "1.2.0",
          "state": {
            "_view_name": "LayoutView",
            "grid_template_rows": null,
            "right": null,
            "justify_content": null,
            "_view_module": "@jupyter-widgets/base",
            "overflow": null,
            "_model_module_version": "1.2.0",
            "_view_count": null,
            "flex_flow": null,
            "width": null,
            "min_width": null,
            "border": null,
            "align_items": null,
            "bottom": null,
            "_model_module": "@jupyter-widgets/base",
            "top": null,
            "grid_column": null,
            "overflow_y": null,
            "overflow_x": null,
            "grid_auto_flow": null,
            "grid_area": null,
            "grid_template_columns": null,
            "flex": null,
            "_model_name": "LayoutModel",
            "justify_items": null,
            "grid_row": null,
            "max_height": null,
            "align_content": null,
            "visibility": null,
            "align_self": null,
            "height": null,
            "min_height": null,
            "padding": null,
            "grid_auto_rows": null,
            "grid_gap": null,
            "max_width": null,
            "order": null,
            "_view_module_version": "1.2.0",
            "grid_template_areas": null,
            "object_position": null,
            "object_fit": null,
            "grid_auto_columns": null,
            "margin": null,
            "display": null,
            "left": null
          }
        },
        "f391909b91f145c2a084beb1930fb4e9": {
          "model_module": "@jupyter-widgets/controls",
          "model_name": "HTMLModel",
          "model_module_version": "1.5.0",
          "state": {
            "_view_name": "HTMLView",
            "style": "IPY_MODEL_e90327e9146c47aabfef4eedeef40a54",
            "_dom_classes": [],
            "description": "",
            "_model_name": "HTMLModel",
            "placeholder": "​",
            "_view_module": "@jupyter-widgets/controls",
            "_model_module_version": "1.5.0",
            "value": "Downloading: 100%",
            "_view_count": null,
            "_view_module_version": "1.5.0",
            "description_tooltip": null,
            "_model_module": "@jupyter-widgets/controls",
            "layout": "IPY_MODEL_15b981833edf4439969c048901294ab6"
          }
        },
        "83cbc3afcb934e05b812da2d6e0cc545": {
          "model_module": "@jupyter-widgets/controls",
          "model_name": "FloatProgressModel",
          "model_module_version": "1.5.0",
          "state": {
            "_view_name": "ProgressView",
            "style": "IPY_MODEL_9fa94bc2b23745dbbc40abf4467965a4",
            "_dom_classes": [],
            "description": "",
            "_model_name": "FloatProgressModel",
            "bar_style": "success",
            "max": 466062,
            "_view_module": "@jupyter-widgets/controls",
            "_model_module_version": "1.5.0",
            "value": 466062,
            "_view_count": null,
            "_view_module_version": "1.5.0",
            "orientation": "horizontal",
            "min": 0,
            "description_tooltip": null,
            "_model_module": "@jupyter-widgets/controls",
            "layout": "IPY_MODEL_aaf109fd3be54f5faa6bd68dbf0d36ee"
          }
        },
        "cc2dddc2395147ea8d6cd0da9edf1db0": {
          "model_module": "@jupyter-widgets/controls",
          "model_name": "HTMLModel",
          "model_module_version": "1.5.0",
          "state": {
            "_view_name": "HTMLView",
            "style": "IPY_MODEL_7a9fee99918046f3845fe51bc1732182",
            "_dom_classes": [],
            "description": "",
            "_model_name": "HTMLModel",
            "placeholder": "​",
            "_view_module": "@jupyter-widgets/controls",
            "_model_module_version": "1.5.0",
            "value": " 466k/466k [00:00&lt;00:00, 927kB/s]",
            "_view_count": null,
            "_view_module_version": "1.5.0",
            "description_tooltip": null,
            "_model_module": "@jupyter-widgets/controls",
            "layout": "IPY_MODEL_3d808d5d9d954a0c96b681624ea2ba1e"
          }
        },
        "e90327e9146c47aabfef4eedeef40a54": {
          "model_module": "@jupyter-widgets/controls",
          "model_name": "DescriptionStyleModel",
          "model_module_version": "1.5.0",
          "state": {
            "_view_name": "StyleView",
            "_model_name": "DescriptionStyleModel",
            "description_width": "",
            "_view_module": "@jupyter-widgets/base",
            "_model_module_version": "1.5.0",
            "_view_count": null,
            "_view_module_version": "1.2.0",
            "_model_module": "@jupyter-widgets/controls"
          }
        },
        "15b981833edf4439969c048901294ab6": {
          "model_module": "@jupyter-widgets/base",
          "model_name": "LayoutModel",
          "model_module_version": "1.2.0",
          "state": {
            "_view_name": "LayoutView",
            "grid_template_rows": null,
            "right": null,
            "justify_content": null,
            "_view_module": "@jupyter-widgets/base",
            "overflow": null,
            "_model_module_version": "1.2.0",
            "_view_count": null,
            "flex_flow": null,
            "width": null,
            "min_width": null,
            "border": null,
            "align_items": null,
            "bottom": null,
            "_model_module": "@jupyter-widgets/base",
            "top": null,
            "grid_column": null,
            "overflow_y": null,
            "overflow_x": null,
            "grid_auto_flow": null,
            "grid_area": null,
            "grid_template_columns": null,
            "flex": null,
            "_model_name": "LayoutModel",
            "justify_items": null,
            "grid_row": null,
            "max_height": null,
            "align_content": null,
            "visibility": null,
            "align_self": null,
            "height": null,
            "min_height": null,
            "padding": null,
            "grid_auto_rows": null,
            "grid_gap": null,
            "max_width": null,
            "order": null,
            "_view_module_version": "1.2.0",
            "grid_template_areas": null,
            "object_position": null,
            "object_fit": null,
            "grid_auto_columns": null,
            "margin": null,
            "display": null,
            "left": null
          }
        },
        "9fa94bc2b23745dbbc40abf4467965a4": {
          "model_module": "@jupyter-widgets/controls",
          "model_name": "ProgressStyleModel",
          "model_module_version": "1.5.0",
          "state": {
            "_view_name": "StyleView",
            "_model_name": "ProgressStyleModel",
            "description_width": "",
            "_view_module": "@jupyter-widgets/base",
            "_model_module_version": "1.5.0",
            "_view_count": null,
            "_view_module_version": "1.2.0",
            "bar_color": null,
            "_model_module": "@jupyter-widgets/controls"
          }
        },
        "aaf109fd3be54f5faa6bd68dbf0d36ee": {
          "model_module": "@jupyter-widgets/base",
          "model_name": "LayoutModel",
          "model_module_version": "1.2.0",
          "state": {
            "_view_name": "LayoutView",
            "grid_template_rows": null,
            "right": null,
            "justify_content": null,
            "_view_module": "@jupyter-widgets/base",
            "overflow": null,
            "_model_module_version": "1.2.0",
            "_view_count": null,
            "flex_flow": null,
            "width": null,
            "min_width": null,
            "border": null,
            "align_items": null,
            "bottom": null,
            "_model_module": "@jupyter-widgets/base",
            "top": null,
            "grid_column": null,
            "overflow_y": null,
            "overflow_x": null,
            "grid_auto_flow": null,
            "grid_area": null,
            "grid_template_columns": null,
            "flex": null,
            "_model_name": "LayoutModel",
            "justify_items": null,
            "grid_row": null,
            "max_height": null,
            "align_content": null,
            "visibility": null,
            "align_self": null,
            "height": null,
            "min_height": null,
            "padding": null,
            "grid_auto_rows": null,
            "grid_gap": null,
            "max_width": null,
            "order": null,
            "_view_module_version": "1.2.0",
            "grid_template_areas": null,
            "object_position": null,
            "object_fit": null,
            "grid_auto_columns": null,
            "margin": null,
            "display": null,
            "left": null
          }
        },
        "7a9fee99918046f3845fe51bc1732182": {
          "model_module": "@jupyter-widgets/controls",
          "model_name": "DescriptionStyleModel",
          "model_module_version": "1.5.0",
          "state": {
            "_view_name": "StyleView",
            "_model_name": "DescriptionStyleModel",
            "description_width": "",
            "_view_module": "@jupyter-widgets/base",
            "_model_module_version": "1.5.0",
            "_view_count": null,
            "_view_module_version": "1.2.0",
            "_model_module": "@jupyter-widgets/controls"
          }
        },
        "3d808d5d9d954a0c96b681624ea2ba1e": {
          "model_module": "@jupyter-widgets/base",
          "model_name": "LayoutModel",
          "model_module_version": "1.2.0",
          "state": {
            "_view_name": "LayoutView",
            "grid_template_rows": null,
            "right": null,
            "justify_content": null,
            "_view_module": "@jupyter-widgets/base",
            "overflow": null,
            "_model_module_version": "1.2.0",
            "_view_count": null,
            "flex_flow": null,
            "width": null,
            "min_width": null,
            "border": null,
            "align_items": null,
            "bottom": null,
            "_model_module": "@jupyter-widgets/base",
            "top": null,
            "grid_column": null,
            "overflow_y": null,
            "overflow_x": null,
            "grid_auto_flow": null,
            "grid_area": null,
            "grid_template_columns": null,
            "flex": null,
            "_model_name": "LayoutModel",
            "justify_items": null,
            "grid_row": null,
            "max_height": null,
            "align_content": null,
            "visibility": null,
            "align_self": null,
            "height": null,
            "min_height": null,
            "padding": null,
            "grid_auto_rows": null,
            "grid_gap": null,
            "max_width": null,
            "order": null,
            "_view_module_version": "1.2.0",
            "grid_template_areas": null,
            "object_position": null,
            "object_fit": null,
            "grid_auto_columns": null,
            "margin": null,
            "display": null,
            "left": null
          }
        },
        "0925f90975264e3caa0fe04ad8f3e650": {
          "model_module": "@jupyter-widgets/controls",
          "model_name": "HBoxModel",
          "model_module_version": "1.5.0",
          "state": {
            "_view_name": "HBoxView",
            "_dom_classes": [],
            "_model_name": "HBoxModel",
            "_view_module": "@jupyter-widgets/controls",
            "_model_module_version": "1.5.0",
            "_view_count": null,
            "_view_module_version": "1.5.0",
            "box_style": "",
            "layout": "IPY_MODEL_2dc4bfa4a6534a40a96586cd5806303d",
            "_model_module": "@jupyter-widgets/controls",
            "children": [
              "IPY_MODEL_ae64b661bd5e42ae94e6836ddee8dd70",
              "IPY_MODEL_b0a011c7ae6f48d3bae605ab4907522c",
              "IPY_MODEL_2d6a3e5866e24534bf137082d022b4f4"
            ]
          }
        },
        "2dc4bfa4a6534a40a96586cd5806303d": {
          "model_module": "@jupyter-widgets/base",
          "model_name": "LayoutModel",
          "model_module_version": "1.2.0",
          "state": {
            "_view_name": "LayoutView",
            "grid_template_rows": null,
            "right": null,
            "justify_content": null,
            "_view_module": "@jupyter-widgets/base",
            "overflow": null,
            "_model_module_version": "1.2.0",
            "_view_count": null,
            "flex_flow": null,
            "width": null,
            "min_width": null,
            "border": null,
            "align_items": null,
            "bottom": null,
            "_model_module": "@jupyter-widgets/base",
            "top": null,
            "grid_column": null,
            "overflow_y": null,
            "overflow_x": null,
            "grid_auto_flow": null,
            "grid_area": null,
            "grid_template_columns": null,
            "flex": null,
            "_model_name": "LayoutModel",
            "justify_items": null,
            "grid_row": null,
            "max_height": null,
            "align_content": null,
            "visibility": null,
            "align_self": null,
            "height": null,
            "min_height": null,
            "padding": null,
            "grid_auto_rows": null,
            "grid_gap": null,
            "max_width": null,
            "order": null,
            "_view_module_version": "1.2.0",
            "grid_template_areas": null,
            "object_position": null,
            "object_fit": null,
            "grid_auto_columns": null,
            "margin": null,
            "display": null,
            "left": null
          }
        },
        "ae64b661bd5e42ae94e6836ddee8dd70": {
          "model_module": "@jupyter-widgets/controls",
          "model_name": "HTMLModel",
          "model_module_version": "1.5.0",
          "state": {
            "_view_name": "HTMLView",
            "style": "IPY_MODEL_4717fcedfbae48138b52ce9ee7a05ef1",
            "_dom_classes": [],
            "description": "",
            "_model_name": "HTMLModel",
            "placeholder": "​",
            "_view_module": "@jupyter-widgets/controls",
            "_model_module_version": "1.5.0",
            "value": "Downloading: 100%",
            "_view_count": null,
            "_view_module_version": "1.5.0",
            "description_tooltip": null,
            "_model_module": "@jupyter-widgets/controls",
            "layout": "IPY_MODEL_109588c488b043b28a69414501fa9e2a"
          }
        },
        "b0a011c7ae6f48d3bae605ab4907522c": {
          "model_module": "@jupyter-widgets/controls",
          "model_name": "FloatProgressModel",
          "model_module_version": "1.5.0",
          "state": {
            "_view_name": "ProgressView",
            "style": "IPY_MODEL_1df1c23a1ff343d69e8469209358c37e",
            "_dom_classes": [],
            "description": "",
            "_model_name": "FloatProgressModel",
            "bar_style": "success",
            "max": 570,
            "_view_module": "@jupyter-widgets/controls",
            "_model_module_version": "1.5.0",
            "value": 570,
            "_view_count": null,
            "_view_module_version": "1.5.0",
            "orientation": "horizontal",
            "min": 0,
            "description_tooltip": null,
            "_model_module": "@jupyter-widgets/controls",
            "layout": "IPY_MODEL_dedac1b75712442fb341fdb82cd0cd44"
          }
        },
        "2d6a3e5866e24534bf137082d022b4f4": {
          "model_module": "@jupyter-widgets/controls",
          "model_name": "HTMLModel",
          "model_module_version": "1.5.0",
          "state": {
            "_view_name": "HTMLView",
            "style": "IPY_MODEL_959e0e0ec79341189b5d57590d612877",
            "_dom_classes": [],
            "description": "",
            "_model_name": "HTMLModel",
            "placeholder": "​",
            "_view_module": "@jupyter-widgets/controls",
            "_model_module_version": "1.5.0",
            "value": " 570/570 [00:00&lt;00:00, 14.5kB/s]",
            "_view_count": null,
            "_view_module_version": "1.5.0",
            "description_tooltip": null,
            "_model_module": "@jupyter-widgets/controls",
            "layout": "IPY_MODEL_8166bf7207ff435a9d0d33b05f24f666"
          }
        },
        "4717fcedfbae48138b52ce9ee7a05ef1": {
          "model_module": "@jupyter-widgets/controls",
          "model_name": "DescriptionStyleModel",
          "model_module_version": "1.5.0",
          "state": {
            "_view_name": "StyleView",
            "_model_name": "DescriptionStyleModel",
            "description_width": "",
            "_view_module": "@jupyter-widgets/base",
            "_model_module_version": "1.5.0",
            "_view_count": null,
            "_view_module_version": "1.2.0",
            "_model_module": "@jupyter-widgets/controls"
          }
        },
        "109588c488b043b28a69414501fa9e2a": {
          "model_module": "@jupyter-widgets/base",
          "model_name": "LayoutModel",
          "model_module_version": "1.2.0",
          "state": {
            "_view_name": "LayoutView",
            "grid_template_rows": null,
            "right": null,
            "justify_content": null,
            "_view_module": "@jupyter-widgets/base",
            "overflow": null,
            "_model_module_version": "1.2.0",
            "_view_count": null,
            "flex_flow": null,
            "width": null,
            "min_width": null,
            "border": null,
            "align_items": null,
            "bottom": null,
            "_model_module": "@jupyter-widgets/base",
            "top": null,
            "grid_column": null,
            "overflow_y": null,
            "overflow_x": null,
            "grid_auto_flow": null,
            "grid_area": null,
            "grid_template_columns": null,
            "flex": null,
            "_model_name": "LayoutModel",
            "justify_items": null,
            "grid_row": null,
            "max_height": null,
            "align_content": null,
            "visibility": null,
            "align_self": null,
            "height": null,
            "min_height": null,
            "padding": null,
            "grid_auto_rows": null,
            "grid_gap": null,
            "max_width": null,
            "order": null,
            "_view_module_version": "1.2.0",
            "grid_template_areas": null,
            "object_position": null,
            "object_fit": null,
            "grid_auto_columns": null,
            "margin": null,
            "display": null,
            "left": null
          }
        },
        "1df1c23a1ff343d69e8469209358c37e": {
          "model_module": "@jupyter-widgets/controls",
          "model_name": "ProgressStyleModel",
          "model_module_version": "1.5.0",
          "state": {
            "_view_name": "StyleView",
            "_model_name": "ProgressStyleModel",
            "description_width": "",
            "_view_module": "@jupyter-widgets/base",
            "_model_module_version": "1.5.0",
            "_view_count": null,
            "_view_module_version": "1.2.0",
            "bar_color": null,
            "_model_module": "@jupyter-widgets/controls"
          }
        },
        "dedac1b75712442fb341fdb82cd0cd44": {
          "model_module": "@jupyter-widgets/base",
          "model_name": "LayoutModel",
          "model_module_version": "1.2.0",
          "state": {
            "_view_name": "LayoutView",
            "grid_template_rows": null,
            "right": null,
            "justify_content": null,
            "_view_module": "@jupyter-widgets/base",
            "overflow": null,
            "_model_module_version": "1.2.0",
            "_view_count": null,
            "flex_flow": null,
            "width": null,
            "min_width": null,
            "border": null,
            "align_items": null,
            "bottom": null,
            "_model_module": "@jupyter-widgets/base",
            "top": null,
            "grid_column": null,
            "overflow_y": null,
            "overflow_x": null,
            "grid_auto_flow": null,
            "grid_area": null,
            "grid_template_columns": null,
            "flex": null,
            "_model_name": "LayoutModel",
            "justify_items": null,
            "grid_row": null,
            "max_height": null,
            "align_content": null,
            "visibility": null,
            "align_self": null,
            "height": null,
            "min_height": null,
            "padding": null,
            "grid_auto_rows": null,
            "grid_gap": null,
            "max_width": null,
            "order": null,
            "_view_module_version": "1.2.0",
            "grid_template_areas": null,
            "object_position": null,
            "object_fit": null,
            "grid_auto_columns": null,
            "margin": null,
            "display": null,
            "left": null
          }
        },
        "959e0e0ec79341189b5d57590d612877": {
          "model_module": "@jupyter-widgets/controls",
          "model_name": "DescriptionStyleModel",
          "model_module_version": "1.5.0",
          "state": {
            "_view_name": "StyleView",
            "_model_name": "DescriptionStyleModel",
            "description_width": "",
            "_view_module": "@jupyter-widgets/base",
            "_model_module_version": "1.5.0",
            "_view_count": null,
            "_view_module_version": "1.2.0",
            "_model_module": "@jupyter-widgets/controls"
          }
        },
        "8166bf7207ff435a9d0d33b05f24f666": {
          "model_module": "@jupyter-widgets/base",
          "model_name": "LayoutModel",
          "model_module_version": "1.2.0",
          "state": {
            "_view_name": "LayoutView",
            "grid_template_rows": null,
            "right": null,
            "justify_content": null,
            "_view_module": "@jupyter-widgets/base",
            "overflow": null,
            "_model_module_version": "1.2.0",
            "_view_count": null,
            "flex_flow": null,
            "width": null,
            "min_width": null,
            "border": null,
            "align_items": null,
            "bottom": null,
            "_model_module": "@jupyter-widgets/base",
            "top": null,
            "grid_column": null,
            "overflow_y": null,
            "overflow_x": null,
            "grid_auto_flow": null,
            "grid_area": null,
            "grid_template_columns": null,
            "flex": null,
            "_model_name": "LayoutModel",
            "justify_items": null,
            "grid_row": null,
            "max_height": null,
            "align_content": null,
            "visibility": null,
            "align_self": null,
            "height": null,
            "min_height": null,
            "padding": null,
            "grid_auto_rows": null,
            "grid_gap": null,
            "max_width": null,
            "order": null,
            "_view_module_version": "1.2.0",
            "grid_template_areas": null,
            "object_position": null,
            "object_fit": null,
            "grid_auto_columns": null,
            "margin": null,
            "display": null,
            "left": null
          }
        },
        "301a915e7fca4e8b8c94797d2f93611e": {
          "model_module": "@jupyter-widgets/controls",
          "model_name": "HBoxModel",
          "model_module_version": "1.5.0",
          "state": {
            "_view_name": "HBoxView",
            "_dom_classes": [],
            "_model_name": "HBoxModel",
            "_view_module": "@jupyter-widgets/controls",
            "_model_module_version": "1.5.0",
            "_view_count": null,
            "_view_module_version": "1.5.0",
            "box_style": "",
            "layout": "IPY_MODEL_bc483e1a1a5c4ecb9fa9622e614881b7",
            "_model_module": "@jupyter-widgets/controls",
            "children": [
              "IPY_MODEL_765b07197c524244af41304148419d48",
              "IPY_MODEL_30e3db99258845da88c9525ac6765d4f",
              "IPY_MODEL_7dead28b42344618ab449351028e3808"
            ]
          }
        },
        "bc483e1a1a5c4ecb9fa9622e614881b7": {
          "model_module": "@jupyter-widgets/base",
          "model_name": "LayoutModel",
          "model_module_version": "1.2.0",
          "state": {
            "_view_name": "LayoutView",
            "grid_template_rows": null,
            "right": null,
            "justify_content": null,
            "_view_module": "@jupyter-widgets/base",
            "overflow": null,
            "_model_module_version": "1.2.0",
            "_view_count": null,
            "flex_flow": null,
            "width": null,
            "min_width": null,
            "border": null,
            "align_items": null,
            "bottom": null,
            "_model_module": "@jupyter-widgets/base",
            "top": null,
            "grid_column": null,
            "overflow_y": null,
            "overflow_x": null,
            "grid_auto_flow": null,
            "grid_area": null,
            "grid_template_columns": null,
            "flex": null,
            "_model_name": "LayoutModel",
            "justify_items": null,
            "grid_row": null,
            "max_height": null,
            "align_content": null,
            "visibility": null,
            "align_self": null,
            "height": null,
            "min_height": null,
            "padding": null,
            "grid_auto_rows": null,
            "grid_gap": null,
            "max_width": null,
            "order": null,
            "_view_module_version": "1.2.0",
            "grid_template_areas": null,
            "object_position": null,
            "object_fit": null,
            "grid_auto_columns": null,
            "margin": null,
            "display": null,
            "left": null
          }
        },
        "765b07197c524244af41304148419d48": {
          "model_module": "@jupyter-widgets/controls",
          "model_name": "HTMLModel",
          "model_module_version": "1.5.0",
          "state": {
            "_view_name": "HTMLView",
            "style": "IPY_MODEL_e665200a376e4c44a7571949113b0f75",
            "_dom_classes": [],
            "description": "",
            "_model_name": "HTMLModel",
            "placeholder": "​",
            "_view_module": "@jupyter-widgets/controls",
            "_model_module_version": "1.5.0",
            "value": "Downloading: 100%",
            "_view_count": null,
            "_view_module_version": "1.5.0",
            "description_tooltip": null,
            "_model_module": "@jupyter-widgets/controls",
            "layout": "IPY_MODEL_b0fe83e3f6ce4927bdf4c662da6f6482"
          }
        },
        "30e3db99258845da88c9525ac6765d4f": {
          "model_module": "@jupyter-widgets/controls",
          "model_name": "FloatProgressModel",
          "model_module_version": "1.5.0",
          "state": {
            "_view_name": "ProgressView",
            "style": "IPY_MODEL_ec0d94aedda048dfa2fb409650f491ce",
            "_dom_classes": [],
            "description": "",
            "_model_name": "FloatProgressModel",
            "bar_style": "success",
            "max": 440473133,
            "_view_module": "@jupyter-widgets/controls",
            "_model_module_version": "1.5.0",
            "value": 440473133,
            "_view_count": null,
            "_view_module_version": "1.5.0",
            "orientation": "horizontal",
            "min": 0,
            "description_tooltip": null,
            "_model_module": "@jupyter-widgets/controls",
            "layout": "IPY_MODEL_f86e95f9a5104a96aa820f47665d09b4"
          }
        },
        "7dead28b42344618ab449351028e3808": {
          "model_module": "@jupyter-widgets/controls",
          "model_name": "HTMLModel",
          "model_module_version": "1.5.0",
          "state": {
            "_view_name": "HTMLView",
            "style": "IPY_MODEL_f770ed636da14405a0d9196389d9466f",
            "_dom_classes": [],
            "description": "",
            "_model_name": "HTMLModel",
            "placeholder": "​",
            "_view_module": "@jupyter-widgets/controls",
            "_model_module_version": "1.5.0",
            "value": " 440M/440M [00:08&lt;00:00, 47.9MB/s]",
            "_view_count": null,
            "_view_module_version": "1.5.0",
            "description_tooltip": null,
            "_model_module": "@jupyter-widgets/controls",
            "layout": "IPY_MODEL_d5d2a2043aed432cb1c809ed4a0faf3d"
          }
        },
        "e665200a376e4c44a7571949113b0f75": {
          "model_module": "@jupyter-widgets/controls",
          "model_name": "DescriptionStyleModel",
          "model_module_version": "1.5.0",
          "state": {
            "_view_name": "StyleView",
            "_model_name": "DescriptionStyleModel",
            "description_width": "",
            "_view_module": "@jupyter-widgets/base",
            "_model_module_version": "1.5.0",
            "_view_count": null,
            "_view_module_version": "1.2.0",
            "_model_module": "@jupyter-widgets/controls"
          }
        },
        "b0fe83e3f6ce4927bdf4c662da6f6482": {
          "model_module": "@jupyter-widgets/base",
          "model_name": "LayoutModel",
          "model_module_version": "1.2.0",
          "state": {
            "_view_name": "LayoutView",
            "grid_template_rows": null,
            "right": null,
            "justify_content": null,
            "_view_module": "@jupyter-widgets/base",
            "overflow": null,
            "_model_module_version": "1.2.0",
            "_view_count": null,
            "flex_flow": null,
            "width": null,
            "min_width": null,
            "border": null,
            "align_items": null,
            "bottom": null,
            "_model_module": "@jupyter-widgets/base",
            "top": null,
            "grid_column": null,
            "overflow_y": null,
            "overflow_x": null,
            "grid_auto_flow": null,
            "grid_area": null,
            "grid_template_columns": null,
            "flex": null,
            "_model_name": "LayoutModel",
            "justify_items": null,
            "grid_row": null,
            "max_height": null,
            "align_content": null,
            "visibility": null,
            "align_self": null,
            "height": null,
            "min_height": null,
            "padding": null,
            "grid_auto_rows": null,
            "grid_gap": null,
            "max_width": null,
            "order": null,
            "_view_module_version": "1.2.0",
            "grid_template_areas": null,
            "object_position": null,
            "object_fit": null,
            "grid_auto_columns": null,
            "margin": null,
            "display": null,
            "left": null
          }
        },
        "ec0d94aedda048dfa2fb409650f491ce": {
          "model_module": "@jupyter-widgets/controls",
          "model_name": "ProgressStyleModel",
          "model_module_version": "1.5.0",
          "state": {
            "_view_name": "StyleView",
            "_model_name": "ProgressStyleModel",
            "description_width": "",
            "_view_module": "@jupyter-widgets/base",
            "_model_module_version": "1.5.0",
            "_view_count": null,
            "_view_module_version": "1.2.0",
            "bar_color": null,
            "_model_module": "@jupyter-widgets/controls"
          }
        },
        "f86e95f9a5104a96aa820f47665d09b4": {
          "model_module": "@jupyter-widgets/base",
          "model_name": "LayoutModel",
          "model_module_version": "1.2.0",
          "state": {
            "_view_name": "LayoutView",
            "grid_template_rows": null,
            "right": null,
            "justify_content": null,
            "_view_module": "@jupyter-widgets/base",
            "overflow": null,
            "_model_module_version": "1.2.0",
            "_view_count": null,
            "flex_flow": null,
            "width": null,
            "min_width": null,
            "border": null,
            "align_items": null,
            "bottom": null,
            "_model_module": "@jupyter-widgets/base",
            "top": null,
            "grid_column": null,
            "overflow_y": null,
            "overflow_x": null,
            "grid_auto_flow": null,
            "grid_area": null,
            "grid_template_columns": null,
            "flex": null,
            "_model_name": "LayoutModel",
            "justify_items": null,
            "grid_row": null,
            "max_height": null,
            "align_content": null,
            "visibility": null,
            "align_self": null,
            "height": null,
            "min_height": null,
            "padding": null,
            "grid_auto_rows": null,
            "grid_gap": null,
            "max_width": null,
            "order": null,
            "_view_module_version": "1.2.0",
            "grid_template_areas": null,
            "object_position": null,
            "object_fit": null,
            "grid_auto_columns": null,
            "margin": null,
            "display": null,
            "left": null
          }
        },
        "f770ed636da14405a0d9196389d9466f": {
          "model_module": "@jupyter-widgets/controls",
          "model_name": "DescriptionStyleModel",
          "model_module_version": "1.5.0",
          "state": {
            "_view_name": "StyleView",
            "_model_name": "DescriptionStyleModel",
            "description_width": "",
            "_view_module": "@jupyter-widgets/base",
            "_model_module_version": "1.5.0",
            "_view_count": null,
            "_view_module_version": "1.2.0",
            "_model_module": "@jupyter-widgets/controls"
          }
        },
        "d5d2a2043aed432cb1c809ed4a0faf3d": {
          "model_module": "@jupyter-widgets/base",
          "model_name": "LayoutModel",
          "model_module_version": "1.2.0",
          "state": {
            "_view_name": "LayoutView",
            "grid_template_rows": null,
            "right": null,
            "justify_content": null,
            "_view_module": "@jupyter-widgets/base",
            "overflow": null,
            "_model_module_version": "1.2.0",
            "_view_count": null,
            "flex_flow": null,
            "width": null,
            "min_width": null,
            "border": null,
            "align_items": null,
            "bottom": null,
            "_model_module": "@jupyter-widgets/base",
            "top": null,
            "grid_column": null,
            "overflow_y": null,
            "overflow_x": null,
            "grid_auto_flow": null,
            "grid_area": null,
            "grid_template_columns": null,
            "flex": null,
            "_model_name": "LayoutModel",
            "justify_items": null,
            "grid_row": null,
            "max_height": null,
            "align_content": null,
            "visibility": null,
            "align_self": null,
            "height": null,
            "min_height": null,
            "padding": null,
            "grid_auto_rows": null,
            "grid_gap": null,
            "max_width": null,
            "order": null,
            "_view_module_version": "1.2.0",
            "grid_template_areas": null,
            "object_position": null,
            "object_fit": null,
            "grid_auto_columns": null,
            "margin": null,
            "display": null,
            "left": null
          }
        }
      }
    }
  },
  "cells": [
    {
      "cell_type": "markdown",
      "metadata": {
        "id": "v7MInsUr8GL0"
      },
      "source": [
        "#### import packages and datasets"
      ]
    },
    {
      "cell_type": "code",
      "metadata": {
        "colab": {
          "base_uri": "https://localhost:8080/"
        },
        "id": "1ZsR8I9qWXCN",
        "outputId": "b3b49611-a22e-4e44-988a-16d549ea0a0c"
      },
      "source": [
        "!pip install langdetect"
      ],
      "execution_count": null,
      "outputs": [
        {
          "output_type": "stream",
          "text": [
            "Collecting langdetect\n",
            "  Downloading langdetect-1.0.9.tar.gz (981 kB)\n",
            "\u001b[?25l\r\u001b[K     |▍                               | 10 kB 33.9 MB/s eta 0:00:01\r\u001b[K     |▊                               | 20 kB 24.4 MB/s eta 0:00:01\r\u001b[K     |█                               | 30 kB 18.3 MB/s eta 0:00:01\r\u001b[K     |█▍                              | 40 kB 16.0 MB/s eta 0:00:01\r\u001b[K     |█▊                              | 51 kB 7.9 MB/s eta 0:00:01\r\u001b[K     |██                              | 61 kB 7.7 MB/s eta 0:00:01\r\u001b[K     |██▍                             | 71 kB 8.0 MB/s eta 0:00:01\r\u001b[K     |██▊                             | 81 kB 9.0 MB/s eta 0:00:01\r\u001b[K     |███                             | 92 kB 9.5 MB/s eta 0:00:01\r\u001b[K     |███▍                            | 102 kB 7.5 MB/s eta 0:00:01\r\u001b[K     |███▊                            | 112 kB 7.5 MB/s eta 0:00:01\r\u001b[K     |████                            | 122 kB 7.5 MB/s eta 0:00:01\r\u001b[K     |████▍                           | 133 kB 7.5 MB/s eta 0:00:01\r\u001b[K     |████▊                           | 143 kB 7.5 MB/s eta 0:00:01\r\u001b[K     |█████                           | 153 kB 7.5 MB/s eta 0:00:01\r\u001b[K     |█████▍                          | 163 kB 7.5 MB/s eta 0:00:01\r\u001b[K     |█████▊                          | 174 kB 7.5 MB/s eta 0:00:01\r\u001b[K     |██████                          | 184 kB 7.5 MB/s eta 0:00:01\r\u001b[K     |██████▍                         | 194 kB 7.5 MB/s eta 0:00:01\r\u001b[K     |██████▊                         | 204 kB 7.5 MB/s eta 0:00:01\r\u001b[K     |███████                         | 215 kB 7.5 MB/s eta 0:00:01\r\u001b[K     |███████▍                        | 225 kB 7.5 MB/s eta 0:00:01\r\u001b[K     |███████▊                        | 235 kB 7.5 MB/s eta 0:00:01\r\u001b[K     |████████                        | 245 kB 7.5 MB/s eta 0:00:01\r\u001b[K     |████████▍                       | 256 kB 7.5 MB/s eta 0:00:01\r\u001b[K     |████████▊                       | 266 kB 7.5 MB/s eta 0:00:01\r\u001b[K     |█████████                       | 276 kB 7.5 MB/s eta 0:00:01\r\u001b[K     |█████████▍                      | 286 kB 7.5 MB/s eta 0:00:01\r\u001b[K     |█████████▊                      | 296 kB 7.5 MB/s eta 0:00:01\r\u001b[K     |██████████                      | 307 kB 7.5 MB/s eta 0:00:01\r\u001b[K     |██████████▍                     | 317 kB 7.5 MB/s eta 0:00:01\r\u001b[K     |██████████▊                     | 327 kB 7.5 MB/s eta 0:00:01\r\u001b[K     |███████████                     | 337 kB 7.5 MB/s eta 0:00:01\r\u001b[K     |███████████▍                    | 348 kB 7.5 MB/s eta 0:00:01\r\u001b[K     |███████████▊                    | 358 kB 7.5 MB/s eta 0:00:01\r\u001b[K     |████████████                    | 368 kB 7.5 MB/s eta 0:00:01\r\u001b[K     |████████████▍                   | 378 kB 7.5 MB/s eta 0:00:01\r\u001b[K     |████████████▊                   | 389 kB 7.5 MB/s eta 0:00:01\r\u001b[K     |█████████████                   | 399 kB 7.5 MB/s eta 0:00:01\r\u001b[K     |█████████████▍                  | 409 kB 7.5 MB/s eta 0:00:01\r\u001b[K     |█████████████▊                  | 419 kB 7.5 MB/s eta 0:00:01\r\u001b[K     |██████████████                  | 430 kB 7.5 MB/s eta 0:00:01\r\u001b[K     |██████████████▍                 | 440 kB 7.5 MB/s eta 0:00:01\r\u001b[K     |██████████████▊                 | 450 kB 7.5 MB/s eta 0:00:01\r\u001b[K     |███████████████                 | 460 kB 7.5 MB/s eta 0:00:01\r\u001b[K     |███████████████▍                | 471 kB 7.5 MB/s eta 0:00:01\r\u001b[K     |███████████████▊                | 481 kB 7.5 MB/s eta 0:00:01\r\u001b[K     |████████████████                | 491 kB 7.5 MB/s eta 0:00:01\r\u001b[K     |████████████████▍               | 501 kB 7.5 MB/s eta 0:00:01\r\u001b[K     |████████████████▊               | 512 kB 7.5 MB/s eta 0:00:01\r\u001b[K     |█████████████████               | 522 kB 7.5 MB/s eta 0:00:01\r\u001b[K     |█████████████████▍              | 532 kB 7.5 MB/s eta 0:00:01\r\u001b[K     |█████████████████▊              | 542 kB 7.5 MB/s eta 0:00:01\r\u001b[K     |██████████████████              | 552 kB 7.5 MB/s eta 0:00:01\r\u001b[K     |██████████████████▍             | 563 kB 7.5 MB/s eta 0:00:01\r\u001b[K     |██████████████████▊             | 573 kB 7.5 MB/s eta 0:00:01\r\u001b[K     |███████████████████             | 583 kB 7.5 MB/s eta 0:00:01\r\u001b[K     |███████████████████▍            | 593 kB 7.5 MB/s eta 0:00:01\r\u001b[K     |███████████████████▊            | 604 kB 7.5 MB/s eta 0:00:01\r\u001b[K     |████████████████████            | 614 kB 7.5 MB/s eta 0:00:01\r\u001b[K     |████████████████████▍           | 624 kB 7.5 MB/s eta 0:00:01\r\u001b[K     |████████████████████▊           | 634 kB 7.5 MB/s eta 0:00:01\r\u001b[K     |█████████████████████           | 645 kB 7.5 MB/s eta 0:00:01\r\u001b[K     |█████████████████████▍          | 655 kB 7.5 MB/s eta 0:00:01\r\u001b[K     |█████████████████████▊          | 665 kB 7.5 MB/s eta 0:00:01\r\u001b[K     |██████████████████████          | 675 kB 7.5 MB/s eta 0:00:01\r\u001b[K     |██████████████████████▍         | 686 kB 7.5 MB/s eta 0:00:01\r\u001b[K     |██████████████████████▊         | 696 kB 7.5 MB/s eta 0:00:01\r\u001b[K     |███████████████████████         | 706 kB 7.5 MB/s eta 0:00:01\r\u001b[K     |███████████████████████▍        | 716 kB 7.5 MB/s eta 0:00:01\r\u001b[K     |███████████████████████▊        | 727 kB 7.5 MB/s eta 0:00:01\r\u001b[K     |████████████████████████        | 737 kB 7.5 MB/s eta 0:00:01\r\u001b[K     |████████████████████████▍       | 747 kB 7.5 MB/s eta 0:00:01\r\u001b[K     |████████████████████████▊       | 757 kB 7.5 MB/s eta 0:00:01\r\u001b[K     |█████████████████████████       | 768 kB 7.5 MB/s eta 0:00:01\r\u001b[K     |█████████████████████████▍      | 778 kB 7.5 MB/s eta 0:00:01\r\u001b[K     |█████████████████████████▊      | 788 kB 7.5 MB/s eta 0:00:01\r\u001b[K     |██████████████████████████      | 798 kB 7.5 MB/s eta 0:00:01\r\u001b[K     |██████████████████████████▍     | 808 kB 7.5 MB/s eta 0:00:01\r\u001b[K     |██████████████████████████▊     | 819 kB 7.5 MB/s eta 0:00:01\r\u001b[K     |███████████████████████████     | 829 kB 7.5 MB/s eta 0:00:01\r\u001b[K     |███████████████████████████▍    | 839 kB 7.5 MB/s eta 0:00:01\r\u001b[K     |███████████████████████████▊    | 849 kB 7.5 MB/s eta 0:00:01\r\u001b[K     |████████████████████████████    | 860 kB 7.5 MB/s eta 0:00:01\r\u001b[K     |████████████████████████████▍   | 870 kB 7.5 MB/s eta 0:00:01\r\u001b[K     |████████████████████████████▊   | 880 kB 7.5 MB/s eta 0:00:01\r\u001b[K     |█████████████████████████████   | 890 kB 7.5 MB/s eta 0:00:01\r\u001b[K     |█████████████████████████████▍  | 901 kB 7.5 MB/s eta 0:00:01\r\u001b[K     |█████████████████████████████▊  | 911 kB 7.5 MB/s eta 0:00:01\r\u001b[K     |██████████████████████████████  | 921 kB 7.5 MB/s eta 0:00:01\r\u001b[K     |██████████████████████████████▍ | 931 kB 7.5 MB/s eta 0:00:01\r\u001b[K     |██████████████████████████████▊ | 942 kB 7.5 MB/s eta 0:00:01\r\u001b[K     |███████████████████████████████ | 952 kB 7.5 MB/s eta 0:00:01\r\u001b[K     |███████████████████████████████▍| 962 kB 7.5 MB/s eta 0:00:01\r\u001b[K     |███████████████████████████████▊| 972 kB 7.5 MB/s eta 0:00:01\r\u001b[K     |████████████████████████████████| 981 kB 7.5 MB/s \n",
            "\u001b[?25hRequirement already satisfied: six in /usr/local/lib/python3.7/dist-packages (from langdetect) (1.15.0)\n",
            "Building wheels for collected packages: langdetect\n",
            "  Building wheel for langdetect (setup.py) ... \u001b[?25l\u001b[?25hdone\n",
            "  Created wheel for langdetect: filename=langdetect-1.0.9-py3-none-any.whl size=993242 sha256=1fde19d3262e6928c716b47d849fcfa20952dc07cec7eb2a810ab1bd01da3e04\n",
            "  Stored in directory: /root/.cache/pip/wheels/c5/96/8a/f90c59ed25d75e50a8c10a1b1c2d4c402e4dacfa87f3aff36a\n",
            "Successfully built langdetect\n",
            "Installing collected packages: langdetect\n",
            "Successfully installed langdetect-1.0.9\n"
          ],
          "name": "stdout"
        }
      ]
    },
    {
      "cell_type": "code",
      "metadata": {
        "id": "cesirRRp-kig"
      },
      "source": [
        "from langdetect import detect\n",
        "import pandas as pd\n",
        "import re"
      ],
      "execution_count": null,
      "outputs": []
    },
    {
      "cell_type": "code",
      "metadata": {
        "colab": {
          "base_uri": "https://localhost:8080/"
        },
        "id": "iHAbYVuB9jfj",
        "outputId": "86b640ea-e498-452c-b965-296eb8ee138b"
      },
      "source": [
        "# nlp.sga@gmail.com\n",
        "# password: NLPnlp123\n",
        "\n",
        "from google.colab import drive\n",
        "drive.mount(\"/content/drive\")"
      ],
      "execution_count": null,
      "outputs": [
        {
          "output_type": "stream",
          "text": [
            "Mounted at /content/drive\n"
          ],
          "name": "stdout"
        }
      ]
    },
    {
      "cell_type": "markdown",
      "metadata": {
        "id": "2FdmMMVP-_6S"
      },
      "source": [
        "## DATA PREPROCESSING"
      ]
    },
    {
      "cell_type": "code",
      "metadata": {
        "id": "3dBTdLSq9z0H"
      },
      "source": [
        "airlines = pd.read_csv('/content/drive/My Drive/airlines.csv', encoding= 'unicode_escape')\n",
        "ebay = pd.read_csv('/content/drive/My Drive/ebay.csv')\n",
        "hotels1 = pd.read_csv('/content/drive/My Drive/hotels1.csv', encoding= 'unicode_escape')\n",
        "hotels2 = pd.read_csv('/content/drive/My Drive/hotels2.csv')\n",
        "hotels3 = pd.read_csv('/content/drive/My Drive/hotels3.csv')\n",
        "weather = pd.read_csv('/content/drive/My Drive/weather.csv')\n",
        "movies = pd.read_csv('/content/drive/My Drive/movies.tsv', sep='\\t')\n",
        "restaurants = pd.read_csv('/content/drive/My Drive/restaurants.tsv', sep='\\t')"
      ],
      "execution_count": null,
      "outputs": []
    },
    {
      "cell_type": "code",
      "metadata": {
        "id": "ceDCuPV7cMkg"
      },
      "source": [
        "def clean_text(text):\n",
        "  text = re.sub(r\"@[A-Za-z0-9]+\", ' ', text) # remove tags\n",
        "  text = re.sub(r\"https?://[A-Za-z0-9./]+\", ' ', text) # remove hypelinks\n",
        "  text = re.sub(r\"[^A-Za-z0-9?! ]+\", '', text) # remove non relevant characters\n",
        "  text = text.lower() # convert all higher case letters to lower case\n",
        "  return text"
      ],
      "execution_count": null,
      "outputs": []
    },
    {
      "cell_type": "markdown",
      "metadata": {
        "id": "y8dXrLkbBBwG"
      },
      "source": [
        "#### airlines"
      ]
    },
    {
      "cell_type": "markdown",
      "metadata": {
        "id": "FTXk1nI2dYRi"
      },
      "source": [
        "https://www.kaggle.com/crowdflower/twitter-airline-sentiment"
      ]
    },
    {
      "cell_type": "code",
      "metadata": {
        "colab": {
          "base_uri": "https://localhost:8080/"
        },
        "id": "DD-vaGOnAdvV",
        "outputId": "45f8e573-8179-496d-c3ab-cb22c52700c0"
      },
      "source": [
        "airlines.info()"
      ],
      "execution_count": null,
      "outputs": [
        {
          "output_type": "stream",
          "text": [
            "<class 'pandas.core.frame.DataFrame'>\n",
            "RangeIndex: 14640 entries, 0 to 14639\n",
            "Data columns (total 20 columns):\n",
            " #   Column                        Non-Null Count  Dtype  \n",
            "---  ------                        --------------  -----  \n",
            " 0   _unit_id                      14640 non-null  int64  \n",
            " 1   _golden                       14640 non-null  bool   \n",
            " 2   _unit_state                   14640 non-null  object \n",
            " 3   _trusted_judgments            14640 non-null  int64  \n",
            " 4   _last_judgment_at             14584 non-null  object \n",
            " 5   airline_sentiment             14640 non-null  object \n",
            " 6   airline_sentiment:confidence  14640 non-null  float64\n",
            " 7   negativereason                9178 non-null   object \n",
            " 8   negativereason:confidence     10522 non-null  float64\n",
            " 9   airline                       14640 non-null  object \n",
            " 10  airline_sentiment_gold        40 non-null     object \n",
            " 11  name                          14640 non-null  object \n",
            " 12  negativereason_gold           32 non-null     object \n",
            " 13  retweet_count                 14640 non-null  int64  \n",
            " 14  text                          14640 non-null  object \n",
            " 15  tweet_coord                   1019 non-null   object \n",
            " 16  tweet_created                 14640 non-null  object \n",
            " 17  tweet_id                      14640 non-null  float64\n",
            " 18  tweet_location                9907 non-null   object \n",
            " 19  user_timezone                 9820 non-null   object \n",
            "dtypes: bool(1), float64(3), int64(3), object(13)\n",
            "memory usage: 2.1+ MB\n"
          ],
          "name": "stdout"
        }
      ]
    },
    {
      "cell_type": "code",
      "metadata": {
        "colab": {
          "base_uri": "https://localhost:8080/"
        },
        "id": "mJ4iLzBiBIHD",
        "outputId": "dda6e5e0-8d80-4437-b0f9-a5fa0d0ee292"
      },
      "source": [
        "airlines = airlines[[\"text\", \"airline_sentiment\"]]\n",
        "airlines.info()"
      ],
      "execution_count": null,
      "outputs": [
        {
          "output_type": "stream",
          "text": [
            "<class 'pandas.core.frame.DataFrame'>\n",
            "RangeIndex: 14640 entries, 0 to 14639\n",
            "Data columns (total 2 columns):\n",
            " #   Column             Non-Null Count  Dtype \n",
            "---  ------             --------------  ----- \n",
            " 0   text               14640 non-null  object\n",
            " 1   airline_sentiment  14640 non-null  object\n",
            "dtypes: object(2)\n",
            "memory usage: 228.9+ KB\n"
          ],
          "name": "stdout"
        }
      ]
    },
    {
      "cell_type": "code",
      "metadata": {
        "id": "-uCZTTtgGuGD"
      },
      "source": [
        "airlines.columns = ['review', 'sentiment']"
      ],
      "execution_count": null,
      "outputs": []
    },
    {
      "cell_type": "code",
      "metadata": {
        "colab": {
          "base_uri": "https://localhost:8080/"
        },
        "id": "sf2TUyppCfBQ",
        "outputId": "f10e424b-9089-4b77-b4d5-685b901e194d"
      },
      "source": [
        "airlines.sentiment.unique()"
      ],
      "execution_count": null,
      "outputs": [
        {
          "output_type": "execute_result",
          "data": {
            "text/plain": [
              "array(['neutral', 'positive', 'negative'], dtype=object)"
            ]
          },
          "metadata": {
            "tags": []
          },
          "execution_count": 26
        }
      ]
    },
    {
      "cell_type": "code",
      "metadata": {
        "id": "IYPHfZDVRxKE"
      },
      "source": [
        "airlines = airlines[airlines['sentiment'].isin(('positive', 'negative'))]\n",
        "airlines.replace(['positive', 'negative'], [1, 0], inplace=True)"
      ],
      "execution_count": null,
      "outputs": []
    },
    {
      "cell_type": "code",
      "metadata": {
        "colab": {
          "base_uri": "https://localhost:8080/"
        },
        "id": "bVJlrfIHSBPo",
        "outputId": "eb646758-c574-41cd-9db3-e7486f0bfad4"
      },
      "source": [
        "airlines.sentiment.describe()"
      ],
      "execution_count": null,
      "outputs": [
        {
          "output_type": "execute_result",
          "data": {
            "text/plain": [
              "count    11541.000000\n",
              "mean         0.204748\n",
              "std          0.403535\n",
              "min          0.000000\n",
              "25%          0.000000\n",
              "50%          0.000000\n",
              "75%          0.000000\n",
              "max          1.000000\n",
              "Name: sentiment, dtype: float64"
            ]
          },
          "metadata": {
            "tags": []
          },
          "execution_count": 28
        }
      ]
    },
    {
      "cell_type": "code",
      "metadata": {
        "id": "K9oz1KYXK6vC"
      },
      "source": [
        "airlines = airlines.drop(airlines[airlines['sentiment'] == 0].sample(frac=.75).index)"
      ],
      "execution_count": null,
      "outputs": []
    },
    {
      "cell_type": "code",
      "metadata": {
        "colab": {
          "base_uri": "https://localhost:8080/"
        },
        "id": "X68IJsDiLMHm",
        "outputId": "8c7eb0b8-51f5-4b9d-ee83-75b5db64fe69"
      },
      "source": [
        "airlines.sentiment.describe()"
      ],
      "execution_count": null,
      "outputs": [
        {
          "output_type": "execute_result",
          "data": {
            "text/plain": [
              "count    4657.000000\n",
              "mean        0.507408\n",
              "std         0.499999\n",
              "min         0.000000\n",
              "25%         0.000000\n",
              "50%         1.000000\n",
              "75%         1.000000\n",
              "max         1.000000\n",
              "Name: sentiment, dtype: float64"
            ]
          },
          "metadata": {
            "tags": []
          },
          "execution_count": 30
        }
      ]
    },
    {
      "cell_type": "code",
      "metadata": {
        "id": "v7Itn0DZkHoX"
      },
      "source": [
        "airlines['review'] = airlines['review'].apply(clean_text)"
      ],
      "execution_count": null,
      "outputs": []
    },
    {
      "cell_type": "markdown",
      "metadata": {
        "id": "WZmr3Jc9GM4r"
      },
      "source": [
        "#### ebay"
      ]
    },
    {
      "cell_type": "markdown",
      "metadata": {
        "id": "Pjo_lljTfgPe"
      },
      "source": [
        "https://www.kaggle.com/wojtekbonicki/ebay-reviews"
      ]
    },
    {
      "cell_type": "code",
      "metadata": {
        "colab": {
          "base_uri": "https://localhost:8080/"
        },
        "id": "XQ-x11GSGRI7",
        "outputId": "2880baf8-bca4-45f9-b0eb-7fee7abc2be2"
      },
      "source": [
        "ebay.info()"
      ],
      "execution_count": null,
      "outputs": [
        {
          "output_type": "stream",
          "text": [
            "<class 'pandas.core.frame.DataFrame'>\n",
            "RangeIndex: 44756 entries, 0 to 44755\n",
            "Data columns (total 4 columns):\n",
            " #   Column          Non-Null Count  Dtype \n",
            "---  ------          --------------  ----- \n",
            " 0   category        44756 non-null  object\n",
            " 1   review title    44756 non-null  object\n",
            " 2   review content  44756 non-null  object\n",
            " 3   rating          44756 non-null  int64 \n",
            "dtypes: int64(1), object(3)\n",
            "memory usage: 1.4+ MB\n"
          ],
          "name": "stdout"
        }
      ]
    },
    {
      "cell_type": "code",
      "metadata": {
        "colab": {
          "base_uri": "https://localhost:8080/"
        },
        "id": "teLJhmVuGXFZ",
        "outputId": "301e82cc-5955-4326-acce-9ea318067231"
      },
      "source": [
        "ebay = ebay[[\"review content\", \"rating\"]]\n",
        "ebay.info()"
      ],
      "execution_count": null,
      "outputs": [
        {
          "output_type": "stream",
          "text": [
            "<class 'pandas.core.frame.DataFrame'>\n",
            "RangeIndex: 44756 entries, 0 to 44755\n",
            "Data columns (total 2 columns):\n",
            " #   Column          Non-Null Count  Dtype \n",
            "---  ------          --------------  ----- \n",
            " 0   review content  44756 non-null  object\n",
            " 1   rating          44756 non-null  int64 \n",
            "dtypes: int64(1), object(1)\n",
            "memory usage: 699.4+ KB\n"
          ],
          "name": "stdout"
        }
      ]
    },
    {
      "cell_type": "code",
      "metadata": {
        "colab": {
          "base_uri": "https://localhost:8080/"
        },
        "id": "oyJ4PClOG1D5",
        "outputId": "cd40a9dc-2d5c-4bef-b47d-74cd110f7da5"
      },
      "source": [
        "ebay.columns = ['review', 'sentiment']\n",
        "ebay.sentiment.unique()"
      ],
      "execution_count": null,
      "outputs": [
        {
          "output_type": "execute_result",
          "data": {
            "text/plain": [
              "array([5, 3, 4, 2, 1])"
            ]
          },
          "metadata": {
            "tags": []
          },
          "execution_count": 34
        }
      ]
    },
    {
      "cell_type": "code",
      "metadata": {
        "id": "qSmlWXDtGhJ6"
      },
      "source": [
        "ebay = ebay[ebay['sentiment'].isin((1, 2, 4, 5))]\n",
        "ebay.replace([1, 2, 4, 5], [0, 0, 1, 1], inplace=True)"
      ],
      "execution_count": null,
      "outputs": []
    },
    {
      "cell_type": "code",
      "metadata": {
        "colab": {
          "base_uri": "https://localhost:8080/"
        },
        "id": "cGkyPaiRYoOU",
        "outputId": "f6a8333c-7f91-4f2f-856c-66be3d6f8527"
      },
      "source": [
        "ebay.sentiment.describe()"
      ],
      "execution_count": null,
      "outputs": [
        {
          "output_type": "execute_result",
          "data": {
            "text/plain": [
              "count    43384.000000\n",
              "mean         0.955237\n",
              "std          0.206786\n",
              "min          0.000000\n",
              "25%          1.000000\n",
              "50%          1.000000\n",
              "75%          1.000000\n",
              "max          1.000000\n",
              "Name: sentiment, dtype: float64"
            ]
          },
          "metadata": {
            "tags": []
          },
          "execution_count": 36
        }
      ]
    },
    {
      "cell_type": "code",
      "metadata": {
        "id": "44hhyoFaKEHE"
      },
      "source": [
        "ebay = ebay.drop(ebay[ebay['sentiment'] == 1].sample(frac=.95).index)"
      ],
      "execution_count": null,
      "outputs": []
    },
    {
      "cell_type": "code",
      "metadata": {
        "colab": {
          "base_uri": "https://localhost:8080/"
        },
        "id": "LlPV8A4eKT46",
        "outputId": "fb675051-9ba5-40a7-bf4a-3b50b5f5531c"
      },
      "source": [
        "ebay.sentiment.describe()"
      ],
      "execution_count": null,
      "outputs": [
        {
          "output_type": "execute_result",
          "data": {
            "text/plain": [
              "count    4014.000000\n",
              "mean        0.516193\n",
              "std         0.499800\n",
              "min         0.000000\n",
              "25%         0.000000\n",
              "50%         1.000000\n",
              "75%         1.000000\n",
              "max         1.000000\n",
              "Name: sentiment, dtype: float64"
            ]
          },
          "metadata": {
            "tags": []
          },
          "execution_count": 38
        }
      ]
    },
    {
      "cell_type": "code",
      "metadata": {
        "id": "t3gvuCnGjVWd"
      },
      "source": [
        "ebay['review'] = ebay['review'].apply(clean_text)"
      ],
      "execution_count": null,
      "outputs": []
    },
    {
      "cell_type": "markdown",
      "metadata": {
        "id": "fuRX8zbfHATh"
      },
      "source": [
        "#### hotels1"
      ]
    },
    {
      "cell_type": "markdown",
      "metadata": {
        "id": "ZhSy_nJaejVG"
      },
      "source": [
        "https://data.world/datafiniti/hotel-reviews"
      ]
    },
    {
      "cell_type": "code",
      "metadata": {
        "id": "zs5urPm2HCTJ",
        "colab": {
          "base_uri": "https://localhost:8080/"
        },
        "outputId": "f86d8ec1-5ffd-4eae-9be5-265061bfd373"
      },
      "source": [
        "hotels1.info()"
      ],
      "execution_count": null,
      "outputs": [
        {
          "output_type": "stream",
          "text": [
            "<class 'pandas.core.frame.DataFrame'>\n",
            "RangeIndex: 35689 entries, 0 to 35688\n",
            "Data columns (total 19 columns):\n",
            " #   Column                Non-Null Count  Dtype  \n",
            "---  ------                --------------  -----  \n",
            " 0   address               35689 non-null  object \n",
            " 1   categories            35689 non-null  object \n",
            " 2   city                  35689 non-null  object \n",
            " 3   country               35689 non-null  object \n",
            " 4   latitude              35607 non-null  float64\n",
            " 5   longitude             35607 non-null  float64\n",
            " 6   name                  35689 non-null  object \n",
            " 7   postalCode            35634 non-null  object \n",
            " 8   province              35689 non-null  object \n",
            " 9   reviews.date          35508 non-null  object \n",
            " 10  reviews.dateAdded     35689 non-null  object \n",
            " 11  reviews.doRecommend   0 non-null      float64\n",
            " 12  reviews.id            0 non-null      float64\n",
            " 13  reviews.rating        34828 non-null  float64\n",
            " 14  reviews.text          35687 non-null  object \n",
            " 15  reviews.title         34175 non-null  object \n",
            " 16  reviews.userCity      16228 non-null  object \n",
            " 17  reviews.username      35646 non-null  object \n",
            " 18  reviews.userProvince  17473 non-null  object \n",
            "dtypes: float64(5), object(14)\n",
            "memory usage: 5.2+ MB\n"
          ],
          "name": "stdout"
        }
      ]
    },
    {
      "cell_type": "code",
      "metadata": {
        "id": "Mf4sXFhTHF7J",
        "colab": {
          "base_uri": "https://localhost:8080/"
        },
        "outputId": "30a64593-d989-4203-cc2d-af1552946642"
      },
      "source": [
        "hotels1 = hotels1[[\"reviews.text\", \"reviews.rating\"]]\n",
        "hotels1.info()"
      ],
      "execution_count": null,
      "outputs": [
        {
          "output_type": "stream",
          "text": [
            "<class 'pandas.core.frame.DataFrame'>\n",
            "RangeIndex: 35689 entries, 0 to 35688\n",
            "Data columns (total 2 columns):\n",
            " #   Column          Non-Null Count  Dtype  \n",
            "---  ------          --------------  -----  \n",
            " 0   reviews.text    35687 non-null  object \n",
            " 1   reviews.rating  34828 non-null  float64\n",
            "dtypes: float64(1), object(1)\n",
            "memory usage: 557.8+ KB\n"
          ],
          "name": "stdout"
        }
      ]
    },
    {
      "cell_type": "code",
      "metadata": {
        "id": "XsbMkCFwHb-h",
        "colab": {
          "base_uri": "https://localhost:8080/"
        },
        "outputId": "9646a106-3868-487b-a1d1-65b4ee4d9a4d"
      },
      "source": [
        "hotels1.columns = ['review', 'sentiment']\n",
        "hotels1.dropna(axis='rows', inplace=True)\n",
        "hotels1.info()"
      ],
      "execution_count": null,
      "outputs": [
        {
          "output_type": "stream",
          "text": [
            "<class 'pandas.core.frame.DataFrame'>\n",
            "Int64Index: 34826 entries, 0 to 35688\n",
            "Data columns (total 2 columns):\n",
            " #   Column     Non-Null Count  Dtype  \n",
            "---  ------     --------------  -----  \n",
            " 0   review     34826 non-null  object \n",
            " 1   sentiment  34826 non-null  float64\n",
            "dtypes: float64(1), object(1)\n",
            "memory usage: 816.2+ KB\n"
          ],
          "name": "stdout"
        }
      ]
    },
    {
      "cell_type": "code",
      "metadata": {
        "id": "1K9OzK8RJUOK",
        "colab": {
          "base_uri": "https://localhost:8080/"
        },
        "outputId": "ae658667-c747-47c1-f1a6-da2b027ed5c3"
      },
      "source": [
        "hotels1.sentiment.unique()"
      ],
      "execution_count": null,
      "outputs": [
        {
          "output_type": "execute_result",
          "data": {
            "text/plain": [
              "array([ 4. ,  2. ,  3. ,  5. ,  0. ,  1. , 10. ,  7.1,  4.5,  9.2,  9.6,\n",
              "        4.2,  4.8,  6.7,  5.4,  3.3,  3.4,  4.7,  8.8,  8.3,  6.3,  1.3,\n",
              "        6. ,  5.8,  4.1,  7.9,  9.5,  3.8,  4.3,  4.4,  2.5,  4.6,  2.9,\n",
              "        2.8,  3.1,  7.5,  4.9,  3.9,  3.2,  2.4,  3.7,  1.5,  7. ])"
            ]
          },
          "metadata": {},
          "execution_count": 9
        }
      ]
    },
    {
      "cell_type": "code",
      "metadata": {
        "id": "bsQ2gKc7He2B",
        "colab": {
          "base_uri": "https://localhost:8080/"
        },
        "outputId": "ab95fb98-0e1c-47ba-e16f-9441ee482913"
      },
      "source": [
        "hotels1.sentiment.describe()"
      ],
      "execution_count": null,
      "outputs": [
        {
          "output_type": "execute_result",
          "data": {
            "text/plain": [
              "count    34826.000000\n",
              "mean         3.787524\n",
              "std          1.403420\n",
              "min          0.000000\n",
              "25%          3.000000\n",
              "50%          4.000000\n",
              "75%          5.000000\n",
              "max         10.000000\n",
              "Name: sentiment, dtype: float64"
            ]
          },
          "metadata": {},
          "execution_count": 10
        }
      ]
    },
    {
      "cell_type": "code",
      "metadata": {
        "id": "PUvdkJhYSRAa",
        "colab": {
          "base_uri": "https://localhost:8080/"
        },
        "outputId": "97e638e0-f6d7-4101-b06f-4ba6feb6bf09"
      },
      "source": [
        "hotels1 = hotels1[hotels1['sentiment'].isin((0, 1, 4, 5))]\n",
        "hotels1.sentiment.unique()"
      ],
      "execution_count": null,
      "outputs": [
        {
          "output_type": "execute_result",
          "data": {
            "text/plain": [
              "array([4., 5., 0., 1.])"
            ]
          },
          "metadata": {},
          "execution_count": 11
        }
      ]
    },
    {
      "cell_type": "code",
      "metadata": {
        "id": "KmzO84cWVDLk"
      },
      "source": [
        "hotels1.replace([0, 1, 4, 5], [0, 0, 1, 1], inplace=True)"
      ],
      "execution_count": null,
      "outputs": []
    },
    {
      "cell_type": "code",
      "metadata": {
        "id": "0hZXvhWaF2x9"
      },
      "source": [
        "hotels1['review'] = hotels1['review'].astype(str)"
      ],
      "execution_count": null,
      "outputs": []
    },
    {
      "cell_type": "code",
      "metadata": {
        "id": "QNk4z6seKqui"
      },
      "source": [
        "def det(x):\n",
        "    try:\n",
        "        lang = detect(x)\n",
        "    except:\n",
        "        lang = 'Other'\n",
        "    return lang"
      ],
      "execution_count": null,
      "outputs": []
    },
    {
      "cell_type": "code",
      "metadata": {
        "id": "Y-M5oY7C4cFw"
      },
      "source": [
        "hotels1['lang'] = hotels1['review'].apply(det)\n",
        "indices = hotels1[hotels1['lang'] != 'en'].index\n",
        "hotels1.drop(indices, inplace = True)"
      ],
      "execution_count": null,
      "outputs": []
    },
    {
      "cell_type": "code",
      "metadata": {
        "id": "Jzc-krL3Yxtd"
      },
      "source": [
        "hotels1.sentiment.describe()"
      ],
      "execution_count": null,
      "outputs": []
    },
    {
      "cell_type": "code",
      "metadata": {
        "id": "im2nD0AGKYTz"
      },
      "source": [
        "hotels1 = hotels1.drop(hotels1[hotels1['sentiment'] == 1].sample(frac=.8).index)"
      ],
      "execution_count": null,
      "outputs": []
    },
    {
      "cell_type": "code",
      "metadata": {
        "id": "H0o_lpPbKwr_"
      },
      "source": [
        "hotels1.sentiment.describe()"
      ],
      "execution_count": null,
      "outputs": []
    },
    {
      "cell_type": "code",
      "metadata": {
        "id": "Pozl7CplMR9c"
      },
      "source": [
        "hotels1 = hotels1.drop(columns=['lang'])"
      ],
      "execution_count": null,
      "outputs": []
    },
    {
      "cell_type": "code",
      "metadata": {
        "id": "ABOSEqjBjNwt"
      },
      "source": [
        "hotels1['review'] = hotels1['review'].apply(clean_text)"
      ],
      "execution_count": null,
      "outputs": []
    },
    {
      "cell_type": "markdown",
      "metadata": {
        "id": "L0g6nNQaJXVQ"
      },
      "source": [
        "#### hotels2"
      ]
    },
    {
      "cell_type": "markdown",
      "metadata": {
        "id": "5fPe0GeIoo0n"
      },
      "source": [
        "https://data.world/datafiniti/hotel-reviews"
      ]
    },
    {
      "cell_type": "code",
      "metadata": {
        "id": "lq22Aua5Jd4O"
      },
      "source": [
        "hotels2.info()"
      ],
      "execution_count": null,
      "outputs": []
    },
    {
      "cell_type": "code",
      "metadata": {
        "id": "oYAMk36gJsXJ"
      },
      "source": [
        "hotels2 = hotels2[[\"reviews.text\", \"reviews.rating\"]]\n",
        "hotels2.info()"
      ],
      "execution_count": null,
      "outputs": []
    },
    {
      "cell_type": "code",
      "metadata": {
        "id": "wwafzyFvKUog"
      },
      "source": [
        "hotels2.columns = ['review', 'sentiment']\n",
        "hotels2.dropna(axis='rows', inplace=True)\n",
        "hotels2.info()"
      ],
      "execution_count": null,
      "outputs": []
    },
    {
      "cell_type": "code",
      "metadata": {
        "id": "DQxYgJTBKatY"
      },
      "source": [
        "hotels2.sentiment.unique()"
      ],
      "execution_count": null,
      "outputs": []
    },
    {
      "cell_type": "code",
      "metadata": {
        "id": "q6Cs5toFKe6k"
      },
      "source": [
        "hotels2.sentiment.describe()"
      ],
      "execution_count": null,
      "outputs": []
    },
    {
      "cell_type": "code",
      "metadata": {
        "id": "clmnkhcRVPHW"
      },
      "source": [
        "hotels2 = hotels2[hotels2['sentiment'].isin((1, 2, 4, 5))]\n",
        "hotels2.sentiment.unique()"
      ],
      "execution_count": null,
      "outputs": []
    },
    {
      "cell_type": "code",
      "metadata": {
        "id": "WqumUnjWVWr9"
      },
      "source": [
        "hotels2.replace([1, 2, 4, 5], [0, 0, 1, 1], inplace=True)\n",
        "hotels2.sentiment.describe()"
      ],
      "execution_count": null,
      "outputs": []
    },
    {
      "cell_type": "code",
      "metadata": {
        "id": "oWxyVE5uK2vd"
      },
      "source": [
        "hotels2 = hotels2.drop(hotels2[hotels2['sentiment'] == 1].sample(frac=.8).index)"
      ],
      "execution_count": null,
      "outputs": []
    },
    {
      "cell_type": "code",
      "metadata": {
        "id": "K6OgeujQLK4m"
      },
      "source": [
        "hotels2.sentiment.describe()"
      ],
      "execution_count": null,
      "outputs": []
    },
    {
      "cell_type": "code",
      "metadata": {
        "id": "vQkB01O9kK4I"
      },
      "source": [
        "hotels2['review'] = hotels2['review'].apply(clean_text)"
      ],
      "execution_count": null,
      "outputs": []
    },
    {
      "cell_type": "markdown",
      "metadata": {
        "id": "WyMtIOdQKqQ4"
      },
      "source": [
        "#### hotels3"
      ]
    },
    {
      "cell_type": "markdown",
      "metadata": {
        "id": "mXIqtQzwd8OC"
      },
      "source": [
        "https://www.kaggle.com/andrewmvd/trip-advisor-hotel-reviews"
      ]
    },
    {
      "cell_type": "code",
      "metadata": {
        "id": "kJlWM7lRKrdj"
      },
      "source": [
        "hotels3.info()"
      ],
      "execution_count": null,
      "outputs": []
    },
    {
      "cell_type": "code",
      "metadata": {
        "id": "dn3XB4VEKs-W"
      },
      "source": [
        "hotels3.columns = ['review', 'sentiment']"
      ],
      "execution_count": null,
      "outputs": []
    },
    {
      "cell_type": "code",
      "metadata": {
        "id": "AdqbyP5uKyiQ"
      },
      "source": [
        "hotels3.sentiment.unique()"
      ],
      "execution_count": null,
      "outputs": []
    },
    {
      "cell_type": "code",
      "metadata": {
        "id": "3DcMasZhVZnW"
      },
      "source": [
        "hotels3 = hotels3[hotels3['sentiment'].isin((1, 2, 4, 5))]\n",
        "hotels3.replace([1, 2, 4, 5], [0, 0, 1, 1], inplace=True)\n",
        "hotels3.sentiment.unique()"
      ],
      "execution_count": null,
      "outputs": []
    },
    {
      "cell_type": "code",
      "metadata": {
        "id": "YTlpRa54ZMfS"
      },
      "source": [
        "hotels3.sentiment.describe()"
      ],
      "execution_count": null,
      "outputs": []
    },
    {
      "cell_type": "code",
      "metadata": {
        "id": "8xqiTsOdLNdL"
      },
      "source": [
        "hotels3 = hotels3.drop(hotels3[hotels3['sentiment'] == 1].sample(frac=.8).index)"
      ],
      "execution_count": null,
      "outputs": []
    },
    {
      "cell_type": "code",
      "metadata": {
        "id": "heoTnqPfLSvI"
      },
      "source": [
        "hotels3.sentiment.describe()"
      ],
      "execution_count": null,
      "outputs": []
    },
    {
      "cell_type": "code",
      "metadata": {
        "id": "bnvfG-hFkOO4"
      },
      "source": [
        "hotels3['review'] = hotels3['review'].apply(clean_text)"
      ],
      "execution_count": null,
      "outputs": []
    },
    {
      "cell_type": "markdown",
      "metadata": {
        "id": "Z-nU-vN7LpNx"
      },
      "source": [
        "#### hotels (merge hotels1, hotels2 and hotels3)"
      ]
    },
    {
      "cell_type": "code",
      "metadata": {
        "id": "8_MgghwXLutg"
      },
      "source": [
        "hotels = pd.concat([hotels1, hotels2, hotels3])"
      ],
      "execution_count": null,
      "outputs": []
    },
    {
      "cell_type": "code",
      "metadata": {
        "colab": {
          "base_uri": "https://localhost:8080/"
        },
        "id": "7gIBgXfVMXLH",
        "outputId": "7868cacb-dcaf-4a23-93b3-e8c866292393"
      },
      "source": [
        "hotels.info()"
      ],
      "execution_count": null,
      "outputs": [
        {
          "output_type": "stream",
          "text": [
            "<class 'pandas.core.frame.DataFrame'>\n",
            "Int64Index: 16060 entries, 7 to 20490\n",
            "Data columns (total 2 columns):\n",
            " #   Column     Non-Null Count  Dtype  \n",
            "---  ------     --------------  -----  \n",
            " 0   review     16060 non-null  object \n",
            " 1   sentiment  16060 non-null  float64\n",
            "dtypes: float64(1), object(1)\n",
            "memory usage: 376.4+ KB\n"
          ],
          "name": "stdout"
        }
      ]
    },
    {
      "cell_type": "code",
      "metadata": {
        "colab": {
          "base_uri": "https://localhost:8080/"
        },
        "id": "zyOMXkHNMksX",
        "outputId": "c70e209e-5b3f-4303-e948-0686f59b5bb0"
      },
      "source": [
        "hotels.head()"
      ],
      "execution_count": null,
      "outputs": [
        {
          "output_type": "execute_result",
          "data": {
            "text/html": [
              "<div>\n",
              "<style scoped>\n",
              "    .dataframe tbody tr th:only-of-type {\n",
              "        vertical-align: middle;\n",
              "    }\n",
              "\n",
              "    .dataframe tbody tr th {\n",
              "        vertical-align: top;\n",
              "    }\n",
              "\n",
              "    .dataframe thead th {\n",
              "        text-align: right;\n",
              "    }\n",
              "</style>\n",
              "<table border=\"1\" class=\"dataframe\">\n",
              "  <thead>\n",
              "    <tr style=\"text-align: right;\">\n",
              "      <th></th>\n",
              "      <th>review</th>\n",
              "      <th>sentiment</th>\n",
              "    </tr>\n",
              "  </thead>\n",
              "  <tbody>\n",
              "    <tr>\n",
              "      <th>7</th>\n",
              "      <td>another reason to stay at this hampton att wif...</td>\n",
              "      <td>1.0</td>\n",
              "    </tr>\n",
              "    <tr>\n",
              "      <th>8</th>\n",
              "      <td>another reason to stay at this hampton att wif...</td>\n",
              "      <td>1.0</td>\n",
              "    </tr>\n",
              "    <tr>\n",
              "      <th>10</th>\n",
              "      <td>408 really big room very cool and clean perfec...</td>\n",
              "      <td>1.0</td>\n",
              "    </tr>\n",
              "    <tr>\n",
              "      <th>13</th>\n",
              "      <td>100 ransom for oversized vehicles small tv lou...</td>\n",
              "      <td>1.0</td>\n",
              "    </tr>\n",
              "    <tr>\n",
              "      <th>18</th>\n",
              "      <td>no chocolate bacon i am dissapoint great wait ...</td>\n",
              "      <td>0.0</td>\n",
              "    </tr>\n",
              "  </tbody>\n",
              "</table>\n",
              "</div>"
            ],
            "text/plain": [
              "                                               review  sentiment\n",
              "7   another reason to stay at this hampton att wif...        1.0\n",
              "8   another reason to stay at this hampton att wif...        1.0\n",
              "10  408 really big room very cool and clean perfec...        1.0\n",
              "13  100 ransom for oversized vehicles small tv lou...        1.0\n",
              "18  no chocolate bacon i am dissapoint great wait ...        0.0"
            ]
          },
          "metadata": {
            "tags": []
          },
          "execution_count": 46
        }
      ]
    },
    {
      "cell_type": "code",
      "metadata": {
        "colab": {
          "base_uri": "https://localhost:8080/"
        },
        "id": "AqRZ3UPbMnd2",
        "outputId": "bfe3d365-9c80-44db-cd92-5ce04a822fe6"
      },
      "source": [
        "hotels = hotels.sample(frac=1).reset_index(drop=True)\n",
        "hotels.head()"
      ],
      "execution_count": null,
      "outputs": [
        {
          "output_type": "execute_result",
          "data": {
            "text/html": [
              "<div>\n",
              "<style scoped>\n",
              "    .dataframe tbody tr th:only-of-type {\n",
              "        vertical-align: middle;\n",
              "    }\n",
              "\n",
              "    .dataframe tbody tr th {\n",
              "        vertical-align: top;\n",
              "    }\n",
              "\n",
              "    .dataframe thead th {\n",
              "        text-align: right;\n",
              "    }\n",
              "</style>\n",
              "<table border=\"1\" class=\"dataframe\">\n",
              "  <thead>\n",
              "    <tr style=\"text-align: right;\">\n",
              "      <th></th>\n",
              "      <th>review</th>\n",
              "      <th>sentiment</th>\n",
              "    </tr>\n",
              "  </thead>\n",
              "  <tbody>\n",
              "    <tr>\n",
              "      <th>0</th>\n",
              "      <td>beautiful majextic colonial time caribbean met...</td>\n",
              "      <td>1.0</td>\n",
              "    </tr>\n",
              "    <tr>\n",
              "      <th>1</th>\n",
              "      <td>we stayed 11 days while my daughter was inpati...</td>\n",
              "      <td>1.0</td>\n",
              "    </tr>\n",
              "    <tr>\n",
              "      <th>2</th>\n",
              "      <td>i enjoyed our stay at best weatern plus oceanf...</td>\n",
              "      <td>1.0</td>\n",
              "    </tr>\n",
              "    <tr>\n",
              "      <th>3</th>\n",
              "      <td>paradise value money paradise value money trav...</td>\n",
              "      <td>1.0</td>\n",
              "    </tr>\n",
              "    <tr>\n",
              "      <th>4</th>\n",
              "      <td>save some cash and ask for the whataburger rate</td>\n",
              "      <td>1.0</td>\n",
              "    </tr>\n",
              "  </tbody>\n",
              "</table>\n",
              "</div>"
            ],
            "text/plain": [
              "                                              review  sentiment\n",
              "0  beautiful majextic colonial time caribbean met...        1.0\n",
              "1  we stayed 11 days while my daughter was inpati...        1.0\n",
              "2  i enjoyed our stay at best weatern plus oceanf...        1.0\n",
              "3  paradise value money paradise value money trav...        1.0\n",
              "4    save some cash and ask for the whataburger rate        1.0"
            ]
          },
          "metadata": {
            "tags": []
          },
          "execution_count": 47
        }
      ]
    },
    {
      "cell_type": "markdown",
      "metadata": {
        "id": "pb0kxR7bK2Bh"
      },
      "source": [
        "#### weather"
      ]
    },
    {
      "cell_type": "markdown",
      "metadata": {
        "id": "eOTpf7EBdpay"
      },
      "source": [
        "https://data.world/crowdflower/weather-sentiment"
      ]
    },
    {
      "cell_type": "code",
      "metadata": {
        "colab": {
          "base_uri": "https://localhost:8080/"
        },
        "id": "VZ5LcCneK3BB",
        "outputId": "d444d36d-4616-4506-c2b2-c776e6597a11"
      },
      "source": [
        "weather.info()"
      ],
      "execution_count": null,
      "outputs": [
        {
          "output_type": "stream",
          "text": [
            "<class 'pandas.core.frame.DataFrame'>\n",
            "RangeIndex: 1000 entries, 0 to 999\n",
            "Data columns (total 10 columns):\n",
            " #   Column                                                                          Non-Null Count  Dtype  \n",
            "---  ------                                                                          --------------  -----  \n",
            " 0   _unit_id                                                                        1000 non-null   int64  \n",
            " 1   _canary                                                                         0 non-null      float64\n",
            " 2   _unit_state                                                                     1000 non-null   object \n",
            " 3   _trusted_judgments                                                              1000 non-null   int64  \n",
            " 4   _last_judgment_at                                                               1000 non-null   object \n",
            " 5   what_emotion_does_the_author_express_specifically_about_the_weather             1000 non-null   object \n",
            " 6   what_emotion_does_the_author_express_specifically_about_the_weather:confidence  1000 non-null   float64\n",
            " 7   gold_answer                                                                     0 non-null      float64\n",
            " 8   tweet_id                                                                        1000 non-null   int64  \n",
            " 9   tweet_text                                                                      1000 non-null   object \n",
            "dtypes: float64(3), int64(3), object(4)\n",
            "memory usage: 78.2+ KB\n"
          ],
          "name": "stdout"
        }
      ]
    },
    {
      "cell_type": "code",
      "metadata": {
        "colab": {
          "base_uri": "https://localhost:8080/"
        },
        "id": "ohp6PdC7K5kB",
        "outputId": "92f172c8-a5ab-4056-edaf-3a1705931ace"
      },
      "source": [
        "weather = weather[[\"tweet_text\", \"what_emotion_does_the_author_express_specifically_about_the_weather\"]]\n",
        "weather.columns = ['review', 'sentiment']\n",
        "weather.info()"
      ],
      "execution_count": null,
      "outputs": [
        {
          "output_type": "stream",
          "text": [
            "<class 'pandas.core.frame.DataFrame'>\n",
            "RangeIndex: 1000 entries, 0 to 999\n",
            "Data columns (total 2 columns):\n",
            " #   Column     Non-Null Count  Dtype \n",
            "---  ------     --------------  ----- \n",
            " 0   review     1000 non-null   object\n",
            " 1   sentiment  1000 non-null   object\n",
            "dtypes: object(2)\n",
            "memory usage: 15.8+ KB\n"
          ],
          "name": "stdout"
        }
      ]
    },
    {
      "cell_type": "code",
      "metadata": {
        "colab": {
          "base_uri": "https://localhost:8080/"
        },
        "id": "rdRKSGJtLKqR",
        "outputId": "a4ffbfcb-f8b2-437d-aea4-b03cf4bbc6c9"
      },
      "source": [
        "weather.sentiment.unique()"
      ],
      "execution_count": null,
      "outputs": [
        {
          "output_type": "execute_result",
          "data": {
            "text/plain": [
              "array(['Positive', 'Negative',\n",
              "       'Neutral / author is just sharing information',\n",
              "       'Tweet not related to weather condition', \"I can't tell\"],\n",
              "      dtype=object)"
            ]
          },
          "metadata": {
            "tags": []
          },
          "execution_count": 63
        }
      ]
    },
    {
      "cell_type": "code",
      "metadata": {
        "id": "mUhDhGtyVjZe"
      },
      "source": [
        "weather = weather[weather['sentiment'].isin(('Positive', 'Negative'))]\n",
        "weather.replace(['Positive', 'Negative'], [0, 1], inplace=True)"
      ],
      "execution_count": null,
      "outputs": []
    },
    {
      "cell_type": "code",
      "metadata": {
        "colab": {
          "base_uri": "https://localhost:8080/"
        },
        "id": "7KwheRihZVXY",
        "outputId": "4ce0d826-3e74-4c23-cd11-b47c674958fc"
      },
      "source": [
        "weather.sentiment.describe()"
      ],
      "execution_count": null,
      "outputs": [
        {
          "output_type": "execute_result",
          "data": {
            "text/plain": [
              "count    502.000000\n",
              "mean       0.539841\n",
              "std        0.498907\n",
              "min        0.000000\n",
              "25%        0.000000\n",
              "50%        1.000000\n",
              "75%        1.000000\n",
              "max        1.000000\n",
              "Name: sentiment, dtype: float64"
            ]
          },
          "metadata": {
            "tags": []
          },
          "execution_count": 65
        }
      ]
    },
    {
      "cell_type": "code",
      "metadata": {
        "id": "Irkj0A-HkRB2"
      },
      "source": [
        "weather['review'] = weather['review'].apply(clean_text)"
      ],
      "execution_count": null,
      "outputs": []
    },
    {
      "cell_type": "markdown",
      "metadata": {
        "id": "zdEvElEJLt4j"
      },
      "source": [
        "#### movies"
      ]
    },
    {
      "cell_type": "markdown",
      "metadata": {
        "id": "A74R6EPodTEz"
      },
      "source": [
        "https://www.kaggle.com/c/sentiment-analysis-on-movie-reviews/data"
      ]
    },
    {
      "cell_type": "code",
      "metadata": {
        "colab": {
          "base_uri": "https://localhost:8080/"
        },
        "id": "vy4tte-uLMv9",
        "outputId": "ceee67c9-a2c5-4981-9812-4950b081276e"
      },
      "source": [
        "movies.info()"
      ],
      "execution_count": null,
      "outputs": [
        {
          "output_type": "stream",
          "text": [
            "<class 'pandas.core.frame.DataFrame'>\n",
            "RangeIndex: 25000 entries, 0 to 24999\n",
            "Data columns (total 3 columns):\n",
            " #   Column     Non-Null Count  Dtype \n",
            "---  ------     --------------  ----- \n",
            " 0   id         25000 non-null  object\n",
            " 1   sentiment  25000 non-null  int64 \n",
            " 2   review     25000 non-null  object\n",
            "dtypes: int64(1), object(2)\n",
            "memory usage: 586.1+ KB\n"
          ],
          "name": "stdout"
        }
      ]
    },
    {
      "cell_type": "code",
      "metadata": {
        "id": "NQCkIil8MPMm"
      },
      "source": [
        "movies = movies[[\"review\", \"sentiment\"]]"
      ],
      "execution_count": null,
      "outputs": []
    },
    {
      "cell_type": "code",
      "metadata": {
        "colab": {
          "base_uri": "https://localhost:8080/"
        },
        "id": "5h82gAyjMToI",
        "outputId": "886f5606-04a8-45f1-ff0e-f375231f644c"
      },
      "source": [
        "movies.sentiment.unique()"
      ],
      "execution_count": null,
      "outputs": [
        {
          "output_type": "execute_result",
          "data": {
            "text/plain": [
              "array([1, 0])"
            ]
          },
          "metadata": {
            "tags": []
          },
          "execution_count": 85
        }
      ]
    },
    {
      "cell_type": "code",
      "metadata": {
        "colab": {
          "base_uri": "https://localhost:8080/"
        },
        "id": "p1xcvY1UV8lO",
        "outputId": "bd31cf07-a83b-4715-f4e4-c2bb91d5af9a"
      },
      "source": [
        "movies.sentiment.describe()"
      ],
      "execution_count": null,
      "outputs": [
        {
          "output_type": "execute_result",
          "data": {
            "text/plain": [
              "count    25000.00000\n",
              "mean         0.50000\n",
              "std          0.50001\n",
              "min          0.00000\n",
              "25%          0.00000\n",
              "50%          0.50000\n",
              "75%          1.00000\n",
              "max          1.00000\n",
              "Name: sentiment, dtype: float64"
            ]
          },
          "metadata": {
            "tags": []
          },
          "execution_count": 86
        }
      ]
    },
    {
      "cell_type": "code",
      "metadata": {
        "id": "AGB58gDOkUbD"
      },
      "source": [
        "movies['review'] = movies['review'].apply(clean_text)"
      ],
      "execution_count": null,
      "outputs": []
    },
    {
      "cell_type": "markdown",
      "metadata": {
        "id": "mTa2H5MVMW_h"
      },
      "source": [
        "#### restaurants"
      ]
    },
    {
      "cell_type": "markdown",
      "metadata": {
        "id": "o6pU2Y20eIJw"
      },
      "source": [
        "https://www.kaggle.com/vigneshwarsofficial/reviews"
      ]
    },
    {
      "cell_type": "code",
      "metadata": {
        "colab": {
          "base_uri": "https://localhost:8080/"
        },
        "id": "La8SLHsCMY1i",
        "outputId": "09a7d037-4336-4e54-d484-2d1e1384261d"
      },
      "source": [
        "restaurants.info()"
      ],
      "execution_count": null,
      "outputs": [
        {
          "output_type": "stream",
          "text": [
            "<class 'pandas.core.frame.DataFrame'>\n",
            "RangeIndex: 1000 entries, 0 to 999\n",
            "Data columns (total 2 columns):\n",
            " #   Column  Non-Null Count  Dtype \n",
            "---  ------  --------------  ----- \n",
            " 0   Review  1000 non-null   object\n",
            " 1   Liked   1000 non-null   int64 \n",
            "dtypes: int64(1), object(1)\n",
            "memory usage: 15.8+ KB\n"
          ],
          "name": "stdout"
        }
      ]
    },
    {
      "cell_type": "code",
      "metadata": {
        "id": "DGesY-veMaIn"
      },
      "source": [
        "restaurants.columns = ['review', 'sentiment']"
      ],
      "execution_count": null,
      "outputs": []
    },
    {
      "cell_type": "code",
      "metadata": {
        "id": "UbITgKZWMeeI",
        "colab": {
          "base_uri": "https://localhost:8080/"
        },
        "outputId": "ef3e8c51-5ddf-4a32-f531-d12ef2532d15"
      },
      "source": [
        "restaurants.sentiment.unique()"
      ],
      "execution_count": null,
      "outputs": [
        {
          "output_type": "execute_result",
          "data": {
            "text/plain": [
              "array([1, 0])"
            ]
          },
          "metadata": {},
          "execution_count": 12
        }
      ]
    },
    {
      "cell_type": "code",
      "metadata": {
        "id": "f889Nr7qWA6A",
        "colab": {
          "base_uri": "https://localhost:8080/"
        },
        "outputId": "ecef767c-6625-434e-9747-992b18eb7a11"
      },
      "source": [
        "restaurants.sentiment.describe()"
      ],
      "execution_count": null,
      "outputs": [
        {
          "output_type": "execute_result",
          "data": {
            "text/plain": [
              "count    1000.00000\n",
              "mean        0.50000\n",
              "std         0.50025\n",
              "min         0.00000\n",
              "25%         0.00000\n",
              "50%         0.50000\n",
              "75%         1.00000\n",
              "max         1.00000\n",
              "Name: sentiment, dtype: float64"
            ]
          },
          "metadata": {},
          "execution_count": 13
        }
      ]
    },
    {
      "cell_type": "code",
      "metadata": {
        "id": "A4nhNCgPkXKh"
      },
      "source": [
        "restaurants['review'] = restaurants['review'].apply(clean_text)"
      ],
      "execution_count": null,
      "outputs": []
    },
    {
      "cell_type": "markdown",
      "metadata": {
        "id": "FTaXnLqmw1bl"
      },
      "source": [
        "#### Save datasets to google drive"
      ]
    },
    {
      "cell_type": "code",
      "metadata": {
        "id": "9iIotzagzo4a"
      },
      "source": [
        "! cd drive/MyDrive/"
      ],
      "execution_count": null,
      "outputs": []
    },
    {
      "cell_type": "code",
      "metadata": {
        "id": "LHSqozHPwz0X"
      },
      "source": [
        "airlines.to_csv('/content/drive/My Drive/Clean Data/airlines.csv')\n",
        "ebay.to_csv('/content/drive/My Drive/Clean Data/ebay.csv')\n",
        "hotels1.to_csv('/content/drive/My Drive/Clean Data/hotels1.csv')\n",
        "hotels2.to_csv('/content/drive/My Drive/Clean Data/hotels2.csv')\n",
        "hotels3.to_csv('/content/drive/My Drive/Clean Data/hotels3.csv')\n",
        "weather.to_csv('/content/drive/My Drive/Clean Data/weather.csv')\n",
        "movies.to_csv('/content/drive/My Drive/Clean Data/movies.csv')\n",
        "restaurants.to_csv('/content/drive/My Drive/Clean Data/restaurantes.csv')\n",
        "hotels.to_csv('/content/drive/My Drive/Clean Data/hotels.csv')"
      ],
      "execution_count": null,
      "outputs": []
    },
    {
      "cell_type": "markdown",
      "metadata": {
        "id": "hhM7jXJ9UaDI"
      },
      "source": [
        "#BERT"
      ]
    },
    {
      "cell_type": "code",
      "metadata": {
        "colab": {
          "base_uri": "https://localhost:8080/"
        },
        "id": "FA0Qm3fZUcvT",
        "outputId": "3dd4d6e8-6fa3-4489-c35a-4e2b0042cb4b"
      },
      "source": [
        "# based on blogpost: https://skimai.com/fine-tuning-bert-for-sentiment-analysis/\n",
        "!pip install transformers"
      ],
      "execution_count": null,
      "outputs": [
        {
          "output_type": "stream",
          "text": [
            "Collecting transformers\n",
            "  Downloading transformers-4.9.2-py3-none-any.whl (2.6 MB)\n",
            "\u001b[K     |████████████████████████████████| 2.6 MB 7.5 MB/s \n",
            "\u001b[?25hRequirement already satisfied: filelock in /usr/local/lib/python3.7/dist-packages (from transformers) (3.0.12)\n",
            "Requirement already satisfied: tqdm>=4.27 in /usr/local/lib/python3.7/dist-packages (from transformers) (4.62.0)\n",
            "Collecting huggingface-hub==0.0.12\n",
            "  Downloading huggingface_hub-0.0.12-py3-none-any.whl (37 kB)\n",
            "Collecting pyyaml>=5.1\n",
            "  Downloading PyYAML-5.4.1-cp37-cp37m-manylinux1_x86_64.whl (636 kB)\n",
            "\u001b[K     |████████████████████████████████| 636 kB 68.5 MB/s \n",
            "\u001b[?25hCollecting tokenizers<0.11,>=0.10.1\n",
            "  Downloading tokenizers-0.10.3-cp37-cp37m-manylinux_2_5_x86_64.manylinux1_x86_64.manylinux_2_12_x86_64.manylinux2010_x86_64.whl (3.3 MB)\n",
            "\u001b[K     |████████████████████████████████| 3.3 MB 56.3 MB/s \n",
            "\u001b[?25hRequirement already satisfied: importlib-metadata in /usr/local/lib/python3.7/dist-packages (from transformers) (4.6.4)\n",
            "Requirement already satisfied: regex!=2019.12.17 in /usr/local/lib/python3.7/dist-packages (from transformers) (2019.12.20)\n",
            "Requirement already satisfied: packaging in /usr/local/lib/python3.7/dist-packages (from transformers) (21.0)\n",
            "Requirement already satisfied: numpy>=1.17 in /usr/local/lib/python3.7/dist-packages (from transformers) (1.19.5)\n",
            "Collecting sacremoses\n",
            "  Downloading sacremoses-0.0.45-py3-none-any.whl (895 kB)\n",
            "\u001b[K     |████████████████████████████████| 895 kB 67.8 MB/s \n",
            "\u001b[?25hRequirement already satisfied: requests in /usr/local/lib/python3.7/dist-packages (from transformers) (2.23.0)\n",
            "Requirement already satisfied: typing-extensions in /usr/local/lib/python3.7/dist-packages (from huggingface-hub==0.0.12->transformers) (3.7.4.3)\n",
            "Requirement already satisfied: pyparsing>=2.0.2 in /usr/local/lib/python3.7/dist-packages (from packaging->transformers) (2.4.7)\n",
            "Requirement already satisfied: zipp>=0.5 in /usr/local/lib/python3.7/dist-packages (from importlib-metadata->transformers) (3.5.0)\n",
            "Requirement already satisfied: idna<3,>=2.5 in /usr/local/lib/python3.7/dist-packages (from requests->transformers) (2.10)\n",
            "Requirement already satisfied: chardet<4,>=3.0.2 in /usr/local/lib/python3.7/dist-packages (from requests->transformers) (3.0.4)\n",
            "Requirement already satisfied: urllib3!=1.25.0,!=1.25.1,<1.26,>=1.21.1 in /usr/local/lib/python3.7/dist-packages (from requests->transformers) (1.24.3)\n",
            "Requirement already satisfied: certifi>=2017.4.17 in /usr/local/lib/python3.7/dist-packages (from requests->transformers) (2021.5.30)\n",
            "Requirement already satisfied: joblib in /usr/local/lib/python3.7/dist-packages (from sacremoses->transformers) (1.0.1)\n",
            "Requirement already satisfied: click in /usr/local/lib/python3.7/dist-packages (from sacremoses->transformers) (7.1.2)\n",
            "Requirement already satisfied: six in /usr/local/lib/python3.7/dist-packages (from sacremoses->transformers) (1.15.0)\n",
            "Installing collected packages: tokenizers, sacremoses, pyyaml, huggingface-hub, transformers\n",
            "  Attempting uninstall: pyyaml\n",
            "    Found existing installation: PyYAML 3.13\n",
            "    Uninstalling PyYAML-3.13:\n",
            "      Successfully uninstalled PyYAML-3.13\n",
            "Successfully installed huggingface-hub-0.0.12 pyyaml-5.4.1 sacremoses-0.0.45 tokenizers-0.10.3 transformers-4.9.2\n"
          ],
          "name": "stdout"
        }
      ]
    },
    {
      "cell_type": "code",
      "metadata": {
        "id": "UVxq8H23U2cM"
      },
      "source": [
        "import tensorflow as tf\n",
        "from transformers import BertTokenizer, TFBertForSequenceClassification\n",
        "from transformers import InputExample, InputFeatures\n",
        "from transformers import BertTokenizer\n",
        "import pandas as pd\n",
        "import numpy as np\n",
        "import torch"
      ],
      "execution_count": null,
      "outputs": []
    },
    {
      "cell_type": "markdown",
      "metadata": {
        "id": "GYfgxjdT3H7r"
      },
      "source": [
        "load clean data"
      ]
    },
    {
      "cell_type": "code",
      "metadata": {
        "id": "pCBkbzEY3FTQ"
      },
      "source": [
        "airlines = pd.read_csv('/content/drive/My Drive/Clean Data/airlines.csv')\n",
        "ebay = pd.read_csv('/content/drive/My Drive/Clean Data/ebay.csv')\n",
        "hotels = pd.read_csv('/content/drive/My Drive/Clean Data/hotels.csv')\n",
        "weather = pd.read_csv('/content/drive/My Drive/Clean Data/weather.csv')\n",
        "movies = pd.read_csv('/content/drive/My Drive/Clean Data/movies.csv')\n",
        "restaurants = pd.read_csv('/content/drive/My Drive/Clean Data/restaurantes.csv')\n",
        "hotels = hotels.fillna('')"
      ],
      "execution_count": null,
      "outputs": []
    },
    {
      "cell_type": "code",
      "metadata": {
        "id": "8mx21XaFUknk"
      },
      "source": [
        "def get_bert_tokenizer():\n",
        "    tokenizer = BertTokenizer.from_pretrained(\"bert-base-uncased\", do_lower_case=True)\n",
        "    return tokenizer"
      ],
      "execution_count": null,
      "outputs": []
    },
    {
      "cell_type": "code",
      "metadata": {
        "colab": {
          "base_uri": "https://localhost:8080/"
        },
        "id": "QLvPRlPyRpKr",
        "outputId": "e0c62983-3928-4b0d-d3af-d52d4a27ef2c"
      },
      "source": [
        "import torch\n",
        "\n",
        "if torch.cuda.is_available():       \n",
        "    device = torch.device(\"cuda:0\")\n",
        "    print(f'There are {torch.cuda.device_count()} GPU(s) available.')\n",
        "    print('Device name:', torch.cuda.get_device_name(0))\n",
        "\n",
        "else:\n",
        "    print('No GPU available, using the CPU instead.')\n",
        "    device = torch.device(\"cpu\")"
      ],
      "execution_count": null,
      "outputs": [
        {
          "output_type": "stream",
          "text": [
            "There are 1 GPU(s) available.\n",
            "Device name: Tesla T4\n"
          ],
          "name": "stdout"
        }
      ]
    },
    {
      "cell_type": "code",
      "metadata": {
        "id": "6g7mZyW5bQGS"
      },
      "source": [
        "# Create a function to tokenize a set of texts\n",
        "def preprocessing_for_bert(data, tokenizer):\n",
        "    \"\"\"Perform required preprocessing steps for pretrained BERT.\n",
        "    @param    data (np.array): Array of texts to be processed.\n",
        "    @return   input_ids (torch.Tensor): Tensor of token ids to be fed to a model.\n",
        "    @return   attention_masks (torch.Tensor): Tensor of indices specifying which\n",
        "                  tokens should be attended to by the model.\n",
        "    \"\"\"\n",
        "    # Create empty lists to store outputs\n",
        "    input_ids = []\n",
        "    attention_masks = []\n",
        "\n",
        "    # For every sentence...\n",
        "    for sentence in data:\n",
        "        # `encode_plus` will:\n",
        "        #    (1) Tokenize the sentence\n",
        "        #    (2) Add the `[CLS]` and `[SEP]` token to the start and end\n",
        "        #    (3) Truncate/Pad sentence to max length\n",
        "        #    (4) Map tokens to their IDs\n",
        "        #    (5) Create attention mask\n",
        "        #    (6) Return a dictionary of outputs\n",
        "        encoded_sent = tokenizer.encode_plus(\n",
        "            sentence,  # Preprocess sentence\n",
        "            add_special_tokens=True,        # Add `[CLS]` and `[SEP]`\n",
        "            max_length=512,                  # Max length to truncate/pad\n",
        "            pad_to_max_length=True,         # Pad sentence to max length\n",
        "            #return_tensors='pt',           # Return PyTorch tensor\n",
        "            return_attention_mask=True      # Return attention mask\n",
        "            )\n",
        "        \n",
        "        # Add the outputs to the lists\n",
        "        input_ids.append(encoded_sent.get('input_ids'))\n",
        "        attention_masks.append(encoded_sent.get('attention_mask'))\n",
        "\n",
        "    # Convert lists to tensors\n",
        "    input_ids = torch.tensor(input_ids)\n",
        "    attention_masks = torch.tensor(attention_masks)\n",
        "\n",
        "    return input_ids, attention_masks"
      ],
      "execution_count": null,
      "outputs": []
    },
    {
      "cell_type": "code",
      "metadata": {
        "id": "m0BHLIBOWyL_"
      },
      "source": [
        "from torch.utils.data import TensorDataset, DataLoader, RandomSampler, SequentialSampler\n",
        "\n",
        "def create_dataloader(inputs, masks, y, train=True, batch_size=8):\n",
        "    labels = torch.tensor(np.array(y.apply(int)))\n",
        "    # Create the DataLoader for our training set\n",
        "    data = TensorDataset(inputs, masks, labels)\n",
        "    if train:\n",
        "        sampler = RandomSampler(data)\n",
        "    else:\n",
        "        sampler = SequentialSampler(data)\n",
        "    dataloader = DataLoader(data, sampler=sampler, batch_size=batch_size)\n",
        "    return dataloader"
      ],
      "execution_count": null,
      "outputs": []
    },
    {
      "cell_type": "code",
      "metadata": {
        "id": "jwrk-093Qo05"
      },
      "source": [
        "import torch\n",
        "import torch.nn as nn\n",
        "from transformers import BertModel\n",
        "\n",
        "# Create the BertClassifier class\n",
        "class BertClassifier(nn.Module):\n",
        "    \"\"\"Bert Model for Classification Tasks.\n",
        "    \"\"\"\n",
        "    def __init__(self, freeze_bert=False):\n",
        "        \"\"\"\n",
        "        @param    bert: a BertModel object\n",
        "        @param    classifier: a torch.nn.Module classifier\n",
        "        @param    freeze_bert (bool): Set `False` to fine-tune the BERT model\n",
        "        \"\"\"\n",
        "        super(BertClassifier, self).__init__()\n",
        "        # Specify hidden size of BERT, hidden size of our classifier, and number of labels\n",
        "        D_in, H, D_out = 768, 50, 2\n",
        "\n",
        "        # Instantiate BERT model\n",
        "        self.bert = BertModel.from_pretrained('bert-base-uncased')\n",
        "\n",
        "        # Instantiate an one-layer feed-forward classifier\n",
        "        self.classifier = nn.Sequential(\n",
        "            nn.Linear(D_in, H),\n",
        "            nn.ReLU(),\n",
        "            #nn.Dropout(0.5),\n",
        "            nn.Linear(H, D_out)\n",
        "        )\n",
        "\n",
        "        # Freeze the BERT model\n",
        "        if freeze_bert:\n",
        "            for param in self.bert.parameters():\n",
        "                param.requires_grad = False\n",
        "        \n",
        "    def forward(self, input_ids, attention_mask):\n",
        "        \"\"\"\n",
        "        Feed input to BERT and the classifier to compute logits.\n",
        "        @param    input_ids (torch.Tensor): an input tensor with shape (batch_size,\n",
        "                      max_length)\n",
        "        @param    attention_mask (torch.Tensor): a tensor that hold attention mask\n",
        "                      information with shape (batch_size, max_length)\n",
        "        @return   logits (torch.Tensor): an output tensor with shape (batch_size,\n",
        "                      num_labels)\n",
        "        \"\"\"\n",
        "        # Feed input to BERT\n",
        "        outputs = self.bert(input_ids=input_ids,\n",
        "                            attention_mask=attention_mask)\n",
        "        \n",
        "        # Extract the last hidden state of the token `[CLS]` for classification task\n",
        "        last_hidden_state_cls = outputs[0][:, 0, :]\n",
        "\n",
        "        # Feed input to classifier to compute logits\n",
        "        logits = self.classifier(last_hidden_state_cls)\n",
        "\n",
        "        return logits"
      ],
      "execution_count": null,
      "outputs": []
    },
    {
      "cell_type": "code",
      "metadata": {
        "id": "Lms8Mx-vQpD4"
      },
      "source": [
        "from transformers import AdamW, get_linear_schedule_with_warmup\n",
        "\n",
        "def initialize_model(epochs=4):\n",
        "    \"\"\"Initialize the Bert Classifier, the optimizer and the learning rate scheduler.\n",
        "    \"\"\"\n",
        "    # Instantiate Bert Classifier\n",
        "    bert_classifier = BertClassifier(freeze_bert=False)\n",
        "\n",
        "    # Tell PyTorch to run the model on GPU\n",
        "    bert_classifier.to(device)\n",
        "\n",
        "    # Create the optimizer\n",
        "    optimizer = AdamW(bert_classifier.parameters(),\n",
        "                      lr=5e-5,    # Default learning rate\n",
        "                      eps=1e-8    # Default epsilon value\n",
        "                      )\n",
        "\n",
        "    # Total number of training steps\n",
        "    total_steps = len(train_dataloader) * epochs\n",
        "\n",
        "    # Set up the learning rate scheduler\n",
        "    scheduler = get_linear_schedule_with_warmup(optimizer,\n",
        "                                                num_warmup_steps=0, # Default value\n",
        "                                                num_training_steps=total_steps)\n",
        "    return bert_classifier, optimizer, scheduler"
      ],
      "execution_count": null,
      "outputs": []
    },
    {
      "cell_type": "code",
      "metadata": {
        "id": "8H-ZVtlFQ5mX"
      },
      "source": [
        "import random\n",
        "import time\n",
        "\n",
        "# Specify loss function\n",
        "loss_fn = nn.CrossEntropyLoss()\n",
        "\n",
        "def set_seed(seed_value=42):\n",
        "    \"\"\"Set seed for reproducibility.\n",
        "    \"\"\"\n",
        "    random.seed(seed_value)\n",
        "    np.random.seed(seed_value)\n",
        "    torch.manual_seed(seed_value)\n",
        "    torch.cuda.manual_seed_all(seed_value)\n",
        "\n",
        "def train(model, train_dataloader, val_dataloader=None, epochs=4, evaluation=False, loss_fn=nn.CrossEntropyLoss()):\n",
        "    \"\"\"Train the BertClassifier model.\n",
        "    \"\"\"\n",
        "    # Start training loop\n",
        "    print(\"Start training...\\n\")\n",
        "    for epoch_i in range(epochs):\n",
        "        # =======================================\n",
        "        #               Training\n",
        "        # =======================================\n",
        "        # Print the header of the result table\n",
        "        print(f\"{'Epoch':^7} | {'Batch':^7} | {'Train Loss':^12} | {'Val Loss':^10} | {'Val Acc':^9} | {'Elapsed':^9}\")\n",
        "        print(\"-\"*70)\n",
        "\n",
        "        # Measure the elapsed time of each epoch\n",
        "        t0_epoch, t0_batch = time.time(), time.time()\n",
        "\n",
        "        # Reset tracking variables at the beginning of each epoch\n",
        "        total_loss, batch_loss, batch_counts = 0, 0, 0\n",
        "\n",
        "        # Put the model into the training mode\n",
        "        model.train()\n",
        "\n",
        "        # For each batch of training data...\n",
        "        for step, batch in enumerate(train_dataloader):\n",
        "            batch_counts +=1\n",
        "            # Load batch to GPU\n",
        "            b_input_ids, b_attn_mask, b_labels = tuple(t.to(device) for t in batch)\n",
        "\n",
        "            # Zero out any previously calculated gradients\n",
        "            model.zero_grad()\n",
        "\n",
        "            # Perform a forward pass. This will return logits.\n",
        "            logits = model(b_input_ids, b_attn_mask)\n",
        "\n",
        "            # Compute loss and accumulate the loss values\n",
        "            loss = loss_fn(logits, b_labels)\n",
        "            batch_loss += loss.item()\n",
        "            total_loss += loss.item()\n",
        "\n",
        "            # Perform a backward pass to calculate gradients\n",
        "            loss.backward()\n",
        "\n",
        "            # Clip the norm of the gradients to 1.0 to prevent \"exploding gradients\"\n",
        "            torch.nn.utils.clip_grad_norm_(model.parameters(), 1.0)\n",
        "\n",
        "            # Update parameters and the learning rate\n",
        "            optimizer.step()\n",
        "            scheduler.step()\n",
        "\n",
        "            # Print the loss values and time elapsed for every 20 batches\n",
        "            if (step % 20 == 0 and step != 0) or (step == len(train_dataloader) - 1):\n",
        "                # Calculate time elapsed for 20 batches\n",
        "                time_elapsed = time.time() - t0_batch\n",
        "\n",
        "                # Print training results\n",
        "                print(f\"{epoch_i + 1:^7} | {step:^7} | {batch_loss / batch_counts:^12.6f} | {'-':^10} | {'-':^9} | {time_elapsed:^9.2f}\")\n",
        "\n",
        "                # Reset batch tracking variables\n",
        "                batch_loss, batch_counts = 0, 0\n",
        "                t0_batch = time.time()\n",
        "\n",
        "        # Calculate the average loss over the entire training data\n",
        "        avg_train_loss = total_loss / len(train_dataloader)\n",
        "\n",
        "        print(\"-\"*70)\n",
        "        # =======================================\n",
        "        #               Evaluation\n",
        "        # =======================================\n",
        "        if evaluation == True:\n",
        "            # After the completion of each training epoch, measure the model's performance on our validation set.\n",
        "            val_loss, val_accuracy = evaluate(model, val_dataloader)\n",
        "\n",
        "            # Print performance over the entire training data\n",
        "            time_elapsed = time.time() - t0_epoch\n",
        "            \n",
        "            print(f\"{epoch_i + 1:^7} | {'-':^7} | {avg_train_loss:^12.6f} | {val_loss:^10.6f} | {val_accuracy:^9.2f} | {time_elapsed:^9.2f}\")\n",
        "            print(\"-\"*70)\n",
        "        print(\"\\n\")\n",
        "    \n",
        "    print(\"Training complete!\")\n",
        "\n",
        "\n",
        "def evaluate(model, val_dataloader, loss_fn=nn.CrossEntropyLoss()):\n",
        "    \"\"\"After the completion of each training epoch, measure the model's performance\n",
        "    on our validation set.\n",
        "    \"\"\"\n",
        "    # Put the model into the evaluation mode. The dropout layers are disabled during the test time.\n",
        "    model.eval()\n",
        "\n",
        "    # Tracking variables\n",
        "    val_accuracy = []\n",
        "    val_loss = []\n",
        "\n",
        "    # For each batch in our validation set...\n",
        "    for batch in val_dataloader:\n",
        "        # Load batch to GPU\n",
        "        b_input_ids, b_attn_mask, b_labels = tuple(t.to(device) for t in batch)\n",
        "\n",
        "        # Compute logits\n",
        "        with torch.no_grad():\n",
        "            logits = model(b_input_ids, b_attn_mask)\n",
        "\n",
        "        # Compute loss\n",
        "        loss = loss_fn(logits, b_labels)\n",
        "        val_loss.append(loss.item())\n",
        "\n",
        "        # Get the predictions\n",
        "        preds = torch.argmax(logits, dim=1).flatten()\n",
        "\n",
        "        # Calculate the accuracy rate\n",
        "        accuracy = (preds == b_labels).cpu().numpy().mean() * 100\n",
        "        val_accuracy.append(accuracy)\n",
        "\n",
        "    # Compute the average accuracy and loss over the validation set.\n",
        "    val_loss = np.mean(val_loss)\n",
        "    val_accuracy = np.mean(val_accuracy)\n",
        "\n",
        "    return val_loss, val_accuracy"
      ],
      "execution_count": null,
      "outputs": []
    },
    {
      "cell_type": "code",
      "metadata": {
        "id": "t74h76QNQ-20"
      },
      "source": [
        "import torch.nn.functional as F\n",
        "\n",
        "def bert_predict(model, test_dataloader):\n",
        "    \"\"\"Perform a forward pass on the trained BERT model to predict probabilities\n",
        "    on the test set.\n",
        "    \"\"\"\n",
        "    # Put the model into the evaluation mode. The dropout layers are disabled during the test time.\n",
        "    model.eval()\n",
        "\n",
        "    all_logits = []\n",
        "\n",
        "    # For each batch in our test set...\n",
        "    for batch in test_dataloader:\n",
        "        # Load batch to GPU\n",
        "        b_input_ids, b_attn_mask = tuple(t.to(device) for t in batch)[:2]\n",
        "\n",
        "        # Compute logits\n",
        "        with torch.no_grad():\n",
        "            logits = model(b_input_ids, b_attn_mask)\n",
        "        all_logits.append(logits)\n",
        "    \n",
        "    # Concatenate logits from each batch\n",
        "    all_logits = torch.cat(all_logits, dim=0)\n",
        "\n",
        "    # Apply softmax to calculate probabilities\n",
        "    probs = F.softmax(all_logits, dim=1).cpu().numpy()\n",
        "\n",
        "    return probs"
      ],
      "execution_count": null,
      "outputs": []
    },
    {
      "cell_type": "markdown",
      "metadata": {
        "id": "Ai_-XpLJmhnY"
      },
      "source": [
        "## CROSS DATASET EVALUATION"
      ]
    },
    {
      "cell_type": "code",
      "metadata": {
        "id": "C7t3xeGomlCt"
      },
      "source": [
        "datasets = {\n",
        "    'airlines' : airlines,\n",
        "    'ebay' : ebay,\n",
        "    'hotels': hotels,\n",
        "    'weather' : weather,\n",
        "    'movies': movies,\n",
        "    'restaurants' : restaurants\n",
        "}"
      ],
      "execution_count": null,
      "outputs": []
    },
    {
      "cell_type": "code",
      "metadata": {
        "id": "6p-vgEYO2H3q"
      },
      "source": [
        "def x_y_split(data):\n",
        "    X = data['review']\n",
        "    y = data['sentiment']\n",
        "    return X, y"
      ],
      "execution_count": null,
      "outputs": []
    },
    {
      "cell_type": "code",
      "metadata": {
        "id": "QKiqT6o5n9pU",
        "colab": {
          "base_uri": "https://localhost:8080/"
        },
        "outputId": "7b7e0338-cd42-421a-b8f2-78d94207b4d0"
      },
      "source": [
        "from sklearn.metrics import confusion_matrix, f1_score, classification_report\n",
        "import gc\n",
        "\n",
        "f1_scores = np.zeros((len(datasets), len(datasets)))\n",
        "\n",
        "for i, (train_key, train_value) in enumerate(datasets.items()):\n",
        "    X_train, y_train = x_y_split(train_value)\n",
        "    tokenizer = get_bert_tokenizer()\n",
        "    train_inputs, train_masks = preprocessing_for_bert(X_train, tokenizer)\n",
        "    train_dataloader = create_dataloader(train_inputs, train_masks, y_train, batch_size=8, train=True)\n",
        "    \n",
        "    loss_fn = nn.CrossEntropyLoss()\n",
        "\n",
        "    torch.cuda.empty_cache()\n",
        "    gc.collect()\n",
        "\n",
        "    set_seed(42)\n",
        "    bert_classifier, optimizer, scheduler = initialize_model(epochs=2)\n",
        "\n",
        "    # train\n",
        "    train(bert_classifier, train_dataloader, epochs=2, loss_fn=loss_fn)\n",
        "    for j, (test_key, test_value) in enumerate(datasets.items()):\n",
        "        if train_key == test_key:\n",
        "          pass\n",
        "        else:\n",
        "            X_test, y_test = x_y_split(test_value)\n",
        "            test_inputs, test_masks = preprocessing_for_bert(X_test, tokenizer)\n",
        "            test_dataloader = create_dataloader(test_inputs, test_masks, y_test,  batch_size=8, train=False)\n",
        "\n",
        "            # predict on test\n",
        "            probs = bert_predict(bert_classifier, test_dataloader)\n",
        "\n",
        "            # Get predictions from the probabilities\n",
        "            threshold = 0.9\n",
        "            preds = np.where(probs[:, 1] > threshold, 1, 0)\n",
        "\n",
        "            print(f'train: {train_key}, test: {test_key}')\n",
        "            print(classification_report(y_test, preds))\n",
        "            score = f1_score(y_test, preds)\n",
        "            f1_scores[i, j] = score"
      ],
      "execution_count": null,
      "outputs": [
        {
          "metadata": {
            "tags": null
          },
          "name": "stderr",
          "output_type": "stream",
          "text": [
            "Truncation was not explicitly activated but `max_length` is provided a specific value, please use `truncation=True` to explicitly truncate examples to max length. Defaulting to 'longest_first' truncation strategy. If you encode pairs of sequences (GLUE-style) with the tokenizer you can select this strategy more precisely by providing a specific strategy to `truncation`.\n",
            "/usr/local/lib/python3.7/dist-packages/transformers/tokenization_utils_base.py:2190: FutureWarning: The `pad_to_max_length` argument is deprecated and will be removed in a future version, use `padding=True` or `padding='longest'` to pad to the longest sequence in the batch, or use `padding='max_length'` to pad to a max length. In this case, you can give a specific length with `max_length` (e.g. `max_length=45`) or leave max_length to None to pad to the maximal input size of the model (e.g. 512 for Bert).\n",
            "  FutureWarning,\n",
            "Some weights of the model checkpoint at bert-base-uncased were not used when initializing BertModel: ['cls.predictions.transform.LayerNorm.weight', 'cls.predictions.transform.dense.bias', 'cls.seq_relationship.weight', 'cls.predictions.decoder.weight', 'cls.predictions.transform.LayerNorm.bias', 'cls.predictions.bias', 'cls.seq_relationship.bias', 'cls.predictions.transform.dense.weight']\n",
            "- This IS expected if you are initializing BertModel from the checkpoint of a model trained on another task or with another architecture (e.g. initializing a BertForSequenceClassification model from a BertForPreTraining model).\n",
            "- This IS NOT expected if you are initializing BertModel from the checkpoint of a model that you expect to be exactly identical (initializing a BertForSequenceClassification model from a BertForSequenceClassification model).\n"
          ]
        },
        {
          "output_type": "stream",
          "text": [
            "Start training...\n",
            "\n",
            " Epoch  |  Batch  |  Train Loss  |  Val Loss  |  Val Acc  |  Elapsed \n",
            "----------------------------------------------------------------------\n",
            "   1    |   20    |   0.689992   |     -      |     -     |   15.69  \n",
            "   1    |   40    |   0.591940   |     -      |     -     |   15.07  \n",
            "   1    |   60    |   0.411845   |     -      |     -     |   15.28  \n",
            "   1    |   80    |   0.550130   |     -      |     -     |   15.37  \n",
            "   1    |   100   |   0.410992   |     -      |     -     |   15.52  \n",
            "   1    |   120   |   0.375731   |     -      |     -     |   15.66  \n",
            "   1    |   140   |   0.425858   |     -      |     -     |   15.83  \n",
            "   1    |   160   |   0.472316   |     -      |     -     |   15.89  \n",
            "   1    |   180   |   0.407244   |     -      |     -     |   15.91  \n",
            "   1    |   200   |   0.357097   |     -      |     -     |   15.99  \n",
            "   1    |   220   |   0.306868   |     -      |     -     |   16.11  \n",
            "   1    |   240   |   0.283551   |     -      |     -     |   16.20  \n",
            "   1    |   260   |   0.401835   |     -      |     -     |   16.22  \n",
            "   1    |   280   |   0.467226   |     -      |     -     |   16.24  \n",
            "   1    |   300   |   0.342817   |     -      |     -     |   16.34  \n",
            "   1    |   320   |   0.361415   |     -      |     -     |   16.47  \n",
            "   1    |   340   |   0.456237   |     -      |     -     |   16.45  \n",
            "   1    |   360   |   0.395309   |     -      |     -     |   16.43  \n",
            "   1    |   380   |   0.438429   |     -      |     -     |   16.50  \n",
            "   1    |   400   |   0.263179   |     -      |     -     |   16.53  \n",
            "   1    |   420   |   0.436474   |     -      |     -     |   16.59  \n",
            "   1    |   440   |   0.337228   |     -      |     -     |   16.63  \n",
            "   1    |   460   |   0.273446   |     -      |     -     |   16.60  \n",
            "   1    |   480   |   0.346233   |     -      |     -     |   16.55  \n",
            "   1    |   500   |   0.588343   |     -      |     -     |   16.63  \n",
            "   1    |   520   |   0.446536   |     -      |     -     |   16.61  \n",
            "   1    |   540   |   0.347093   |     -      |     -     |   16.64  \n",
            "   1    |   560   |   0.316077   |     -      |     -     |   16.56  \n",
            "   1    |   580   |   0.225162   |     -      |     -     |   16.55  \n",
            "   1    |   600   |   0.358775   |     -      |     -     |   16.57  \n",
            "   1    |   620   |   0.370941   |     -      |     -     |   16.59  \n",
            "   1    |   640   |   0.315885   |     -      |     -     |   16.57  \n",
            "   1    |   660   |   0.351596   |     -      |     -     |   16.61  \n",
            "   1    |   680   |   0.326504   |     -      |     -     |   16.57  \n",
            "   1    |   700   |   0.460838   |     -      |     -     |   16.61  \n",
            "   1    |   720   |   0.255534   |     -      |     -     |   16.57  \n",
            "   1    |   740   |   0.329034   |     -      |     -     |   16.58  \n",
            "   1    |   760   |   0.244799   |     -      |     -     |   16.60  \n",
            "   1    |   780   |   0.364859   |     -      |     -     |   16.66  \n",
            "   1    |   800   |   0.316482   |     -      |     -     |   16.55  \n",
            "   1    |   820   |   0.346651   |     -      |     -     |   16.52  \n",
            "   1    |   840   |   0.422829   |     -      |     -     |   16.57  \n",
            "   1    |   860   |   0.292453   |     -      |     -     |   16.55  \n",
            "   1    |   880   |   0.233559   |     -      |     -     |   16.53  \n",
            "   1    |   900   |   0.543571   |     -      |     -     |   16.54  \n",
            "   1    |   920   |   0.205775   |     -      |     -     |   16.54  \n",
            "   1    |   940   |   0.394568   |     -      |     -     |   16.57  \n",
            "   1    |   960   |   0.278935   |     -      |     -     |   16.60  \n",
            "   1    |   980   |   0.357453   |     -      |     -     |   16.51  \n",
            "   1    |  1000   |   0.257918   |     -      |     -     |   16.56  \n",
            "   1    |  1020   |   0.378677   |     -      |     -     |   16.56  \n",
            "   1    |  1040   |   0.282665   |     -      |     -     |   16.54  \n",
            "   1    |  1060   |   0.314877   |     -      |     -     |   16.55  \n",
            "   1    |  1080   |   0.242924   |     -      |     -     |   16.58  \n",
            "   1    |  1100   |   0.231236   |     -      |     -     |   16.56  \n",
            "   1    |  1120   |   0.240500   |     -      |     -     |   16.53  \n",
            "   1    |  1140   |   0.292540   |     -      |     -     |   16.58  \n",
            "   1    |  1160   |   0.462742   |     -      |     -     |   16.57  \n",
            "   1    |  1180   |   0.307430   |     -      |     -     |   16.54  \n",
            "   1    |  1200   |   0.370068   |     -      |     -     |   16.54  \n",
            "   1    |  1220   |   0.439918   |     -      |     -     |   16.58  \n",
            "   1    |  1240   |   0.276296   |     -      |     -     |   16.56  \n",
            "   1    |  1260   |   0.308230   |     -      |     -     |   16.60  \n",
            "   1    |  1280   |   0.305870   |     -      |     -     |   16.57  \n",
            "   1    |  1300   |   0.130201   |     -      |     -     |   16.58  \n",
            "   1    |  1320   |   0.336713   |     -      |     -     |   16.59  \n",
            "   1    |  1340   |   0.265417   |     -      |     -     |   16.62  \n",
            "   1    |  1360   |   0.320345   |     -      |     -     |   16.62  \n",
            "   1    |  1380   |   0.375620   |     -      |     -     |   16.58  \n",
            "   1    |  1400   |   0.323897   |     -      |     -     |   16.54  \n",
            "   1    |  1420   |   0.203647   |     -      |     -     |   16.57  \n",
            "   1    |  1440   |   0.222690   |     -      |     -     |   16.55  \n",
            "   1    |  1460   |   0.353480   |     -      |     -     |   16.55  \n",
            "   1    |  1480   |   0.404989   |     -      |     -     |   16.61  \n",
            "   1    |  1500   |   0.281355   |     -      |     -     |   16.61  \n",
            "   1    |  1520   |   0.477436   |     -      |     -     |   16.58  \n",
            "   1    |  1540   |   0.345188   |     -      |     -     |   16.55  \n",
            "   1    |  1560   |   0.396876   |     -      |     -     |   16.56  \n",
            "   1    |  1580   |   0.310483   |     -      |     -     |   16.56  \n",
            "   1    |  1600   |   0.300135   |     -      |     -     |   16.59  \n",
            "   1    |  1620   |   0.289250   |     -      |     -     |   16.52  \n",
            "   1    |  1640   |   0.194660   |     -      |     -     |   16.53  \n",
            "   1    |  1660   |   0.268711   |     -      |     -     |   16.53  \n",
            "   1    |  1680   |   0.314529   |     -      |     -     |   16.51  \n",
            "   1    |  1700   |   0.409329   |     -      |     -     |   16.56  \n",
            "   1    |  1720   |   0.405561   |     -      |     -     |   16.54  \n",
            "   1    |  1740   |   0.196089   |     -      |     -     |   16.58  \n",
            "   1    |  1760   |   0.317204   |     -      |     -     |   16.52  \n",
            "   1    |  1780   |   0.325627   |     -      |     -     |   16.58  \n",
            "   1    |  1800   |   0.368679   |     -      |     -     |   16.51  \n",
            "   1    |  1820   |   0.342701   |     -      |     -     |   16.52  \n",
            "   1    |  1840   |   0.207487   |     -      |     -     |   16.56  \n",
            "   1    |  1860   |   0.322571   |     -      |     -     |   16.52  \n",
            "   1    |  1880   |   0.373909   |     -      |     -     |   16.52  \n",
            "   1    |  1900   |   0.350631   |     -      |     -     |   16.55  \n",
            "   1    |  1920   |   0.280125   |     -      |     -     |   16.55  \n",
            "   1    |  1940   |   0.259165   |     -      |     -     |   16.52  \n",
            "   1    |  1960   |   0.255264   |     -      |     -     |   16.55  \n",
            "   1    |  1980   |   0.301281   |     -      |     -     |   16.63  \n",
            "   1    |  2000   |   0.427544   |     -      |     -     |   16.62  \n",
            "   1    |  2020   |   0.252713   |     -      |     -     |   16.48  \n",
            "   1    |  2040   |   0.258928   |     -      |     -     |   16.58  \n",
            "   1    |  2060   |   0.233171   |     -      |     -     |   16.54  \n",
            "   1    |  2080   |   0.397307   |     -      |     -     |   16.51  \n",
            "   1    |  2100   |   0.267152   |     -      |     -     |   16.53  \n",
            "   1    |  2120   |   0.323163   |     -      |     -     |   16.47  \n",
            "   1    |  2140   |   0.357790   |     -      |     -     |   16.56  \n",
            "   1    |  2160   |   0.123740   |     -      |     -     |   16.52  \n",
            "   1    |  2180   |   0.302040   |     -      |     -     |   16.56  \n",
            "   1    |  2200   |   0.399644   |     -      |     -     |   16.57  \n",
            "   1    |  2220   |   0.252759   |     -      |     -     |   16.53  \n",
            "   1    |  2240   |   0.269488   |     -      |     -     |   16.52  \n",
            "   1    |  2260   |   0.326879   |     -      |     -     |   16.59  \n",
            "   1    |  2280   |   0.227337   |     -      |     -     |   16.56  \n",
            "   1    |  2300   |   0.335625   |     -      |     -     |   16.57  \n",
            "   1    |  2320   |   0.286863   |     -      |     -     |   16.48  \n",
            "   1    |  2340   |   0.340301   |     -      |     -     |   16.52  \n",
            "   1    |  2360   |   0.202986   |     -      |     -     |   16.58  \n",
            "   1    |  2380   |   0.326409   |     -      |     -     |   16.59  \n",
            "   1    |  2400   |   0.230288   |     -      |     -     |   16.51  \n",
            "   1    |  2420   |   0.313059   |     -      |     -     |   16.58  \n",
            "   1    |  2440   |   0.284968   |     -      |     -     |   16.57  \n",
            "   1    |  2460   |   0.244297   |     -      |     -     |   16.54  \n",
            "   1    |  2480   |   0.320568   |     -      |     -     |   16.58  \n",
            "   1    |  2500   |   0.248553   |     -      |     -     |   16.60  \n",
            "   1    |  2520   |   0.281601   |     -      |     -     |   16.61  \n",
            "   1    |  2540   |   0.331541   |     -      |     -     |   16.51  \n",
            "   1    |  2560   |   0.149231   |     -      |     -     |   16.50  \n",
            "   1    |  2580   |   0.429398   |     -      |     -     |   16.55  \n",
            "   1    |  2600   |   0.241271   |     -      |     -     |   16.54  \n",
            "   1    |  2620   |   0.318859   |     -      |     -     |   16.55  \n",
            "   1    |  2640   |   0.148739   |     -      |     -     |   16.57  \n",
            "   1    |  2660   |   0.256134   |     -      |     -     |   16.56  \n",
            "   1    |  2680   |   0.218807   |     -      |     -     |   16.52  \n",
            "   1    |  2700   |   0.210328   |     -      |     -     |   16.55  \n",
            "   1    |  2720   |   0.332883   |     -      |     -     |   16.57  \n",
            "   1    |  2740   |   0.351191   |     -      |     -     |   16.51  \n",
            "   1    |  2760   |   0.229359   |     -      |     -     |   16.53  \n",
            "   1    |  2780   |   0.427344   |     -      |     -     |   16.55  \n",
            "   1    |  2800   |   0.373071   |     -      |     -     |   16.60  \n",
            "   1    |  2820   |   0.192944   |     -      |     -     |   16.58  \n",
            "   1    |  2840   |   0.175447   |     -      |     -     |   16.53  \n",
            "   1    |  2860   |   0.243115   |     -      |     -     |   16.53  \n",
            "   1    |  2880   |   0.250458   |     -      |     -     |   16.54  \n",
            "   1    |  2900   |   0.287831   |     -      |     -     |   16.55  \n",
            "   1    |  2920   |   0.340833   |     -      |     -     |   16.51  \n",
            "   1    |  2940   |   0.240870   |     -      |     -     |   16.49  \n",
            "   1    |  2960   |   0.243864   |     -      |     -     |   16.50  \n",
            "   1    |  2980   |   0.255377   |     -      |     -     |   16.53  \n",
            "   1    |  3000   |   0.259876   |     -      |     -     |   16.52  \n",
            "   1    |  3020   |   0.353528   |     -      |     -     |   16.53  \n",
            "   1    |  3040   |   0.171811   |     -      |     -     |   16.56  \n",
            "   1    |  3060   |   0.231288   |     -      |     -     |   16.53  \n",
            "   1    |  3080   |   0.361646   |     -      |     -     |   16.54  \n",
            "   1    |  3100   |   0.318723   |     -      |     -     |   16.51  \n",
            "   1    |  3120   |   0.348935   |     -      |     -     |   16.51  \n",
            "   1    |  3124   |   0.075609   |     -      |     -     |   3.28   \n",
            "----------------------------------------------------------------------\n",
            "\n",
            "\n",
            " Epoch  |  Batch  |  Train Loss  |  Val Loss  |  Val Acc  |  Elapsed \n",
            "----------------------------------------------------------------------\n",
            "   2    |   20    |   0.179238   |     -      |     -     |   17.39  \n",
            "   2    |   40    |   0.156152   |     -      |     -     |   16.52  \n",
            "   2    |   60    |   0.211884   |     -      |     -     |   16.56  \n",
            "   2    |   80    |   0.137992   |     -      |     -     |   16.52  \n",
            "   2    |   100   |   0.166029   |     -      |     -     |   16.52  \n",
            "   2    |   120   |   0.048252   |     -      |     -     |   16.54  \n",
            "   2    |   140   |   0.117354   |     -      |     -     |   16.55  \n",
            "   2    |   160   |   0.118087   |     -      |     -     |   16.51  \n",
            "   2    |   180   |   0.067423   |     -      |     -     |   16.54  \n",
            "   2    |   200   |   0.229005   |     -      |     -     |   16.55  \n",
            "   2    |   220   |   0.066568   |     -      |     -     |   16.52  \n",
            "   2    |   240   |   0.211100   |     -      |     -     |   16.49  \n",
            "   2    |   260   |   0.077385   |     -      |     -     |   16.53  \n",
            "   2    |   280   |   0.124567   |     -      |     -     |   16.55  \n",
            "   2    |   300   |   0.179937   |     -      |     -     |   16.57  \n",
            "   2    |   320   |   0.163225   |     -      |     -     |   16.50  \n",
            "   2    |   340   |   0.169229   |     -      |     -     |   16.57  \n",
            "   2    |   360   |   0.088395   |     -      |     -     |   16.56  \n",
            "   2    |   380   |   0.237548   |     -      |     -     |   16.56  \n",
            "   2    |   400   |   0.123490   |     -      |     -     |   16.52  \n",
            "   2    |   420   |   0.193288   |     -      |     -     |   16.55  \n",
            "   2    |   440   |   0.057868   |     -      |     -     |   16.56  \n",
            "   2    |   460   |   0.089733   |     -      |     -     |   16.53  \n",
            "   2    |   480   |   0.098356   |     -      |     -     |   16.55  \n",
            "   2    |   500   |   0.170628   |     -      |     -     |   16.50  \n",
            "   2    |   520   |   0.147343   |     -      |     -     |   16.50  \n",
            "   2    |   540   |   0.192205   |     -      |     -     |   16.49  \n",
            "   2    |   560   |   0.220076   |     -      |     -     |   16.51  \n",
            "   2    |   580   |   0.135536   |     -      |     -     |   16.58  \n",
            "   2    |   600   |   0.256478   |     -      |     -     |   16.57  \n",
            "   2    |   620   |   0.137695   |     -      |     -     |   16.56  \n",
            "   2    |   640   |   0.187866   |     -      |     -     |   16.56  \n",
            "   2    |   660   |   0.136564   |     -      |     -     |   16.50  \n",
            "   2    |   680   |   0.167993   |     -      |     -     |   16.51  \n",
            "   2    |   700   |   0.199915   |     -      |     -     |   16.54  \n",
            "   2    |   720   |   0.152079   |     -      |     -     |   16.51  \n",
            "   2    |   740   |   0.227765   |     -      |     -     |   16.52  \n",
            "   2    |   760   |   0.092551   |     -      |     -     |   16.49  \n",
            "   2    |   780   |   0.225061   |     -      |     -     |   16.59  \n",
            "   2    |   800   |   0.039938   |     -      |     -     |   16.49  \n",
            "   2    |   820   |   0.183663   |     -      |     -     |   16.49  \n",
            "   2    |   840   |   0.136889   |     -      |     -     |   16.49  \n",
            "   2    |   860   |   0.206042   |     -      |     -     |   16.54  \n",
            "   2    |   880   |   0.097579   |     -      |     -     |   16.45  \n",
            "   2    |   900   |   0.264329   |     -      |     -     |   16.52  \n",
            "   2    |   920   |   0.317345   |     -      |     -     |   16.53  \n",
            "   2    |   940   |   0.165183   |     -      |     -     |   16.49  \n",
            "   2    |   960   |   0.215363   |     -      |     -     |   16.43  \n",
            "   2    |   980   |   0.266457   |     -      |     -     |   16.51  \n",
            "   2    |  1000   |   0.113281   |     -      |     -     |   16.52  \n",
            "   2    |  1020   |   0.032805   |     -      |     -     |   16.50  \n",
            "   2    |  1040   |   0.237583   |     -      |     -     |   16.59  \n",
            "   2    |  1060   |   0.176146   |     -      |     -     |   16.48  \n",
            "   2    |  1080   |   0.187609   |     -      |     -     |   16.55  \n",
            "   2    |  1100   |   0.111520   |     -      |     -     |   16.47  \n",
            "   2    |  1120   |   0.157300   |     -      |     -     |   16.49  \n",
            "   2    |  1140   |   0.066000   |     -      |     -     |   16.54  \n",
            "   2    |  1160   |   0.173396   |     -      |     -     |   16.46  \n",
            "   2    |  1180   |   0.090634   |     -      |     -     |   16.48  \n",
            "   2    |  1200   |   0.260922   |     -      |     -     |   16.54  \n",
            "   2    |  1220   |   0.289085   |     -      |     -     |   16.61  \n",
            "   2    |  1240   |   0.289393   |     -      |     -     |   16.55  \n",
            "   2    |  1260   |   0.088590   |     -      |     -     |   16.56  \n",
            "   2    |  1280   |   0.217037   |     -      |     -     |   16.56  \n",
            "   2    |  1300   |   0.227375   |     -      |     -     |   16.59  \n",
            "   2    |  1320   |   0.031128   |     -      |     -     |   16.51  \n",
            "   2    |  1340   |   0.066344   |     -      |     -     |   16.52  \n",
            "   2    |  1360   |   0.111905   |     -      |     -     |   16.47  \n",
            "   2    |  1380   |   0.262139   |     -      |     -     |   16.55  \n",
            "   2    |  1400   |   0.201934   |     -      |     -     |   16.48  \n",
            "   2    |  1420   |   0.120632   |     -      |     -     |   16.53  \n",
            "   2    |  1440   |   0.168148   |     -      |     -     |   16.46  \n",
            "   2    |  1460   |   0.202026   |     -      |     -     |   16.51  \n",
            "   2    |  1480   |   0.159205   |     -      |     -     |   16.48  \n",
            "   2    |  1500   |   0.215332   |     -      |     -     |   16.45  \n",
            "   2    |  1520   |   0.222775   |     -      |     -     |   16.48  \n",
            "   2    |  1540   |   0.248584   |     -      |     -     |   16.51  \n",
            "   2    |  1560   |   0.047284   |     -      |     -     |   16.50  \n",
            "   2    |  1580   |   0.165612   |     -      |     -     |   16.53  \n",
            "   2    |  1600   |   0.112641   |     -      |     -     |   16.46  \n",
            "   2    |  1620   |   0.083139   |     -      |     -     |   16.51  \n",
            "   2    |  1640   |   0.071447   |     -      |     -     |   16.48  \n",
            "   2    |  1660   |   0.132375   |     -      |     -     |   16.50  \n",
            "   2    |  1680   |   0.108458   |     -      |     -     |   16.52  \n",
            "   2    |  1700   |   0.110856   |     -      |     -     |   16.46  \n",
            "   2    |  1720   |   0.269403   |     -      |     -     |   16.50  \n",
            "   2    |  1740   |   0.163375   |     -      |     -     |   16.54  \n",
            "   2    |  1760   |   0.229272   |     -      |     -     |   16.54  \n",
            "   2    |  1780   |   0.059188   |     -      |     -     |   16.41  \n",
            "   2    |  1800   |   0.140557   |     -      |     -     |   16.51  \n",
            "   2    |  1820   |   0.185226   |     -      |     -     |   16.49  \n",
            "   2    |  1840   |   0.153844   |     -      |     -     |   16.52  \n",
            "   2    |  1860   |   0.163941   |     -      |     -     |   16.51  \n",
            "   2    |  1880   |   0.234634   |     -      |     -     |   16.49  \n",
            "   2    |  1900   |   0.121699   |     -      |     -     |   16.51  \n",
            "   2    |  1920   |   0.116216   |     -      |     -     |   16.50  \n",
            "   2    |  1940   |   0.058417   |     -      |     -     |   16.47  \n",
            "   2    |  1960   |   0.217257   |     -      |     -     |   16.45  \n",
            "   2    |  1980   |   0.276497   |     -      |     -     |   16.54  \n",
            "   2    |  2000   |   0.130755   |     -      |     -     |   16.47  \n",
            "   2    |  2020   |   0.104690   |     -      |     -     |   16.56  \n",
            "   2    |  2040   |   0.174774   |     -      |     -     |   16.52  \n",
            "   2    |  2060   |   0.126050   |     -      |     -     |   16.47  \n",
            "   2    |  2080   |   0.142721   |     -      |     -     |   16.55  \n",
            "   2    |  2100   |   0.191267   |     -      |     -     |   16.49  \n",
            "   2    |  2120   |   0.164471   |     -      |     -     |   16.53  \n",
            "   2    |  2140   |   0.093768   |     -      |     -     |   16.50  \n",
            "   2    |  2160   |   0.066534   |     -      |     -     |   16.52  \n",
            "   2    |  2180   |   0.067892   |     -      |     -     |   16.56  \n",
            "   2    |  2200   |   0.098201   |     -      |     -     |   16.54  \n",
            "   2    |  2220   |   0.067858   |     -      |     -     |   16.53  \n",
            "   2    |  2240   |   0.060340   |     -      |     -     |   16.54  \n",
            "   2    |  2260   |   0.005434   |     -      |     -     |   16.48  \n",
            "   2    |  2280   |   0.150842   |     -      |     -     |   16.52  \n",
            "   2    |  2300   |   0.221322   |     -      |     -     |   16.56  \n",
            "   2    |  2320   |   0.236226   |     -      |     -     |   16.57  \n",
            "   2    |  2340   |   0.164036   |     -      |     -     |   16.53  \n",
            "   2    |  2360   |   0.138736   |     -      |     -     |   16.51  \n",
            "   2    |  2380   |   0.214292   |     -      |     -     |   16.49  \n",
            "   2    |  2400   |   0.303127   |     -      |     -     |   16.52  \n",
            "   2    |  2420   |   0.219731   |     -      |     -     |   16.49  \n",
            "   2    |  2440   |   0.238324   |     -      |     -     |   16.51  \n",
            "   2    |  2460   |   0.076024   |     -      |     -     |   16.49  \n",
            "   2    |  2480   |   0.111333   |     -      |     -     |   16.49  \n",
            "   2    |  2500   |   0.072674   |     -      |     -     |   16.48  \n",
            "   2    |  2520   |   0.196857   |     -      |     -     |   16.52  \n",
            "   2    |  2540   |   0.092865   |     -      |     -     |   16.54  \n",
            "   2    |  2560   |   0.186366   |     -      |     -     |   16.53  \n",
            "   2    |  2580   |   0.256666   |     -      |     -     |   16.51  \n",
            "   2    |  2600   |   0.194805   |     -      |     -     |   16.51  \n",
            "   2    |  2620   |   0.210423   |     -      |     -     |   16.53  \n",
            "   2    |  2640   |   0.104455   |     -      |     -     |   16.48  \n",
            "   2    |  2660   |   0.128970   |     -      |     -     |   16.52  \n",
            "   2    |  2680   |   0.125863   |     -      |     -     |   16.56  \n",
            "   2    |  2700   |   0.177919   |     -      |     -     |   16.54  \n",
            "   2    |  2720   |   0.110894   |     -      |     -     |   16.50  \n",
            "   2    |  2740   |   0.033676   |     -      |     -     |   16.60  \n",
            "   2    |  2760   |   0.119636   |     -      |     -     |   16.45  \n",
            "   2    |  2780   |   0.164821   |     -      |     -     |   16.56  \n",
            "   2    |  2800   |   0.074554   |     -      |     -     |   16.51  \n",
            "   2    |  2820   |   0.106320   |     -      |     -     |   16.53  \n",
            "   2    |  2840   |   0.057327   |     -      |     -     |   16.54  \n",
            "   2    |  2860   |   0.226534   |     -      |     -     |   16.52  \n",
            "   2    |  2880   |   0.190021   |     -      |     -     |   16.49  \n",
            "   2    |  2900   |   0.179314   |     -      |     -     |   16.49  \n",
            "   2    |  2920   |   0.136992   |     -      |     -     |   16.52  \n",
            "   2    |  2940   |   0.224757   |     -      |     -     |   16.54  \n",
            "   2    |  2960   |   0.132215   |     -      |     -     |   16.48  \n",
            "   2    |  2980   |   0.115482   |     -      |     -     |   16.46  \n",
            "   2    |  3000   |   0.084543   |     -      |     -     |   16.45  \n",
            "   2    |  3020   |   0.060684   |     -      |     -     |   16.46  \n",
            "   2    |  3040   |   0.287258   |     -      |     -     |   16.53  \n",
            "   2    |  3060   |   0.276767   |     -      |     -     |   16.51  \n",
            "   2    |  3080   |   0.080594   |     -      |     -     |   16.46  \n",
            "   2    |  3100   |   0.121719   |     -      |     -     |   16.50  \n",
            "   2    |  3120   |   0.125057   |     -      |     -     |   16.48  \n",
            "   2    |  3124   |   0.015478   |     -      |     -     |   3.29   \n",
            "----------------------------------------------------------------------\n",
            "\n",
            "\n",
            "Training complete!\n",
            "train: movies, test: airlines\n",
            "              precision    recall  f1-score   support\n",
            "\n",
            "           0       0.84      0.85      0.85      2294\n",
            "           1       0.85      0.85      0.85      2363\n",
            "\n",
            "    accuracy                           0.85      4657\n",
            "   macro avg       0.85      0.85      0.85      4657\n",
            "weighted avg       0.85      0.85      0.85      4657\n",
            "\n",
            "train: movies, test: ebay\n",
            "              precision    recall  f1-score   support\n",
            "\n",
            "           0       0.88      0.85      0.86      1942\n",
            "           1       0.86      0.89      0.88      2072\n",
            "\n",
            "    accuracy                           0.87      4014\n",
            "   macro avg       0.87      0.87      0.87      4014\n",
            "weighted avg       0.87      0.87      0.87      4014\n",
            "\n",
            "train: movies, test: hotels\n",
            "              precision    recall  f1-score   support\n",
            "\n",
            "         0.0       0.86      0.89      0.88      7483\n",
            "         1.0       0.90      0.88      0.89      8577\n",
            "\n",
            "    accuracy                           0.88     16060\n",
            "   macro avg       0.88      0.88      0.88     16060\n",
            "weighted avg       0.88      0.88      0.88     16060\n",
            "\n",
            "train: movies, test: weather\n",
            "              precision    recall  f1-score   support\n",
            "\n",
            "           0       0.24      0.27      0.26       231\n",
            "           1       0.31      0.28      0.30       271\n",
            "\n",
            "    accuracy                           0.28       502\n",
            "   macro avg       0.28      0.28      0.28       502\n",
            "weighted avg       0.28      0.28      0.28       502\n",
            "\n",
            "train: movies, test: restaurants\n",
            "              precision    recall  f1-score   support\n",
            "\n",
            "           0       0.89      0.89      0.89       500\n",
            "           1       0.89      0.89      0.89       500\n",
            "\n",
            "    accuracy                           0.89      1000\n",
            "   macro avg       0.89      0.89      0.89      1000\n",
            "weighted avg       0.89      0.89      0.89      1000\n",
            "\n"
          ],
          "name": "stdout"
        },
        {
          "output_type": "stream",
          "text": [
            "Truncation was not explicitly activated but `max_length` is provided a specific value, please use `truncation=True` to explicitly truncate examples to max length. Defaulting to 'longest_first' truncation strategy. If you encode pairs of sequences (GLUE-style) with the tokenizer you can select this strategy more precisely by providing a specific strategy to `truncation`.\n",
            "Some weights of the model checkpoint at bert-base-uncased were not used when initializing BertModel: ['cls.predictions.transform.LayerNorm.weight', 'cls.predictions.transform.dense.bias', 'cls.seq_relationship.weight', 'cls.predictions.decoder.weight', 'cls.predictions.transform.LayerNorm.bias', 'cls.predictions.bias', 'cls.seq_relationship.bias', 'cls.predictions.transform.dense.weight']\n",
            "- This IS expected if you are initializing BertModel from the checkpoint of a model trained on another task or with another architecture (e.g. initializing a BertForSequenceClassification model from a BertForPreTraining model).\n",
            "- This IS NOT expected if you are initializing BertModel from the checkpoint of a model that you expect to be exactly identical (initializing a BertForSequenceClassification model from a BertForSequenceClassification model).\n"
          ],
          "name": "stderr"
        },
        {
          "output_type": "stream",
          "text": [
            "Start training...\n",
            "\n",
            " Epoch  |  Batch  |  Train Loss  |  Val Loss  |  Val Acc  |  Elapsed \n",
            "----------------------------------------------------------------------\n",
            "   1    |   20    |   0.663949   |     -      |     -     |   16.65  \n",
            "   1    |   40    |   0.405464   |     -      |     -     |   16.01  \n",
            "   1    |   60    |   0.326408   |     -      |     -     |   15.98  \n",
            "   1    |   80    |   0.283758   |     -      |     -     |   15.85  \n",
            "   1    |   100   |   0.176459   |     -      |     -     |   15.86  \n",
            "   1    |   120   |   0.146234   |     -      |     -     |   15.84  \n",
            "   1    |   124   |   0.573477   |     -      |     -     |   3.19   \n",
            "----------------------------------------------------------------------\n",
            "\n",
            "\n",
            " Epoch  |  Batch  |  Train Loss  |  Val Loss  |  Val Acc  |  Elapsed \n",
            "----------------------------------------------------------------------\n",
            "   2    |   20    |   0.099258   |     -      |     -     |   16.67  \n",
            "   2    |   40    |   0.048002   |     -      |     -     |   15.89  \n",
            "   2    |   60    |   0.098620   |     -      |     -     |   15.91  \n",
            "   2    |   80    |   0.027948   |     -      |     -     |   15.85  \n",
            "   2    |   100   |   0.140245   |     -      |     -     |   15.84  \n",
            "   2    |   120   |   0.046754   |     -      |     -     |   15.85  \n",
            "   2    |   124   |   0.006307   |     -      |     -     |   3.17   \n",
            "----------------------------------------------------------------------\n",
            "\n",
            "\n",
            "Training complete!\n",
            "train: restaurants, test: airlines\n",
            "              precision    recall  f1-score   support\n",
            "\n",
            "           0       0.81      0.96      0.88      2294\n",
            "           1       0.95      0.78      0.86      2363\n",
            "\n",
            "    accuracy                           0.87      4657\n",
            "   macro avg       0.88      0.87      0.87      4657\n",
            "weighted avg       0.88      0.87      0.87      4657\n",
            "\n",
            "train: restaurants, test: ebay\n",
            "              precision    recall  f1-score   support\n",
            "\n",
            "           0       0.77      0.97      0.86      1942\n",
            "           1       0.96      0.73      0.83      2072\n",
            "\n",
            "    accuracy                           0.85      4014\n",
            "   macro avg       0.87      0.85      0.84      4014\n",
            "weighted avg       0.87      0.85      0.84      4014\n",
            "\n",
            "train: restaurants, test: hotels\n",
            "              precision    recall  f1-score   support\n",
            "\n",
            "         0.0       0.76      0.94      0.84      7483\n",
            "         1.0       0.93      0.74      0.82      8577\n",
            "\n",
            "    accuracy                           0.83     16060\n",
            "   macro avg       0.84      0.84      0.83     16060\n",
            "weighted avg       0.85      0.83      0.83     16060\n",
            "\n",
            "train: restaurants, test: weather\n",
            "              precision    recall  f1-score   support\n",
            "\n",
            "           0       0.21      0.28      0.24       231\n",
            "           1       0.14      0.10      0.12       271\n",
            "\n",
            "    accuracy                           0.19       502\n",
            "   macro avg       0.18      0.19      0.18       502\n",
            "weighted avg       0.18      0.19      0.18       502\n",
            "\n",
            "train: restaurants, test: movies\n",
            "              precision    recall  f1-score   support\n",
            "\n",
            "           0       0.60      0.99      0.75     12500\n",
            "           1       0.98      0.34      0.51     12500\n",
            "\n",
            "    accuracy                           0.67     25000\n",
            "   macro avg       0.79      0.67      0.63     25000\n",
            "weighted avg       0.79      0.67      0.63     25000\n",
            "\n"
          ],
          "name": "stdout"
        }
      ]
    },
    {
      "cell_type": "code",
      "metadata": {
        "id": "5qE7IAuM6PcV"
      },
      "source": [
        "f1_scores_pd = pd.DataFrame(f1_scores, columns=datasets.keys(), index=datasets.keys())\n",
        "f1_scores_pd"
      ],
      "execution_count": null,
      "outputs": []
    },
    {
      "cell_type": "code",
      "metadata": {
        "id": "fptq3AdrEzKC"
      },
      "source": [
        "f1_scores_pd.to_csv('/content/drive/My Drive/f1_scores.csv')"
      ],
      "execution_count": null,
      "outputs": []
    },
    {
      "cell_type": "markdown",
      "metadata": {
        "id": "wmZNCwPqhDCt"
      },
      "source": [
        "## Datasets Similarity"
      ]
    },
    {
      "cell_type": "code",
      "metadata": {
        "id": "AckNcGgNfaQ8",
        "colab": {
          "base_uri": "https://localhost:8080/"
        },
        "outputId": "b10a3728-8f36-4cf7-d6cb-1d17273fc7a5"
      },
      "source": [
        "! pip install --upgrade gensim"
      ],
      "execution_count": null,
      "outputs": [
        {
          "output_type": "stream",
          "text": [
            "Requirement already satisfied: gensim in /usr/local/lib/python3.7/dist-packages (3.6.0)\n",
            "Collecting gensim\n",
            "  Downloading gensim-4.0.1-cp37-cp37m-manylinux1_x86_64.whl (23.9 MB)\n",
            "\u001b[K     |████████████████████████████████| 23.9 MB 85 kB/s \n",
            "\u001b[?25hRequirement already satisfied: scipy>=0.18.1 in /usr/local/lib/python3.7/dist-packages (from gensim) (1.4.1)\n",
            "Requirement already satisfied: numpy>=1.11.3 in /usr/local/lib/python3.7/dist-packages (from gensim) (1.19.5)\n",
            "Requirement already satisfied: smart-open>=1.8.1 in /usr/local/lib/python3.7/dist-packages (from gensim) (5.1.0)\n",
            "Installing collected packages: gensim\n",
            "  Attempting uninstall: gensim\n",
            "    Found existing installation: gensim 3.6.0\n",
            "    Uninstalling gensim-3.6.0:\n",
            "      Successfully uninstalled gensim-3.6.0\n",
            "Successfully installed gensim-4.0.1\n"
          ],
          "name": "stdout"
        }
      ]
    },
    {
      "cell_type": "code",
      "metadata": {
        "id": "Zm8DCdLPs9XS",
        "colab": {
          "base_uri": "https://localhost:8080/"
        },
        "outputId": "380ed34a-679c-431a-ba0a-603f5db402f9"
      },
      "source": [
        "import gensim.downloader as api\n",
        "wv = api.load('word2vec-google-news-300')"
      ],
      "execution_count": null,
      "outputs": [
        {
          "output_type": "stream",
          "text": [
            "[==================================================] 100.0% 1662.8/1662.8MB downloaded\n"
          ],
          "name": "stdout"
        }
      ]
    },
    {
      "cell_type": "code",
      "metadata": {
        "id": "QTFae3XT7PND",
        "colab": {
          "base_uri": "https://localhost:8080/"
        },
        "outputId": "167db10c-c9ac-48b4-829f-08c56abe88d5"
      },
      "source": [
        "import nltk\n",
        "nltk.download('stopwords')"
      ],
      "execution_count": null,
      "outputs": [
        {
          "output_type": "stream",
          "text": [
            "[nltk_data] Downloading package stopwords to /root/nltk_data...\n",
            "[nltk_data]   Unzipping corpora/stopwords.zip.\n"
          ],
          "name": "stdout"
        },
        {
          "output_type": "execute_result",
          "data": {
            "text/plain": [
              "True"
            ]
          },
          "metadata": {},
          "execution_count": 9
        }
      ]
    },
    {
      "cell_type": "code",
      "metadata": {
        "id": "Lpjv6FFlz2FW",
        "colab": {
          "base_uri": "https://localhost:8080/",
          "height": 298
        },
        "outputId": "a828af3c-431e-4b67-c0c6-0113d532d7ba"
      },
      "source": [
        "from sklearn.discriminant_analysis import LinearDiscriminantAnalysis\n",
        "import matplotlib.pyplot as plt\n",
        "from nltk.corpus import stopwords\n",
        "from nltk.tokenize import word_tokenize\n",
        "from matplotlib import pyplot\n",
        "from mpl_toolkits.mplot3d import Axes3D\n",
        "\n",
        "stop_words = set(stopwords.words('english'))\n",
        "\n",
        "vectors_arr = None\n",
        "y_arr = None\n",
        "vectors = []\n",
        "labels = []\n",
        "all_words = []\n",
        "for i, dataset in enumerate(datasets.keys()):\n",
        "    words = ' '.join([j for j in datasets[dataset].review]).split()\n",
        "    words = [w for w in words if not w.lower() in stop_words]\n",
        "    # extract the words & their vectors, as numpy arrays\n",
        "    for word in list(set(words)):\n",
        "        try:\n",
        "            vectors.append(wv[word])\n",
        "            all_words.append(word)\n",
        "            labels.append(i)\n",
        "        except:\n",
        "            pass\n",
        "\n",
        "all_words_labels = pd.DataFrame(zip(all_words, labels), columns=['word', 'label'])\n",
        "df = all_words_labels.groupby('word').count()\n",
        "passed = df[df['label']<=3].reset_index()['word'].tolist()\n",
        "\n",
        "\n",
        "all_words_labels = all_words_labels[all_words_labels['word'].isin(passed)]\n",
        "all_words_labels['vector'] = all_words_labels['word'].apply(lambda x: wv[x])\n",
        "\n",
        "all_words_labels = all_words_labels.groupby('label', group_keys=False).apply(lambda x: x.sample(80))\n",
        "\n",
        "\n",
        "X = np.asarray(all_words_labels['vector'].tolist())\n",
        "y = np.asarray(all_words_labels['label'].tolist())\n",
        "\n",
        "lda = LinearDiscriminantAnalysis(n_components=2)\n",
        "X_r2 = lda.fit(X, y).transform(X)\n",
        "\n",
        "lw = 2\n",
        "\n",
        "fig = pyplot.figure()\n",
        "\n",
        "for i, dataset in enumerate(datasets.keys()):\n",
        "    plt.scatter(X_r2[y == i, 0], X_r2[y == i, 1], alpha=0.6, label=dataset)\n",
        "plt.legend(loc='best', shadow=False, scatterpoints=1)\n",
        "plt.title('LDA of reviews dataset')"
      ],
      "execution_count": null,
      "outputs": [
        {
          "output_type": "execute_result",
          "data": {
            "text/plain": [
              "Text(0.5, 1.0, 'LDA of reviews dataset')"
            ]
          },
          "metadata": {},
          "execution_count": 20
        },
        {
          "output_type": "display_data",
          "data": {
            "image/png": "[encoded data removed]",
            "text/plain": [
              "<Figure size 432x288 with 1 Axes>"
            ]
          },
          "metadata": {
            "needs_background": "light"
          }
        }
      ]
    },
    {
      "cell_type": "code",
      "metadata": {
        "id": "tw_DhQHAzVqw",
        "colab": {
          "base_uri": "https://localhost:8080/",
          "height": 299
        },
        "outputId": "16288ad3-ff3d-491e-e4af-ba4dff33fcaf"
      },
      "source": [
        "import seaborn as sns\n",
        "\n",
        "total_counts_pd = None\n",
        "for i, dataset in enumerate(datasets.keys()):\n",
        "    words = ' '.join([j for j in datasets[dataset].review]).split()\n",
        "    words = [w for w in words if not w.lower() in stop_words]\n",
        "    counts = dict()\n",
        "    for x in words:\n",
        "        try:\n",
        "            vector = wv[x]\n",
        "            counts[x] = counts.get(x, 0) + 1\n",
        "        except:\n",
        "            pass\n",
        "    counts_pd = pd.DataFrame(counts.items(), columns =['word', 'count'])\n",
        "    counts_pd = counts_pd.sort_values(by='count', ascending=False).reset_index()\n",
        "    counts_pd = counts_pd[:200]\n",
        "    counts_pd['vector'] = counts_pd['word'].apply(lambda x: wv[x])\n",
        "    counts_pd['label'] = len(counts_pd)*[i]\n",
        "    counts_pd['label'] = counts_pd['label'].dropna()\n",
        "    total_counts_pd = counts_pd if total_counts_pd is None else pd.concat([total_counts_pd, counts_pd])\n",
        "\n",
        "X = np.asarray(total_counts_pd['vector'].tolist())\n",
        "y = np.asarray(total_counts_pd['label'].tolist())\n",
        "\n",
        "lda = LinearDiscriminantAnalysis(n_components=2)\n",
        "X_r2 = lda.fit(X, y).transform(X)\n",
        "\n",
        "for i, dataset in enumerate(datasets.keys()):\n",
        "    plt.scatter(X_r2[y == i, 0], X_r2[y == i, 1], alpha=0.6, label=dataset)\n",
        "plt.legend(loc='best', shadow=False, scatterpoints=1)\n",
        "plt.title('LDA of reviews datasets')"
      ],
      "execution_count": null,
      "outputs": [
        {
          "output_type": "execute_result",
          "data": {
            "text/plain": [
              "Text(0.5, 1.0, 'LDA of reviews datasets')"
            ]
          },
          "metadata": {},
          "execution_count": 19
        },
        {
          "output_type": "display_data",
          "data": {
            "image/png": "[encoded data removed]",
            "text/plain": [
              "<Figure size 432x288 with 1 Axes>"
            ]
          },
          "metadata": {
            "needs_background": "light"
          }
        }
      ]
    },
    {
      "cell_type": "markdown",
      "metadata": {
        "id": "b0cVB8SArBnW"
      },
      "source": [
        "#### Few shot learning"
      ]
    },
    {
      "cell_type": "code",
      "metadata": {
        "id": "tsQgzRX6pj3E"
      },
      "source": [
        "def train_test_split(data, train_size):\n",
        "    train_size = int(len(data)*train_size)\n",
        "    X_train = data[:train_size]['review']\n",
        "    X_test = data[train_size:]['review']\n",
        "    y_train = data[:train_size]['sentiment']\n",
        "    y_test = data[train_size:]['sentiment']\n",
        "    return X_train, X_test, y_train, y_test"
      ],
      "execution_count": null,
      "outputs": []
    },
    {
      "cell_type": "code",
      "metadata": {
        "colab": {
          "base_uri": "https://localhost:8080/",
          "height": 1000,
          "referenced_widgets": [
            "a6bd3a9967764863844d378371cda8c4",
            "81f719be1045478da7797f6ac8da17c1",
            "1af6d193c72c491a8343a454baf3e2a7",
            "75af55f59f8f496ba1382fd0fe6b27f0",
            "a68dd84f5a8e42b399210d9401777800",
            "3366236d40bd41a88dee215c78a84803",
            "589070561a5f40628d3afb0755710c6b",
            "82b8c72a736646c2ae7331c5f4983cb6",
            "447a37e8c36444168a7606e7fb989163",
            "e3404fca4e634b3baa9813ef1a3bd34f",
            "b80873065cfc44289d9fbbf9354503a1",
            "22a8bbfbaa7e450e8280496c055997a1",
            "e79947f262024537913047c629970561",
            "3d7a8111ff1846ab86bf0b4ba3f7c005",
            "cbeadd6776be4d42b620c1540f48681b",
            "874ccbe3c30c4c47bf1a070a61b0f1bd",
            "83adc871776a4e3e860f6efe236d1cab",
            "7e0ac72d2e75465baa4f88c63006c54a",
            "ad9502915e1b40dcba0d5654710adf4b",
            "f19b570a6b3e4e428c9fdd5d7dc2f2d7",
            "d3d6e5a3c24f41948b85b938cb9b3111",
            "bc98732850b347f2b59ad77c4b8b95e4",
            "5ef92599f4cc4cc0b8ed18a20d2ea046",
            "1984a3a86cc04114971141db9db59b4a",
            "f391909b91f145c2a084beb1930fb4e9",
            "83cbc3afcb934e05b812da2d6e0cc545",
            "cc2dddc2395147ea8d6cd0da9edf1db0",
            "e90327e9146c47aabfef4eedeef40a54",
            "15b981833edf4439969c048901294ab6",
            "9fa94bc2b23745dbbc40abf4467965a4",
            "aaf109fd3be54f5faa6bd68dbf0d36ee",
            "7a9fee99918046f3845fe51bc1732182",
            "3d808d5d9d954a0c96b681624ea2ba1e",
            "0925f90975264e3caa0fe04ad8f3e650",
            "2dc4bfa4a6534a40a96586cd5806303d",
            "ae64b661bd5e42ae94e6836ddee8dd70",
            "b0a011c7ae6f48d3bae605ab4907522c",
            "2d6a3e5866e24534bf137082d022b4f4",
            "4717fcedfbae48138b52ce9ee7a05ef1",
            "109588c488b043b28a69414501fa9e2a",
            "1df1c23a1ff343d69e8469209358c37e",
            "dedac1b75712442fb341fdb82cd0cd44",
            "959e0e0ec79341189b5d57590d612877",
            "8166bf7207ff435a9d0d33b05f24f666",
            "301a915e7fca4e8b8c94797d2f93611e",
            "bc483e1a1a5c4ecb9fa9622e614881b7",
            "765b07197c524244af41304148419d48",
            "30e3db99258845da88c9525ac6765d4f",
            "7dead28b42344618ab449351028e3808",
            "e665200a376e4c44a7571949113b0f75",
            "b0fe83e3f6ce4927bdf4c662da6f6482",
            "ec0d94aedda048dfa2fb409650f491ce",
            "f86e95f9a5104a96aa820f47665d09b4",
            "f770ed636da14405a0d9196389d9466f",
            "d5d2a2043aed432cb1c809ed4a0faf3d"
          ]
        },
        "id": "fYNRRljqdgNC",
        "outputId": "59add604-a398-4d85-e3bf-9b0d671a0a50"
      },
      "source": [
        "# datasets combos with low F1 scores\n",
        "import gc \n",
        "from sklearn.metrics import confusion_matrix, f1_score, classification_report\n",
        "\n",
        "bad_combos = [(0,3), (1,3), (2,3), (4,3), (5,3)]\n",
        "\n",
        "for i, (train_key, train_value) in enumerate(datasets.items()):\n",
        "    for j, (test_key, test_value) in enumerate(datasets.items()):\n",
        "        if (i,j) in bad_combos:\n",
        "            print(f'train: {train_key}, test: {test_key}')\n",
        "            X_train, y_train = x_y_split(train_value)\n",
        "            print(len(X_train))\n",
        "            X_train_addition, X_test, y_train_addition, y_test = train_test_split(test_value, train_size=0.2)\n",
        "            X_train = pd.concat([X_train, X_train_addition])\n",
        "            y_train = pd.concat([y_train, y_train_addition])\n",
        "            print(len(X_train))\n",
        "            tokenizer = get_bert_tokenizer()\n",
        "            train_inputs, train_masks = preprocessing_for_bert(X_train, tokenizer)\n",
        "            test_inputs, test_masks = preprocessing_for_bert(X_test, tokenizer)\n",
        "            train_dataloader = create_dataloader(train_inputs, train_masks, y_train, batch_size=8, train=True)\n",
        "            test_dataloader = create_dataloader(test_inputs, test_masks, y_test,  batch_size=8, train=False)\n",
        "\n",
        "            loss_fn = nn.CrossEntropyLoss()\n",
        "\n",
        "            torch.cuda.empty_cache()\n",
        "            gc.collect()\n",
        "\n",
        "            set_seed(42)\n",
        "            bert_classifier, optimizer, scheduler = initialize_model(epochs=2)\n",
        "\n",
        "            # train\n",
        "            train(bert_classifier, train_dataloader, epochs=2, loss_fn=loss_fn)\n",
        "\n",
        "            # predict on test\n",
        "            probs = bert_predict(bert_classifier, test_dataloader)\n",
        "\n",
        "            # Get predictions from the probabilities\n",
        "            threshold = 0.9\n",
        "            preds = np.where(probs[:, 1] > threshold, 1, 0)\n",
        "\n",
        "            print(f'train: {train_key}, test: {test_key}')\n",
        "            print(classification_report(y_test, preds))\n",
        "            score = f1_score(y_test, preds)"
      ],
      "execution_count": null,
      "outputs": [
        {
          "output_type": "stream",
          "text": [
            "train: airlines, test: weather\n",
            "4657\n",
            "4757\n"
          ],
          "name": "stdout"
        },
        {
          "output_type": "display_data",
          "data": {
            "application/vnd.jupyter.widget-view+json": {
              "model_id": "a6bd3a9967764863844d378371cda8c4",
              "version_minor": 0,
              "version_major": 2
            },
            "text/plain": [
              "Downloading:   0%|          | 0.00/232k [00:00<?, ?B/s]"
            ]
          },
          "metadata": {}
        },
        {
          "output_type": "display_data",
          "data": {
            "application/vnd.jupyter.widget-view+json": {
              "model_id": "22a8bbfbaa7e450e8280496c055997a1",
              "version_minor": 0,
              "version_major": 2
            },
            "text/plain": [
              "Downloading:   0%|          | 0.00/28.0 [00:00<?, ?B/s]"
            ]
          },
          "metadata": {}
        },
        {
          "output_type": "display_data",
          "data": {
            "application/vnd.jupyter.widget-view+json": {
              "model_id": "5ef92599f4cc4cc0b8ed18a20d2ea046",
              "version_minor": 0,
              "version_major": 2
            },
            "text/plain": [
              "Downloading:   0%|          | 0.00/466k [00:00<?, ?B/s]"
            ]
          },
          "metadata": {}
        },
        {
          "output_type": "display_data",
          "data": {
            "application/vnd.jupyter.widget-view+json": {
              "model_id": "0925f90975264e3caa0fe04ad8f3e650",
              "version_minor": 0,
              "version_major": 2
            },
            "text/plain": [
              "Downloading:   0%|          | 0.00/570 [00:00<?, ?B/s]"
            ]
          },
          "metadata": {}
        },
        {
          "output_type": "stream",
          "text": [
            "Truncation was not explicitly activated but `max_length` is provided a specific value, please use `truncation=True` to explicitly truncate examples to max length. Defaulting to 'longest_first' truncation strategy. If you encode pairs of sequences (GLUE-style) with the tokenizer you can select this strategy more precisely by providing a specific strategy to `truncation`.\n",
            "/usr/local/lib/python3.7/dist-packages/transformers/tokenization_utils_base.py:2190: FutureWarning: The `pad_to_max_length` argument is deprecated and will be removed in a future version, use `padding=True` or `padding='longest'` to pad to the longest sequence in the batch, or use `padding='max_length'` to pad to a max length. In this case, you can give a specific length with `max_length` (e.g. `max_length=45`) or leave max_length to None to pad to the maximal input size of the model (e.g. 512 for Bert).\n",
            "  FutureWarning,\n"
          ],
          "name": "stderr"
        },
        {
          "output_type": "display_data",
          "data": {
            "application/vnd.jupyter.widget-view+json": {
              "model_id": "301a915e7fca4e8b8c94797d2f93611e",
              "version_minor": 0,
              "version_major": 2
            },
            "text/plain": [
              "Downloading:   0%|          | 0.00/440M [00:00<?, ?B/s]"
            ]
          },
          "metadata": {}
        },
        {
          "output_type": "stream",
          "text": [
            "Some weights of the model checkpoint at bert-base-uncased were not used when initializing BertModel: ['cls.predictions.transform.dense.weight', 'cls.predictions.transform.LayerNorm.weight', 'cls.predictions.transform.LayerNorm.bias', 'cls.predictions.decoder.weight', 'cls.predictions.bias', 'cls.seq_relationship.weight', 'cls.predictions.transform.dense.bias', 'cls.seq_relationship.bias']\n",
            "- This IS expected if you are initializing BertModel from the checkpoint of a model trained on another task or with another architecture (e.g. initializing a BertForSequenceClassification model from a BertForPreTraining model).\n",
            "- This IS NOT expected if you are initializing BertModel from the checkpoint of a model that you expect to be exactly identical (initializing a BertForSequenceClassification model from a BertForSequenceClassification model).\n"
          ],
          "name": "stderr"
        },
        {
          "output_type": "stream",
          "text": [
            "Start training...\n",
            "\n",
            " Epoch  |  Batch  |  Train Loss  |  Val Loss  |  Val Acc  |  Elapsed \n",
            "----------------------------------------------------------------------\n",
            "   1    |   20    |   0.620375   |     -      |     -     |   15.07  \n",
            "   1    |   40    |   0.416628   |     -      |     -     |   14.34  \n",
            "   1    |   60    |   0.331770   |     -      |     -     |   14.51  \n",
            "   1    |   80    |   0.356682   |     -      |     -     |   14.67  \n",
            "   1    |   100   |   0.341697   |     -      |     -     |   14.90  \n",
            "   1    |   120   |   0.403625   |     -      |     -     |   15.00  \n",
            "   1    |   140   |   0.321691   |     -      |     -     |   15.09  \n",
            "   1    |   160   |   0.338809   |     -      |     -     |   15.18  \n",
            "   1    |   180   |   0.344681   |     -      |     -     |   15.33  \n",
            "   1    |   200   |   0.255509   |     -      |     -     |   15.41  \n",
            "   1    |   220   |   0.249869   |     -      |     -     |   15.51  \n",
            "   1    |   240   |   0.418972   |     -      |     -     |   15.69  \n",
            "   1    |   260   |   0.272185   |     -      |     -     |   15.82  \n",
            "   1    |   280   |   0.297335   |     -      |     -     |   15.92  \n",
            "   1    |   300   |   0.311032   |     -      |     -     |   15.89  \n",
            "   1    |   320   |   0.359510   |     -      |     -     |   15.87  \n",
            "   1    |   340   |   0.344607   |     -      |     -     |   15.82  \n",
            "   1    |   360   |   0.239930   |     -      |     -     |   15.81  \n",
            "   1    |   380   |   0.419833   |     -      |     -     |   15.84  \n",
            "   1    |   400   |   0.275899   |     -      |     -     |   15.89  \n",
            "   1    |   420   |   0.303651   |     -      |     -     |   15.99  \n",
            "   1    |   440   |   0.241382   |     -      |     -     |   15.93  \n",
            "   1    |   460   |   0.267223   |     -      |     -     |   15.86  \n",
            "   1    |   480   |   0.296060   |     -      |     -     |   15.87  \n",
            "   1    |   500   |   0.264171   |     -      |     -     |   15.85  \n",
            "   1    |   520   |   0.150087   |     -      |     -     |   15.87  \n",
            "   1    |   540   |   0.346517   |     -      |     -     |   15.87  \n",
            "   1    |   560   |   0.368824   |     -      |     -     |   15.84  \n",
            "   1    |   580   |   0.235615   |     -      |     -     |   15.84  \n",
            "   1    |   594   |   0.301714   |     -      |     -     |   10.84  \n",
            "----------------------------------------------------------------------\n",
            "\n",
            "\n",
            " Epoch  |  Batch  |  Train Loss  |  Val Loss  |  Val Acc  |  Elapsed \n",
            "----------------------------------------------------------------------\n",
            "   2    |   20    |   0.168989   |     -      |     -     |   16.76  \n",
            "   2    |   40    |   0.099708   |     -      |     -     |   15.90  \n",
            "   2    |   60    |   0.152035   |     -      |     -     |   15.85  \n",
            "   2    |   80    |   0.116529   |     -      |     -     |   15.81  \n",
            "   2    |   100   |   0.062283   |     -      |     -     |   15.83  \n",
            "   2    |   120   |   0.143531   |     -      |     -     |   15.83  \n",
            "   2    |   140   |   0.106568   |     -      |     -     |   15.82  \n",
            "   2    |   160   |   0.105845   |     -      |     -     |   15.84  \n",
            "   2    |   180   |   0.129127   |     -      |     -     |   15.86  \n",
            "   2    |   200   |   0.247488   |     -      |     -     |   15.93  \n",
            "   2    |   220   |   0.192975   |     -      |     -     |   15.86  \n",
            "   2    |   240   |   0.108056   |     -      |     -     |   15.84  \n",
            "   2    |   260   |   0.166722   |     -      |     -     |   15.83  \n",
            "   2    |   280   |   0.133813   |     -      |     -     |   15.83  \n",
            "   2    |   300   |   0.147727   |     -      |     -     |   15.82  \n",
            "   2    |   320   |   0.089425   |     -      |     -     |   15.83  \n",
            "   2    |   340   |   0.075240   |     -      |     -     |   15.80  \n",
            "   2    |   360   |   0.133542   |     -      |     -     |   15.78  \n",
            "   2    |   380   |   0.176120   |     -      |     -     |   15.84  \n",
            "   2    |   400   |   0.047841   |     -      |     -     |   15.91  \n",
            "   2    |   420   |   0.089372   |     -      |     -     |   15.91  \n",
            "   2    |   440   |   0.068275   |     -      |     -     |   15.85  \n",
            "   2    |   460   |   0.212414   |     -      |     -     |   15.80  \n",
            "   2    |   480   |   0.129019   |     -      |     -     |   15.76  \n",
            "   2    |   500   |   0.153438   |     -      |     -     |   15.83  \n",
            "   2    |   520   |   0.114275   |     -      |     -     |   15.87  \n",
            "   2    |   540   |   0.059291   |     -      |     -     |   15.95  \n",
            "   2    |   560   |   0.101641   |     -      |     -     |   15.85  \n",
            "   2    |   580   |   0.159664   |     -      |     -     |   15.82  \n",
            "   2    |   594   |   0.092820   |     -      |     -     |   10.76  \n",
            "----------------------------------------------------------------------\n",
            "\n",
            "\n",
            "Training complete!\n",
            "train: airlines, test: weather\n",
            "              precision    recall  f1-score   support\n",
            "\n",
            "           0       0.40      0.58      0.47       189\n",
            "           1       0.39      0.24      0.30       213\n",
            "\n",
            "    accuracy                           0.40       402\n",
            "   macro avg       0.40      0.41      0.39       402\n",
            "weighted avg       0.40      0.40      0.38       402\n",
            "\n",
            "train: ebay, test: weather\n",
            "4014\n",
            "4114\n"
          ],
          "name": "stdout"
        },
        {
          "output_type": "stream",
          "text": [
            "Truncation was not explicitly activated but `max_length` is provided a specific value, please use `truncation=True` to explicitly truncate examples to max length. Defaulting to 'longest_first' truncation strategy. If you encode pairs of sequences (GLUE-style) with the tokenizer you can select this strategy more precisely by providing a specific strategy to `truncation`.\n",
            "Some weights of the model checkpoint at bert-base-uncased were not used when initializing BertModel: ['cls.predictions.transform.dense.weight', 'cls.predictions.transform.LayerNorm.weight', 'cls.predictions.transform.LayerNorm.bias', 'cls.predictions.decoder.weight', 'cls.predictions.bias', 'cls.seq_relationship.weight', 'cls.predictions.transform.dense.bias', 'cls.seq_relationship.bias']\n",
            "- This IS expected if you are initializing BertModel from the checkpoint of a model trained on another task or with another architecture (e.g. initializing a BertForSequenceClassification model from a BertForPreTraining model).\n",
            "- This IS NOT expected if you are initializing BertModel from the checkpoint of a model that you expect to be exactly identical (initializing a BertForSequenceClassification model from a BertForSequenceClassification model).\n"
          ],
          "name": "stderr"
        },
        {
          "output_type": "stream",
          "text": [
            "Start training...\n",
            "\n",
            " Epoch  |  Batch  |  Train Loss  |  Val Loss  |  Val Acc  |  Elapsed \n",
            "----------------------------------------------------------------------\n",
            "   1    |   20    |   0.643702   |     -      |     -     |   16.73  \n",
            "   1    |   40    |   0.390492   |     -      |     -     |   16.34  \n",
            "   1    |   60    |   0.443905   |     -      |     -     |   16.08  \n",
            "   1    |   80    |   0.432165   |     -      |     -     |   15.87  \n",
            "   1    |   100   |   0.410606   |     -      |     -     |   15.82  \n",
            "   1    |   120   |   0.456409   |     -      |     -     |   15.86  \n",
            "   1    |   140   |   0.433756   |     -      |     -     |   16.01  \n",
            "   1    |   160   |   0.346490   |     -      |     -     |   15.99  \n",
            "   1    |   180   |   0.390238   |     -      |     -     |   15.98  \n",
            "   1    |   200   |   0.240576   |     -      |     -     |   15.97  \n",
            "   1    |   220   |   0.563648   |     -      |     -     |   15.90  \n",
            "   1    |   240   |   0.306614   |     -      |     -     |   15.90  \n",
            "   1    |   260   |   0.383859   |     -      |     -     |   15.95  \n",
            "   1    |   280   |   0.343745   |     -      |     -     |   15.96  \n",
            "   1    |   300   |   0.201309   |     -      |     -     |   15.94  \n",
            "   1    |   320   |   0.216667   |     -      |     -     |   15.98  \n",
            "   1    |   340   |   0.361651   |     -      |     -     |   15.96  \n",
            "   1    |   360   |   0.336720   |     -      |     -     |   15.98  \n",
            "   1    |   380   |   0.362065   |     -      |     -     |   16.08  \n",
            "   1    |   400   |   0.431712   |     -      |     -     |   16.00  \n",
            "   1    |   420   |   0.220848   |     -      |     -     |   15.97  \n",
            "   1    |   440   |   0.335536   |     -      |     -     |   15.95  \n",
            "   1    |   460   |   0.311299   |     -      |     -     |   15.94  \n",
            "   1    |   480   |   0.375120   |     -      |     -     |   15.94  \n",
            "   1    |   500   |   0.316739   |     -      |     -     |   15.95  \n",
            "   1    |   514   |   0.327573   |     -      |     -     |   10.61  \n",
            "----------------------------------------------------------------------\n",
            "\n",
            "\n",
            " Epoch  |  Batch  |  Train Loss  |  Val Loss  |  Val Acc  |  Elapsed \n",
            "----------------------------------------------------------------------\n",
            "   2    |   20    |   0.166194   |     -      |     -     |   16.69  \n",
            "   2    |   40    |   0.145599   |     -      |     -     |   15.92  \n",
            "   2    |   60    |   0.154874   |     -      |     -     |   15.89  \n",
            "   2    |   80    |   0.271250   |     -      |     -     |   15.88  \n",
            "   2    |   100   |   0.101881   |     -      |     -     |   15.90  \n",
            "   2    |   120   |   0.181121   |     -      |     -     |   15.94  \n",
            "   2    |   140   |   0.144151   |     -      |     -     |   15.91  \n",
            "   2    |   160   |   0.217671   |     -      |     -     |   15.95  \n",
            "   2    |   180   |   0.230426   |     -      |     -     |   15.93  \n",
            "   2    |   200   |   0.165393   |     -      |     -     |   15.93  \n",
            "   2    |   220   |   0.166857   |     -      |     -     |   15.94  \n",
            "   2    |   240   |   0.263784   |     -      |     -     |   15.89  \n",
            "   2    |   260   |   0.170153   |     -      |     -     |   15.94  \n",
            "   2    |   280   |   0.231380   |     -      |     -     |   15.94  \n",
            "   2    |   300   |   0.114222   |     -      |     -     |   15.95  \n",
            "   2    |   320   |   0.118585   |     -      |     -     |   15.91  \n",
            "   2    |   340   |   0.145815   |     -      |     -     |   15.95  \n",
            "   2    |   360   |   0.231054   |     -      |     -     |   15.95  \n",
            "   2    |   380   |   0.154500   |     -      |     -     |   15.93  \n",
            "   2    |   400   |   0.071798   |     -      |     -     |   15.91  \n",
            "   2    |   420   |   0.072063   |     -      |     -     |   15.90  \n",
            "   2    |   440   |   0.188303   |     -      |     -     |   15.90  \n",
            "   2    |   460   |   0.242074   |     -      |     -     |   15.87  \n",
            "   2    |   480   |   0.151336   |     -      |     -     |   15.85  \n",
            "   2    |   500   |   0.213147   |     -      |     -     |   15.87  \n",
            "   2    |   514   |   0.248894   |     -      |     -     |   10.59  \n",
            "----------------------------------------------------------------------\n",
            "\n",
            "\n",
            "Training complete!\n",
            "train: ebay, test: weather\n",
            "              precision    recall  f1-score   support\n",
            "\n",
            "           0       0.46      0.67      0.54       189\n",
            "           1       0.50      0.29      0.36       213\n",
            "\n",
            "    accuracy                           0.47       402\n",
            "   macro avg       0.48      0.48      0.45       402\n",
            "weighted avg       0.48      0.47      0.45       402\n",
            "\n",
            "train: hotels, test: weather\n",
            "16060\n",
            "16160\n"
          ],
          "name": "stdout"
        },
        {
          "output_type": "stream",
          "text": [
            "Truncation was not explicitly activated but `max_length` is provided a specific value, please use `truncation=True` to explicitly truncate examples to max length. Defaulting to 'longest_first' truncation strategy. If you encode pairs of sequences (GLUE-style) with the tokenizer you can select this strategy more precisely by providing a specific strategy to `truncation`.\n",
            "Some weights of the model checkpoint at bert-base-uncased were not used when initializing BertModel: ['cls.predictions.transform.dense.weight', 'cls.predictions.transform.LayerNorm.weight', 'cls.predictions.transform.LayerNorm.bias', 'cls.predictions.decoder.weight', 'cls.predictions.bias', 'cls.seq_relationship.weight', 'cls.predictions.transform.dense.bias', 'cls.seq_relationship.bias']\n",
            "- This IS expected if you are initializing BertModel from the checkpoint of a model trained on another task or with another architecture (e.g. initializing a BertForSequenceClassification model from a BertForPreTraining model).\n",
            "- This IS NOT expected if you are initializing BertModel from the checkpoint of a model that you expect to be exactly identical (initializing a BertForSequenceClassification model from a BertForSequenceClassification model).\n"
          ],
          "name": "stderr"
        },
        {
          "output_type": "stream",
          "text": [
            "Start training...\n",
            "\n",
            " Epoch  |  Batch  |  Train Loss  |  Val Loss  |  Val Acc  |  Elapsed \n",
            "----------------------------------------------------------------------\n",
            "   1    |   20    |   0.594946   |     -      |     -     |   16.81  \n",
            "   1    |   40    |   0.503613   |     -      |     -     |   16.68  \n",
            "   1    |   60    |   0.279346   |     -      |     -     |   16.44  \n",
            "   1    |   80    |   0.312665   |     -      |     -     |   16.05  \n",
            "   1    |   100   |   0.330441   |     -      |     -     |   15.85  \n",
            "   1    |   120   |   0.280686   |     -      |     -     |   15.95  \n",
            "   1    |   140   |   0.250018   |     -      |     -     |   16.10  \n",
            "   1    |   160   |   0.331037   |     -      |     -     |   16.17  \n",
            "   1    |   180   |   0.393384   |     -      |     -     |   16.10  \n",
            "   1    |   200   |   0.238546   |     -      |     -     |   16.06  \n",
            "   1    |   220   |   0.264365   |     -      |     -     |   16.08  \n",
            "   1    |   240   |   0.360747   |     -      |     -     |   16.08  \n",
            "   1    |   260   |   0.313156   |     -      |     -     |   15.98  \n",
            "   1    |   280   |   0.292614   |     -      |     -     |   16.01  \n",
            "   1    |   300   |   0.287020   |     -      |     -     |   16.01  \n",
            "   1    |   320   |   0.266788   |     -      |     -     |   16.07  \n",
            "   1    |   340   |   0.102363   |     -      |     -     |   16.06  \n",
            "   1    |   360   |   0.492083   |     -      |     -     |   16.10  \n",
            "   1    |   380   |   0.281396   |     -      |     -     |   16.10  \n",
            "   1    |   400   |   0.385951   |     -      |     -     |   16.12  \n",
            "   1    |   420   |   0.404296   |     -      |     -     |   16.07  \n",
            "   1    |   440   |   0.304130   |     -      |     -     |   16.08  \n",
            "   1    |   460   |   0.268706   |     -      |     -     |   16.06  \n",
            "   1    |   480   |   0.280410   |     -      |     -     |   16.00  \n",
            "   1    |   500   |   0.326253   |     -      |     -     |   16.02  \n",
            "   1    |   520   |   0.277809   |     -      |     -     |   16.04  \n",
            "   1    |   540   |   0.365187   |     -      |     -     |   16.06  \n",
            "   1    |   560   |   0.204429   |     -      |     -     |   16.00  \n",
            "   1    |   580   |   0.255257   |     -      |     -     |   16.03  \n",
            "   1    |   600   |   0.284800   |     -      |     -     |   16.06  \n",
            "   1    |   620   |   0.165150   |     -      |     -     |   16.03  \n",
            "   1    |   640   |   0.454150   |     -      |     -     |   16.04  \n",
            "   1    |   660   |   0.214716   |     -      |     -     |   16.05  \n",
            "   1    |   680   |   0.379506   |     -      |     -     |   16.02  \n",
            "   1    |   700   |   0.206882   |     -      |     -     |   16.01  \n",
            "   1    |   720   |   0.329183   |     -      |     -     |   16.05  \n",
            "   1    |   740   |   0.285848   |     -      |     -     |   16.03  \n",
            "   1    |   760   |   0.293422   |     -      |     -     |   15.99  \n",
            "   1    |   780   |   0.260235   |     -      |     -     |   16.04  \n",
            "   1    |   800   |   0.304902   |     -      |     -     |   16.04  \n",
            "   1    |   820   |   0.226723   |     -      |     -     |   16.02  \n",
            "   1    |   840   |   0.158378   |     -      |     -     |   16.05  \n",
            "   1    |   860   |   0.296035   |     -      |     -     |   16.01  \n",
            "   1    |   880   |   0.167626   |     -      |     -     |   16.05  \n",
            "   1    |   900   |   0.322201   |     -      |     -     |   16.04  \n",
            "   1    |   920   |   0.233932   |     -      |     -     |   16.05  \n",
            "   1    |   940   |   0.306627   |     -      |     -     |   16.04  \n",
            "   1    |   960   |   0.324734   |     -      |     -     |   16.05  \n",
            "   1    |   980   |   0.222683   |     -      |     -     |   16.02  \n",
            "   1    |  1000   |   0.293600   |     -      |     -     |   16.02  \n",
            "   1    |  1020   |   0.356989   |     -      |     -     |   16.05  \n",
            "   1    |  1040   |   0.226819   |     -      |     -     |   16.01  \n",
            "   1    |  1060   |   0.238839   |     -      |     -     |   16.05  \n",
            "   1    |  1080   |   0.261333   |     -      |     -     |   16.09  \n",
            "   1    |  1100   |   0.257232   |     -      |     -     |   16.07  \n",
            "   1    |  1120   |   0.240737   |     -      |     -     |   16.05  \n",
            "   1    |  1140   |   0.219898   |     -      |     -     |   16.03  \n",
            "   1    |  1160   |   0.230758   |     -      |     -     |   16.02  \n",
            "   1    |  1180   |   0.279534   |     -      |     -     |   15.99  \n",
            "   1    |  1200   |   0.207414   |     -      |     -     |   16.00  \n",
            "   1    |  1220   |   0.283151   |     -      |     -     |   16.02  \n",
            "   1    |  1240   |   0.264531   |     -      |     -     |   16.04  \n",
            "   1    |  1260   |   0.357367   |     -      |     -     |   16.03  \n",
            "   1    |  1280   |   0.360529   |     -      |     -     |   16.08  \n",
            "   1    |  1300   |   0.115384   |     -      |     -     |   16.02  \n",
            "   1    |  1320   |   0.265014   |     -      |     -     |   16.02  \n",
            "   1    |  1340   |   0.321160   |     -      |     -     |   16.07  \n",
            "   1    |  1360   |   0.220197   |     -      |     -     |   16.05  \n",
            "   1    |  1380   |   0.181476   |     -      |     -     |   16.06  \n",
            "   1    |  1400   |   0.237917   |     -      |     -     |   16.02  \n",
            "   1    |  1420   |   0.227722   |     -      |     -     |   16.02  \n",
            "   1    |  1440   |   0.184895   |     -      |     -     |   16.04  \n",
            "   1    |  1460   |   0.369450   |     -      |     -     |   16.03  \n",
            "   1    |  1480   |   0.215285   |     -      |     -     |   16.04  \n",
            "   1    |  1500   |   0.219278   |     -      |     -     |   16.04  \n",
            "   1    |  1520   |   0.278265   |     -      |     -     |   15.99  \n",
            "   1    |  1540   |   0.332202   |     -      |     -     |   16.03  \n",
            "   1    |  1560   |   0.089892   |     -      |     -     |   16.03  \n",
            "   1    |  1580   |   0.178485   |     -      |     -     |   16.00  \n",
            "   1    |  1600   |   0.179019   |     -      |     -     |   16.04  \n",
            "   1    |  1620   |   0.333115   |     -      |     -     |   16.03  \n",
            "   1    |  1640   |   0.231867   |     -      |     -     |   16.05  \n",
            "   1    |  1660   |   0.271747   |     -      |     -     |   16.03  \n",
            "   1    |  1680   |   0.309454   |     -      |     -     |   16.07  \n",
            "   1    |  1700   |   0.238430   |     -      |     -     |   16.07  \n",
            "   1    |  1720   |   0.225713   |     -      |     -     |   16.06  \n",
            "   1    |  1740   |   0.180320   |     -      |     -     |   16.09  \n",
            "   1    |  1760   |   0.167221   |     -      |     -     |   16.03  \n",
            "   1    |  1780   |   0.240111   |     -      |     -     |   16.03  \n",
            "   1    |  1800   |   0.162824   |     -      |     -     |   16.03  \n",
            "   1    |  1820   |   0.325793   |     -      |     -     |   16.07  \n",
            "   1    |  1840   |   0.288287   |     -      |     -     |   16.05  \n",
            "   1    |  1860   |   0.307464   |     -      |     -     |   16.04  \n",
            "   1    |  1880   |   0.166224   |     -      |     -     |   16.05  \n",
            "   1    |  1900   |   0.323077   |     -      |     -     |   16.08  \n",
            "   1    |  1920   |   0.183439   |     -      |     -     |   16.05  \n",
            "   1    |  1940   |   0.233430   |     -      |     -     |   16.05  \n",
            "   1    |  1960   |   0.167240   |     -      |     -     |   16.06  \n",
            "   1    |  1980   |   0.175565   |     -      |     -     |   16.05  \n",
            "   1    |  2000   |   0.181829   |     -      |     -     |   16.04  \n",
            "   1    |  2019   |   0.199364   |     -      |     -     |   15.21  \n",
            "----------------------------------------------------------------------\n",
            "\n",
            "\n",
            " Epoch  |  Batch  |  Train Loss  |  Val Loss  |  Val Acc  |  Elapsed \n",
            "----------------------------------------------------------------------\n",
            "   2    |   20    |   0.103294   |     -      |     -     |   16.83  \n",
            "   2    |   40    |   0.141133   |     -      |     -     |   15.98  \n",
            "   2    |   60    |   0.189236   |     -      |     -     |   16.02  \n",
            "   2    |   80    |   0.156390   |     -      |     -     |   16.04  \n",
            "   2    |   100   |   0.069872   |     -      |     -     |   16.01  \n",
            "   2    |   120   |   0.106589   |     -      |     -     |   16.06  \n",
            "   2    |   140   |   0.147954   |     -      |     -     |   16.08  \n",
            "   2    |   160   |   0.071454   |     -      |     -     |   16.01  \n",
            "   2    |   180   |   0.192519   |     -      |     -     |   16.03  \n",
            "   2    |   200   |   0.191491   |     -      |     -     |   16.00  \n",
            "   2    |   220   |   0.091940   |     -      |     -     |   16.03  \n",
            "   2    |   240   |   0.238004   |     -      |     -     |   16.03  \n",
            "   2    |   260   |   0.125386   |     -      |     -     |   16.06  \n",
            "   2    |   280   |   0.053622   |     -      |     -     |   16.05  \n",
            "   2    |   300   |   0.162572   |     -      |     -     |   16.07  \n",
            "   2    |   320   |   0.191591   |     -      |     -     |   16.01  \n",
            "   2    |   340   |   0.148846   |     -      |     -     |   16.04  \n",
            "   2    |   360   |   0.075760   |     -      |     -     |   16.02  \n",
            "   2    |   380   |   0.095853   |     -      |     -     |   16.02  \n"
          ],
          "name": "stdout"
        }
      ]
    },
    {
      "cell_type": "code",
      "metadata": {
        "id": "6piRLqSRaCfB"
      },
      "source": [
        ""
      ],
      "execution_count": null,
      "outputs": []
    }
  ]
}